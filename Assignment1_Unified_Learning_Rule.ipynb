{
  "nbformat": 4,
  "nbformat_minor": 0,
  "metadata": {
    "colab": {
      "name": "NNFL_Assignment1_Unified_Learning_Rule.ipynb",
      "provenance": [],
      "mount_file_id": "1wkeNdA2iF5NPHVPF_EnEjHAok-axre4v",
      "authorship_tag": "ABX9TyMYKiSKEfcbbBMNoYCA94T1",
      "include_colab_link": true
    },
    "kernelspec": {
      "name": "python3",
      "display_name": "Python 3"
    }
  },
  "cells": [
    {
      "cell_type": "markdown",
      "metadata": {
        "id": "view-in-github",
        "colab_type": "text"
      },
      "source": [
        "<a href=\"https://colab.research.google.com/github/SusmitWani/NNFL-Course-Fall-2020/blob/master/Assignment1_Unified_Learning_Rule.ipynb\" target=\"_parent\"><img src=\"https://colab.research.google.com/assets/colab-badge.svg\" alt=\"Open In Colab\"/></a>"
      ]
    },
    {
      "cell_type": "markdown",
      "metadata": {
        "id": "ceiu89wahQkS",
        "colab_type": "text"
      },
      "source": [
        "#Importing required libraries"
      ]
    },
    {
      "cell_type": "code",
      "metadata": {
        "id": "VnJNkEVB3KkX",
        "colab_type": "code",
        "colab": {}
      },
      "source": [
        "import numpy as np\n",
        "import pandas as pd"
      ],
      "execution_count": 1,
      "outputs": []
    },
    {
      "cell_type": "markdown",
      "metadata": {
        "id": "BTWtCWP3g2Ch",
        "colab_type": "text"
      },
      "source": [
        "#Importing and cleaning the dataframe.\n",
        "######*Dataset taken from an event organised by CTE BITS Goa*\n"
      ]
    },
    {
      "cell_type": "code",
      "metadata": {
        "id": "yUSBik--3Yfj",
        "colab_type": "code",
        "colab": {
          "base_uri": "https://localhost:8080/",
          "height": 299
        },
        "outputId": "c0fde694-1c0f-4ec6-ed60-79dc6387c445"
      },
      "source": [
        "df = pd.read_csv('/content/drive/My Drive/cte-ml-hack-2019/train_real.csv')\n",
        "for i in range (len(df.Soil)):\n",
        "  df.Soil[i] = df.Soil[i][10:]\n",
        "df.Soil = df.Soil.astype(int)\n",
        "df.head()"
      ],
      "execution_count": 2,
      "outputs": [
        {
          "output_type": "stream",
          "text": [
            "/usr/local/lib/python3.6/dist-packages/ipykernel_launcher.py:3: SettingWithCopyWarning: \n",
            "A value is trying to be set on a copy of a slice from a DataFrame\n",
            "\n",
            "See the caveats in the documentation: https://pandas.pydata.org/pandas-docs/stable/user_guide/indexing.html#returning-a-view-versus-a-copy\n",
            "  This is separate from the ipykernel package so we can avoid doing imports until\n"
          ],
          "name": "stderr"
        },
        {
          "output_type": "execute_result",
          "data": {
            "text/html": [
              "<div>\n",
              "<style scoped>\n",
              "    .dataframe tbody tr th:only-of-type {\n",
              "        vertical-align: middle;\n",
              "    }\n",
              "\n",
              "    .dataframe tbody tr th {\n",
              "        vertical-align: top;\n",
              "    }\n",
              "\n",
              "    .dataframe thead th {\n",
              "        text-align: right;\n",
              "    }\n",
              "</style>\n",
              "<table border=\"1\" class=\"dataframe\">\n",
              "  <thead>\n",
              "    <tr style=\"text-align: right;\">\n",
              "      <th></th>\n",
              "      <th>Id</th>\n",
              "      <th>Altitude</th>\n",
              "      <th>Azimuthal_angle</th>\n",
              "      <th>Incline</th>\n",
              "      <th>H_dist_Hydro</th>\n",
              "      <th>V_dist_Hydro</th>\n",
              "      <th>H_dist_Road</th>\n",
              "      <th>Hillshade_9am</th>\n",
              "      <th>Hillshade_Noon</th>\n",
              "      <th>Hillshade_3pm</th>\n",
              "      <th>H_dist_Fire</th>\n",
              "      <th>Wilderness_Area_A</th>\n",
              "      <th>Wilderness_Area_B</th>\n",
              "      <th>Wilderness_Area_C</th>\n",
              "      <th>Wilderness_Area_D</th>\n",
              "      <th>Soil</th>\n",
              "      <th>label</th>\n",
              "    </tr>\n",
              "  </thead>\n",
              "  <tbody>\n",
              "    <tr>\n",
              "      <th>0</th>\n",
              "      <td>1</td>\n",
              "      <td>594</td>\n",
              "      <td>738</td>\n",
              "      <td>167</td>\n",
              "      <td>48</td>\n",
              "      <td>243</td>\n",
              "      <td>421</td>\n",
              "      <td>759</td>\n",
              "      <td>964</td>\n",
              "      <td>751</td>\n",
              "      <td>114</td>\n",
              "      <td>0</td>\n",
              "      <td>0</td>\n",
              "      <td>1</td>\n",
              "      <td>0</td>\n",
              "      <td>23</td>\n",
              "      <td>-1</td>\n",
              "    </tr>\n",
              "    <tr>\n",
              "      <th>1</th>\n",
              "      <td>2</td>\n",
              "      <td>343</td>\n",
              "      <td>103</td>\n",
              "      <td>212</td>\n",
              "      <td>43</td>\n",
              "      <td>239</td>\n",
              "      <td>25</td>\n",
              "      <td>861</td>\n",
              "      <td>818</td>\n",
              "      <td>480</td>\n",
              "      <td>208</td>\n",
              "      <td>0</td>\n",
              "      <td>0</td>\n",
              "      <td>1</td>\n",
              "      <td>0</td>\n",
              "      <td>10</td>\n",
              "      <td>-1</td>\n",
              "    </tr>\n",
              "    <tr>\n",
              "      <th>2</th>\n",
              "      <td>3</td>\n",
              "      <td>563</td>\n",
              "      <td>233</td>\n",
              "      <td>167</td>\n",
              "      <td>77</td>\n",
              "      <td>228</td>\n",
              "      <td>555</td>\n",
              "      <td>928</td>\n",
              "      <td>869</td>\n",
              "      <td>452</td>\n",
              "      <td>360</td>\n",
              "      <td>1</td>\n",
              "      <td>0</td>\n",
              "      <td>0</td>\n",
              "      <td>0</td>\n",
              "      <td>1</td>\n",
              "      <td>-1</td>\n",
              "    </tr>\n",
              "    <tr>\n",
              "      <th>3</th>\n",
              "      <td>4</td>\n",
              "      <td>715</td>\n",
              "      <td>602</td>\n",
              "      <td>136</td>\n",
              "      <td>193</td>\n",
              "      <td>289</td>\n",
              "      <td>175</td>\n",
              "      <td>830</td>\n",
              "      <td>979</td>\n",
              "      <td>684</td>\n",
              "      <td>164</td>\n",
              "      <td>0</td>\n",
              "      <td>0</td>\n",
              "      <td>1</td>\n",
              "      <td>0</td>\n",
              "      <td>32</td>\n",
              "      <td>-1</td>\n",
              "    </tr>\n",
              "    <tr>\n",
              "      <th>4</th>\n",
              "      <td>5</td>\n",
              "      <td>672</td>\n",
              "      <td>519</td>\n",
              "      <td>136</td>\n",
              "      <td>231</td>\n",
              "      <td>292</td>\n",
              "      <td>122</td>\n",
              "      <td>869</td>\n",
              "      <td>971</td>\n",
              "      <td>625</td>\n",
              "      <td>45</td>\n",
              "      <td>0</td>\n",
              "      <td>0</td>\n",
              "      <td>1</td>\n",
              "      <td>0</td>\n",
              "      <td>32</td>\n",
              "      <td>-1</td>\n",
              "    </tr>\n",
              "  </tbody>\n",
              "</table>\n",
              "</div>"
            ],
            "text/plain": [
              "   Id  Altitude  Azimuthal_angle  ...  Wilderness_Area_D  Soil  label\n",
              "0   1       594              738  ...                  0    23     -1\n",
              "1   2       343              103  ...                  0    10     -1\n",
              "2   3       563              233  ...                  0     1     -1\n",
              "3   4       715              602  ...                  0    32     -1\n",
              "4   5       672              519  ...                  0    32     -1\n",
              "\n",
              "[5 rows x 17 columns]"
            ]
          },
          "metadata": {
            "tags": []
          },
          "execution_count": 2
        }
      ]
    },
    {
      "cell_type": "markdown",
      "metadata": {
        "id": "_XjWEypah0oy",
        "colab_type": "text"
      },
      "source": [
        "#####Check if there are any missing entries or object data\n"
      ]
    },
    {
      "cell_type": "code",
      "metadata": {
        "id": "sDP4Aj56hopX",
        "colab_type": "code",
        "colab": {
          "base_uri": "https://localhost:8080/",
          "height": 420
        },
        "outputId": "857f2c8a-9add-4492-c1ae-1aafa7c749be"
      },
      "source": [
        "df.info()"
      ],
      "execution_count": 3,
      "outputs": [
        {
          "output_type": "stream",
          "text": [
            "<class 'pandas.core.frame.DataFrame'>\n",
            "RangeIndex: 12395 entries, 0 to 12394\n",
            "Data columns (total 17 columns):\n",
            " #   Column             Non-Null Count  Dtype\n",
            "---  ------             --------------  -----\n",
            " 0   Id                 12395 non-null  int64\n",
            " 1   Altitude           12395 non-null  int64\n",
            " 2   Azimuthal_angle    12395 non-null  int64\n",
            " 3   Incline            12395 non-null  int64\n",
            " 4   H_dist_Hydro       12395 non-null  int64\n",
            " 5   V_dist_Hydro       12395 non-null  int64\n",
            " 6   H_dist_Road        12395 non-null  int64\n",
            " 7   Hillshade_9am      12395 non-null  int64\n",
            " 8   Hillshade_Noon     12395 non-null  int64\n",
            " 9   Hillshade_3pm      12395 non-null  int64\n",
            " 10  H_dist_Fire        12395 non-null  int64\n",
            " 11  Wilderness_Area_A  12395 non-null  int64\n",
            " 12  Wilderness_Area_B  12395 non-null  int64\n",
            " 13  Wilderness_Area_C  12395 non-null  int64\n",
            " 14  Wilderness_Area_D  12395 non-null  int64\n",
            " 15  Soil               12395 non-null  int64\n",
            " 16  label              12395 non-null  int64\n",
            "dtypes: int64(17)\n",
            "memory usage: 1.6 MB\n"
          ],
          "name": "stdout"
        }
      ]
    },
    {
      "cell_type": "code",
      "metadata": {
        "id": "0v4qdF63iiUQ",
        "colab_type": "code",
        "colab": {}
      },
      "source": [
        "X = df[['Altitude', 'Azimuthal_angle', 'Incline', 'H_dist_Hydro',\n",
        "       'V_dist_Hydro', 'H_dist_Road', 'Hillshade_9am', 'Hillshade_Noon',\n",
        "       'Hillshade_3pm', 'H_dist_Fire', 'Wilderness_Area_A',\n",
        "       'Wilderness_Area_B', 'Wilderness_Area_C', 'Wilderness_Area_D', 'Soil']]\n",
        "y = df['label']"
      ],
      "execution_count": 4,
      "outputs": []
    },
    {
      "cell_type": "code",
      "metadata": {
        "id": "yFnUDk5Im3h6",
        "colab_type": "code",
        "colab": {}
      },
      "source": [
        "from sklearn.model_selection import train_test_split\n",
        "X_train, X_test, y_train, y_test = train_test_split(X, y, test_size = 0.2, random_state=42)"
      ],
      "execution_count": 5,
      "outputs": []
    },
    {
      "cell_type": "markdown",
      "metadata": {
        "id": "zf4op075iKMC",
        "colab_type": "text"
      },
      "source": [
        "#Code to actually train the perceptron"
      ]
    },
    {
      "cell_type": "code",
      "metadata": {
        "id": "kq8j-0T4pvns",
        "colab_type": "code",
        "colab": {}
      },
      "source": [
        "#Function will return value -1 if input is negative. Else will return 1\n",
        "\n",
        "def modified_sigmoid(n):\n",
        "    sig = 1/(1+(np.exp(-n)))\n",
        "    if sig<0.5:\n",
        "        return -1\n",
        "    return 1"
      ],
      "execution_count": 6,
      "outputs": []
    },
    {
      "cell_type": "code",
      "metadata": {
        "id": "sGDAAPdnkslp",
        "colab_type": "code",
        "colab": {}
      },
      "source": [
        "#Function will initialize W and b vectors as zeros of required dimensions.\n",
        "\n",
        "def initialize(X):\n",
        "    num_cols = X.shape[1]\n",
        "    num_data = X.shape[0]\n",
        "\n",
        "    W = np.zeros([num_cols,])\n",
        "    b = 0\n",
        "    return W, b, num_data"
      ],
      "execution_count": 7,
      "outputs": []
    },
    {
      "cell_type": "code",
      "metadata": {
        "id": "DfzyrXlhmR59",
        "colab_type": "code",
        "colab": {
          "base_uri": "https://localhost:8080/",
          "height": 50
        },
        "outputId": "3c102ce2-17cc-4220-b2a4-dedef6fecc95"
      },
      "source": [
        "#Function where actual learning takes place by the Unified Learning Rule\n",
        "\n",
        "def train_ULR(X_train, y_train):\n",
        "    W, b, num_data = initialize(X_train)\n",
        "    for i in range(num_data):\n",
        "        y_pred = modified_sigmoid((np.dot(W.T, X_train.iloc[i].values) + b).reshape(1))\n",
        "        e = y[i] - y_pred\n",
        "        if e==2:\n",
        "            W = W + X_train.iloc[i].values\n",
        "            b = b + 1\n",
        "        elif e==-2:\n",
        "            W = W - X_train.iloc[i].values\n",
        "            b = b - 1\n",
        "    return W, b\n",
        "\n",
        "W_final, b_final = train_ULR(X_train, y_train)"
      ],
      "execution_count": 8,
      "outputs": [
        {
          "output_type": "stream",
          "text": [
            "/usr/local/lib/python3.6/dist-packages/ipykernel_launcher.py:4: RuntimeWarning: overflow encountered in exp\n",
            "  after removing the cwd from sys.path.\n"
          ],
          "name": "stderr"
        }
      ]
    },
    {
      "cell_type": "code",
      "metadata": {
        "id": "RjNutupltN5E",
        "colab_type": "code",
        "colab": {
          "base_uri": "https://localhost:8080/",
          "height": 50
        },
        "outputId": "cae8ec73-5e1d-4a63-fdf4-1c677fc35cf3"
      },
      "source": [
        "#Function which validates the obtained W and b values on the validation set\n",
        "\n",
        "def validation(X_test, y_test, W_final, b_final):\n",
        "    num_data = X_test.shape[0]\n",
        "    correct_pred = 0\n",
        "    y_pred = []\n",
        "    for i in range(num_data):\n",
        "        y_pred = (modified_sigmoid(np.dot(W_final.T, X_test.iloc[i].values) + b_final))\n",
        "        if y_pred==y_test.iloc[i]:\n",
        "            correct_pred = correct_pred+1\n",
        "    accuracy = correct_pred/num_data\n",
        "    return accuracy\n",
        "\n",
        "accuracy = validation(X_test, y_test, W_final, b_final)"
      ],
      "execution_count": 9,
      "outputs": [
        {
          "output_type": "stream",
          "text": [
            "/usr/local/lib/python3.6/dist-packages/ipykernel_launcher.py:4: RuntimeWarning: overflow encountered in exp\n",
            "  after removing the cwd from sys.path.\n"
          ],
          "name": "stderr"
        }
      ]
    },
    {
      "cell_type": "code",
      "metadata": {
        "id": "Q2Nr68X1vxZt",
        "colab_type": "code",
        "colab": {
          "base_uri": "https://localhost:8080/",
          "height": 34
        },
        "outputId": "8152132a-58c1-493e-9a30-966aa4b0acc1"
      },
      "source": [
        "accuracy"
      ],
      "execution_count": 10,
      "outputs": [
        {
          "output_type": "execute_result",
          "data": {
            "text/plain": [
              "0.8204921339249698"
            ]
          },
          "metadata": {
            "tags": []
          },
          "execution_count": 10
        }
      ]
    }
  ]
}