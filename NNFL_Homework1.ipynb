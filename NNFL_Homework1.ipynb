{
  "nbformat": 4,
  "nbformat_minor": 0,
  "metadata": {
    "colab": {
      "name": "NNFL_Homework1.ipynb",
      "provenance": [],
      "collapsed_sections": [],
      "mount_file_id": "1wkeNdA2iF5NPHVPF_EnEjHAok-axre4v",
      "authorship_tag": "ABX9TyNiKVQQogJSaD+iSA01wz1L",
      "include_colab_link": true
    },
    "kernelspec": {
      "name": "python3",
      "display_name": "Python 3"
    }
  },
  "cells": [
    {
      "cell_type": "markdown",
      "metadata": {
        "id": "view-in-github",
        "colab_type": "text"
      },
      "source": [
        "<a href=\"https://colab.research.google.com/github/SusmitWani/NNFL-Course-Fall-2020/blob/master/NNFL_Homework1.ipynb\" target=\"_parent\"><img src=\"https://colab.research.google.com/assets/colab-badge.svg\" alt=\"Open In Colab\"/></a>"
      ]
    },
    {
      "cell_type": "markdown",
      "metadata": {
        "id": "MdRiXdhzVxlu",
        "colab_type": "text"
      },
      "source": [
        "#Homework1 brief\n",
        "\n",
        "1. Write a Python code implementing a unit perceptron from scratch.\n",
        "*   Keep the number of inputs variable\n",
        "*   Train the perceptron to a dataset requiring binary classification.\n",
        "*   Use the Unified Learning Rule for training.\n",
        "*   Explore the use of Stochastic Gradient Descent to train your network.\n",
        "\n",
        ">\n",
        "\n",
        "2. Write a Python code from scratch implementing a Naïve Bayes\n",
        "Classifier.\n",
        "\n",
        "\n",
        "---\n",
        "\n",
        "\n"
      ]
    },
    {
      "cell_type": "markdown",
      "metadata": {
        "id": "BR9wNzG-R3La",
        "colab_type": "text"
      },
      "source": [
        "#Common code for both homeworks"
      ]
    },
    {
      "cell_type": "markdown",
      "metadata": {
        "id": "ceiu89wahQkS",
        "colab_type": "text"
      },
      "source": [
        "##Importing required libraries"
      ]
    },
    {
      "cell_type": "code",
      "metadata": {
        "id": "VnJNkEVB3KkX",
        "colab_type": "code",
        "colab": {}
      },
      "source": [
        "import numpy as np\n",
        "import pandas as pd\n",
        "import seaborn as sns\n",
        "import random\n",
        "from sklearn.preprocessing import StandardScaler\n",
        "from sklearn.model_selection import train_test_split\n",
        "from sklearn.metrics import confusion_matrix\n",
        "from collections import Counter\n",
        "from sklearn.metrics import accuracy_score\n",
        "import matplotlib.pyplot as plt\n",
        "np.random.seed(42)"
      ],
      "execution_count": 40,
      "outputs": []
    },
    {
      "cell_type": "markdown",
      "metadata": {
        "id": "BTWtCWP3g2Ch",
        "colab_type": "text"
      },
      "source": [
        "##Importing and cleaning the dataframe.\n"
      ]
    },
    {
      "cell_type": "code",
      "metadata": {
        "id": "yUSBik--3Yfj",
        "colab_type": "code",
        "colab": {
          "base_uri": "https://localhost:8080/",
          "height": 266
        },
        "outputId": "0ba6e5e0-a3e1-4a54-fb8f-1816ebd9e9d7"
      },
      "source": [
        "df = pd.read_csv('/content/drive/My Drive/Datasets for ML DL/BankData/ChurnBank.csv')\n",
        "df.head()"
      ],
      "execution_count": 41,
      "outputs": [
        {
          "output_type": "execute_result",
          "data": {
            "text/html": [
              "<div>\n",
              "<style scoped>\n",
              "    .dataframe tbody tr th:only-of-type {\n",
              "        vertical-align: middle;\n",
              "    }\n",
              "\n",
              "    .dataframe tbody tr th {\n",
              "        vertical-align: top;\n",
              "    }\n",
              "\n",
              "    .dataframe thead th {\n",
              "        text-align: right;\n",
              "    }\n",
              "</style>\n",
              "<table border=\"1\" class=\"dataframe\">\n",
              "  <thead>\n",
              "    <tr style=\"text-align: right;\">\n",
              "      <th></th>\n",
              "      <th>ID</th>\n",
              "      <th>LIMIT_BAL</th>\n",
              "      <th>SEX</th>\n",
              "      <th>EDUCATION</th>\n",
              "      <th>MARRIAGE</th>\n",
              "      <th>AGE</th>\n",
              "      <th>PAY_0</th>\n",
              "      <th>PAY_2</th>\n",
              "      <th>PAY_3</th>\n",
              "      <th>PAY_4</th>\n",
              "      <th>PAY_5</th>\n",
              "      <th>PAY_6</th>\n",
              "      <th>BILL_AMT1</th>\n",
              "      <th>BILL_AMT2</th>\n",
              "      <th>BILL_AMT3</th>\n",
              "      <th>BILL_AMT4</th>\n",
              "      <th>BILL_AMT5</th>\n",
              "      <th>BILL_AMT6</th>\n",
              "      <th>PAY_AMT1</th>\n",
              "      <th>PAY_AMT2</th>\n",
              "      <th>PAY_AMT3</th>\n",
              "      <th>PAY_AMT4</th>\n",
              "      <th>PAY_AMT5</th>\n",
              "      <th>PAY_AMT6</th>\n",
              "      <th>default payment next month</th>\n",
              "    </tr>\n",
              "  </thead>\n",
              "  <tbody>\n",
              "    <tr>\n",
              "      <th>0</th>\n",
              "      <td>1</td>\n",
              "      <td>20000</td>\n",
              "      <td>2</td>\n",
              "      <td>2</td>\n",
              "      <td>1</td>\n",
              "      <td>24</td>\n",
              "      <td>2</td>\n",
              "      <td>2</td>\n",
              "      <td>-1</td>\n",
              "      <td>-1</td>\n",
              "      <td>-2</td>\n",
              "      <td>-2</td>\n",
              "      <td>3913</td>\n",
              "      <td>3102</td>\n",
              "      <td>689</td>\n",
              "      <td>0</td>\n",
              "      <td>0</td>\n",
              "      <td>0</td>\n",
              "      <td>0</td>\n",
              "      <td>689</td>\n",
              "      <td>0</td>\n",
              "      <td>0</td>\n",
              "      <td>0</td>\n",
              "      <td>0</td>\n",
              "      <td>1</td>\n",
              "    </tr>\n",
              "    <tr>\n",
              "      <th>1</th>\n",
              "      <td>2</td>\n",
              "      <td>120000</td>\n",
              "      <td>2</td>\n",
              "      <td>2</td>\n",
              "      <td>2</td>\n",
              "      <td>26</td>\n",
              "      <td>-1</td>\n",
              "      <td>2</td>\n",
              "      <td>0</td>\n",
              "      <td>0</td>\n",
              "      <td>0</td>\n",
              "      <td>2</td>\n",
              "      <td>2682</td>\n",
              "      <td>1725</td>\n",
              "      <td>2682</td>\n",
              "      <td>3272</td>\n",
              "      <td>3455</td>\n",
              "      <td>3261</td>\n",
              "      <td>0</td>\n",
              "      <td>1000</td>\n",
              "      <td>1000</td>\n",
              "      <td>1000</td>\n",
              "      <td>0</td>\n",
              "      <td>2000</td>\n",
              "      <td>1</td>\n",
              "    </tr>\n",
              "    <tr>\n",
              "      <th>2</th>\n",
              "      <td>3</td>\n",
              "      <td>90000</td>\n",
              "      <td>2</td>\n",
              "      <td>2</td>\n",
              "      <td>2</td>\n",
              "      <td>34</td>\n",
              "      <td>0</td>\n",
              "      <td>0</td>\n",
              "      <td>0</td>\n",
              "      <td>0</td>\n",
              "      <td>0</td>\n",
              "      <td>0</td>\n",
              "      <td>29239</td>\n",
              "      <td>14027</td>\n",
              "      <td>13559</td>\n",
              "      <td>14331</td>\n",
              "      <td>14948</td>\n",
              "      <td>15549</td>\n",
              "      <td>1518</td>\n",
              "      <td>1500</td>\n",
              "      <td>1000</td>\n",
              "      <td>1000</td>\n",
              "      <td>1000</td>\n",
              "      <td>5000</td>\n",
              "      <td>0</td>\n",
              "    </tr>\n",
              "    <tr>\n",
              "      <th>3</th>\n",
              "      <td>4</td>\n",
              "      <td>50000</td>\n",
              "      <td>2</td>\n",
              "      <td>2</td>\n",
              "      <td>1</td>\n",
              "      <td>37</td>\n",
              "      <td>0</td>\n",
              "      <td>0</td>\n",
              "      <td>0</td>\n",
              "      <td>0</td>\n",
              "      <td>0</td>\n",
              "      <td>0</td>\n",
              "      <td>46990</td>\n",
              "      <td>48233</td>\n",
              "      <td>49291</td>\n",
              "      <td>28314</td>\n",
              "      <td>28959</td>\n",
              "      <td>29547</td>\n",
              "      <td>2000</td>\n",
              "      <td>2019</td>\n",
              "      <td>1200</td>\n",
              "      <td>1100</td>\n",
              "      <td>1069</td>\n",
              "      <td>1000</td>\n",
              "      <td>0</td>\n",
              "    </tr>\n",
              "    <tr>\n",
              "      <th>4</th>\n",
              "      <td>5</td>\n",
              "      <td>50000</td>\n",
              "      <td>1</td>\n",
              "      <td>2</td>\n",
              "      <td>1</td>\n",
              "      <td>57</td>\n",
              "      <td>-1</td>\n",
              "      <td>0</td>\n",
              "      <td>-1</td>\n",
              "      <td>0</td>\n",
              "      <td>0</td>\n",
              "      <td>0</td>\n",
              "      <td>8617</td>\n",
              "      <td>5670</td>\n",
              "      <td>35835</td>\n",
              "      <td>20940</td>\n",
              "      <td>19146</td>\n",
              "      <td>19131</td>\n",
              "      <td>2000</td>\n",
              "      <td>36681</td>\n",
              "      <td>10000</td>\n",
              "      <td>9000</td>\n",
              "      <td>689</td>\n",
              "      <td>679</td>\n",
              "      <td>0</td>\n",
              "    </tr>\n",
              "  </tbody>\n",
              "</table>\n",
              "</div>"
            ],
            "text/plain": [
              "   ID  LIMIT_BAL  SEX  ...  PAY_AMT5  PAY_AMT6  default payment next month\n",
              "0   1      20000    2  ...         0         0                           1\n",
              "1   2     120000    2  ...         0      2000                           1\n",
              "2   3      90000    2  ...      1000      5000                           0\n",
              "3   4      50000    2  ...      1069      1000                           0\n",
              "4   5      50000    1  ...       689       679                           0\n",
              "\n",
              "[5 rows x 25 columns]"
            ]
          },
          "metadata": {
            "tags": []
          },
          "execution_count": 41
        }
      ]
    },
    {
      "cell_type": "code",
      "metadata": {
        "id": "vGLrLbU5c_Go",
        "colab_type": "code",
        "colab": {
          "base_uri": "https://localhost:8080/",
          "height": 338
        },
        "outputId": "4dee5965-038e-4aa6-f8e5-daa32ea3b65c"
      },
      "source": [
        "df.describe()"
      ],
      "execution_count": 42,
      "outputs": [
        {
          "output_type": "execute_result",
          "data": {
            "text/html": [
              "<div>\n",
              "<style scoped>\n",
              "    .dataframe tbody tr th:only-of-type {\n",
              "        vertical-align: middle;\n",
              "    }\n",
              "\n",
              "    .dataframe tbody tr th {\n",
              "        vertical-align: top;\n",
              "    }\n",
              "\n",
              "    .dataframe thead th {\n",
              "        text-align: right;\n",
              "    }\n",
              "</style>\n",
              "<table border=\"1\" class=\"dataframe\">\n",
              "  <thead>\n",
              "    <tr style=\"text-align: right;\">\n",
              "      <th></th>\n",
              "      <th>ID</th>\n",
              "      <th>LIMIT_BAL</th>\n",
              "      <th>SEX</th>\n",
              "      <th>EDUCATION</th>\n",
              "      <th>MARRIAGE</th>\n",
              "      <th>AGE</th>\n",
              "      <th>PAY_0</th>\n",
              "      <th>PAY_2</th>\n",
              "      <th>PAY_3</th>\n",
              "      <th>PAY_4</th>\n",
              "      <th>PAY_5</th>\n",
              "      <th>PAY_6</th>\n",
              "      <th>BILL_AMT1</th>\n",
              "      <th>BILL_AMT2</th>\n",
              "      <th>BILL_AMT3</th>\n",
              "      <th>BILL_AMT4</th>\n",
              "      <th>BILL_AMT5</th>\n",
              "      <th>BILL_AMT6</th>\n",
              "      <th>PAY_AMT1</th>\n",
              "      <th>PAY_AMT2</th>\n",
              "      <th>PAY_AMT3</th>\n",
              "      <th>PAY_AMT4</th>\n",
              "      <th>PAY_AMT5</th>\n",
              "      <th>PAY_AMT6</th>\n",
              "      <th>default payment next month</th>\n",
              "    </tr>\n",
              "  </thead>\n",
              "  <tbody>\n",
              "    <tr>\n",
              "      <th>count</th>\n",
              "      <td>30000.000000</td>\n",
              "      <td>30000.000000</td>\n",
              "      <td>30000.000000</td>\n",
              "      <td>30000.000000</td>\n",
              "      <td>30000.000000</td>\n",
              "      <td>30000.000000</td>\n",
              "      <td>30000.000000</td>\n",
              "      <td>30000.000000</td>\n",
              "      <td>30000.000000</td>\n",
              "      <td>30000.000000</td>\n",
              "      <td>30000.000000</td>\n",
              "      <td>30000.000000</td>\n",
              "      <td>30000.000000</td>\n",
              "      <td>30000.000000</td>\n",
              "      <td>3.000000e+04</td>\n",
              "      <td>30000.000000</td>\n",
              "      <td>30000.000000</td>\n",
              "      <td>30000.000000</td>\n",
              "      <td>30000.000000</td>\n",
              "      <td>3.000000e+04</td>\n",
              "      <td>30000.00000</td>\n",
              "      <td>30000.000000</td>\n",
              "      <td>30000.000000</td>\n",
              "      <td>30000.000000</td>\n",
              "      <td>30000.000000</td>\n",
              "    </tr>\n",
              "    <tr>\n",
              "      <th>mean</th>\n",
              "      <td>15000.500000</td>\n",
              "      <td>167484.322667</td>\n",
              "      <td>1.603733</td>\n",
              "      <td>1.853133</td>\n",
              "      <td>1.551867</td>\n",
              "      <td>35.485500</td>\n",
              "      <td>-0.016700</td>\n",
              "      <td>-0.133767</td>\n",
              "      <td>-0.166200</td>\n",
              "      <td>-0.220667</td>\n",
              "      <td>-0.266200</td>\n",
              "      <td>-0.291100</td>\n",
              "      <td>51223.330900</td>\n",
              "      <td>49179.075167</td>\n",
              "      <td>4.701315e+04</td>\n",
              "      <td>43262.948967</td>\n",
              "      <td>40311.400967</td>\n",
              "      <td>38871.760400</td>\n",
              "      <td>5663.580500</td>\n",
              "      <td>5.921163e+03</td>\n",
              "      <td>5225.68150</td>\n",
              "      <td>4826.076867</td>\n",
              "      <td>4799.387633</td>\n",
              "      <td>5215.502567</td>\n",
              "      <td>0.221200</td>\n",
              "    </tr>\n",
              "    <tr>\n",
              "      <th>std</th>\n",
              "      <td>8660.398374</td>\n",
              "      <td>129747.661567</td>\n",
              "      <td>0.489129</td>\n",
              "      <td>0.790349</td>\n",
              "      <td>0.521970</td>\n",
              "      <td>9.217904</td>\n",
              "      <td>1.123802</td>\n",
              "      <td>1.197186</td>\n",
              "      <td>1.196868</td>\n",
              "      <td>1.169139</td>\n",
              "      <td>1.133187</td>\n",
              "      <td>1.149988</td>\n",
              "      <td>73635.860576</td>\n",
              "      <td>71173.768783</td>\n",
              "      <td>6.934939e+04</td>\n",
              "      <td>64332.856134</td>\n",
              "      <td>60797.155770</td>\n",
              "      <td>59554.107537</td>\n",
              "      <td>16563.280354</td>\n",
              "      <td>2.304087e+04</td>\n",
              "      <td>17606.96147</td>\n",
              "      <td>15666.159744</td>\n",
              "      <td>15278.305679</td>\n",
              "      <td>17777.465775</td>\n",
              "      <td>0.415062</td>\n",
              "    </tr>\n",
              "    <tr>\n",
              "      <th>min</th>\n",
              "      <td>1.000000</td>\n",
              "      <td>10000.000000</td>\n",
              "      <td>1.000000</td>\n",
              "      <td>0.000000</td>\n",
              "      <td>0.000000</td>\n",
              "      <td>21.000000</td>\n",
              "      <td>-2.000000</td>\n",
              "      <td>-2.000000</td>\n",
              "      <td>-2.000000</td>\n",
              "      <td>-2.000000</td>\n",
              "      <td>-2.000000</td>\n",
              "      <td>-2.000000</td>\n",
              "      <td>-165580.000000</td>\n",
              "      <td>-69777.000000</td>\n",
              "      <td>-1.572640e+05</td>\n",
              "      <td>-170000.000000</td>\n",
              "      <td>-81334.000000</td>\n",
              "      <td>-339603.000000</td>\n",
              "      <td>0.000000</td>\n",
              "      <td>0.000000e+00</td>\n",
              "      <td>0.00000</td>\n",
              "      <td>0.000000</td>\n",
              "      <td>0.000000</td>\n",
              "      <td>0.000000</td>\n",
              "      <td>0.000000</td>\n",
              "    </tr>\n",
              "    <tr>\n",
              "      <th>25%</th>\n",
              "      <td>7500.750000</td>\n",
              "      <td>50000.000000</td>\n",
              "      <td>1.000000</td>\n",
              "      <td>1.000000</td>\n",
              "      <td>1.000000</td>\n",
              "      <td>28.000000</td>\n",
              "      <td>-1.000000</td>\n",
              "      <td>-1.000000</td>\n",
              "      <td>-1.000000</td>\n",
              "      <td>-1.000000</td>\n",
              "      <td>-1.000000</td>\n",
              "      <td>-1.000000</td>\n",
              "      <td>3558.750000</td>\n",
              "      <td>2984.750000</td>\n",
              "      <td>2.666250e+03</td>\n",
              "      <td>2326.750000</td>\n",
              "      <td>1763.000000</td>\n",
              "      <td>1256.000000</td>\n",
              "      <td>1000.000000</td>\n",
              "      <td>8.330000e+02</td>\n",
              "      <td>390.00000</td>\n",
              "      <td>296.000000</td>\n",
              "      <td>252.500000</td>\n",
              "      <td>117.750000</td>\n",
              "      <td>0.000000</td>\n",
              "    </tr>\n",
              "    <tr>\n",
              "      <th>50%</th>\n",
              "      <td>15000.500000</td>\n",
              "      <td>140000.000000</td>\n",
              "      <td>2.000000</td>\n",
              "      <td>2.000000</td>\n",
              "      <td>2.000000</td>\n",
              "      <td>34.000000</td>\n",
              "      <td>0.000000</td>\n",
              "      <td>0.000000</td>\n",
              "      <td>0.000000</td>\n",
              "      <td>0.000000</td>\n",
              "      <td>0.000000</td>\n",
              "      <td>0.000000</td>\n",
              "      <td>22381.500000</td>\n",
              "      <td>21200.000000</td>\n",
              "      <td>2.008850e+04</td>\n",
              "      <td>19052.000000</td>\n",
              "      <td>18104.500000</td>\n",
              "      <td>17071.000000</td>\n",
              "      <td>2100.000000</td>\n",
              "      <td>2.009000e+03</td>\n",
              "      <td>1800.00000</td>\n",
              "      <td>1500.000000</td>\n",
              "      <td>1500.000000</td>\n",
              "      <td>1500.000000</td>\n",
              "      <td>0.000000</td>\n",
              "    </tr>\n",
              "    <tr>\n",
              "      <th>75%</th>\n",
              "      <td>22500.250000</td>\n",
              "      <td>240000.000000</td>\n",
              "      <td>2.000000</td>\n",
              "      <td>2.000000</td>\n",
              "      <td>2.000000</td>\n",
              "      <td>41.000000</td>\n",
              "      <td>0.000000</td>\n",
              "      <td>0.000000</td>\n",
              "      <td>0.000000</td>\n",
              "      <td>0.000000</td>\n",
              "      <td>0.000000</td>\n",
              "      <td>0.000000</td>\n",
              "      <td>67091.000000</td>\n",
              "      <td>64006.250000</td>\n",
              "      <td>6.016475e+04</td>\n",
              "      <td>54506.000000</td>\n",
              "      <td>50190.500000</td>\n",
              "      <td>49198.250000</td>\n",
              "      <td>5006.000000</td>\n",
              "      <td>5.000000e+03</td>\n",
              "      <td>4505.00000</td>\n",
              "      <td>4013.250000</td>\n",
              "      <td>4031.500000</td>\n",
              "      <td>4000.000000</td>\n",
              "      <td>0.000000</td>\n",
              "    </tr>\n",
              "    <tr>\n",
              "      <th>max</th>\n",
              "      <td>30000.000000</td>\n",
              "      <td>1000000.000000</td>\n",
              "      <td>2.000000</td>\n",
              "      <td>6.000000</td>\n",
              "      <td>3.000000</td>\n",
              "      <td>79.000000</td>\n",
              "      <td>8.000000</td>\n",
              "      <td>8.000000</td>\n",
              "      <td>8.000000</td>\n",
              "      <td>8.000000</td>\n",
              "      <td>8.000000</td>\n",
              "      <td>8.000000</td>\n",
              "      <td>964511.000000</td>\n",
              "      <td>983931.000000</td>\n",
              "      <td>1.664089e+06</td>\n",
              "      <td>891586.000000</td>\n",
              "      <td>927171.000000</td>\n",
              "      <td>961664.000000</td>\n",
              "      <td>873552.000000</td>\n",
              "      <td>1.684259e+06</td>\n",
              "      <td>896040.00000</td>\n",
              "      <td>621000.000000</td>\n",
              "      <td>426529.000000</td>\n",
              "      <td>528666.000000</td>\n",
              "      <td>1.000000</td>\n",
              "    </tr>\n",
              "  </tbody>\n",
              "</table>\n",
              "</div>"
            ],
            "text/plain": [
              "                 ID       LIMIT_BAL  ...       PAY_AMT6  default payment next month\n",
              "count  30000.000000    30000.000000  ...   30000.000000                30000.000000\n",
              "mean   15000.500000   167484.322667  ...    5215.502567                    0.221200\n",
              "std     8660.398374   129747.661567  ...   17777.465775                    0.415062\n",
              "min        1.000000    10000.000000  ...       0.000000                    0.000000\n",
              "25%     7500.750000    50000.000000  ...     117.750000                    0.000000\n",
              "50%    15000.500000   140000.000000  ...    1500.000000                    0.000000\n",
              "75%    22500.250000   240000.000000  ...    4000.000000                    0.000000\n",
              "max    30000.000000  1000000.000000  ...  528666.000000                    1.000000\n",
              "\n",
              "[8 rows x 25 columns]"
            ]
          },
          "metadata": {
            "tags": []
          },
          "execution_count": 42
        }
      ]
    },
    {
      "cell_type": "markdown",
      "metadata": {
        "id": "_XjWEypah0oy",
        "colab_type": "text"
      },
      "source": [
        "#####Check if there are any missing entries or object data\n"
      ]
    },
    {
      "cell_type": "code",
      "metadata": {
        "id": "sDP4Aj56hopX",
        "colab_type": "code",
        "colab": {
          "base_uri": "https://localhost:8080/",
          "height": 554
        },
        "outputId": "a687172c-e4c9-4e92-8105-0ef8d8732bb0"
      },
      "source": [
        "df.info()"
      ],
      "execution_count": 43,
      "outputs": [
        {
          "output_type": "stream",
          "text": [
            "<class 'pandas.core.frame.DataFrame'>\n",
            "RangeIndex: 30000 entries, 0 to 29999\n",
            "Data columns (total 25 columns):\n",
            " #   Column                      Non-Null Count  Dtype\n",
            "---  ------                      --------------  -----\n",
            " 0   ID                          30000 non-null  int64\n",
            " 1   LIMIT_BAL                   30000 non-null  int64\n",
            " 2   SEX                         30000 non-null  int64\n",
            " 3   EDUCATION                   30000 non-null  int64\n",
            " 4   MARRIAGE                    30000 non-null  int64\n",
            " 5   AGE                         30000 non-null  int64\n",
            " 6   PAY_0                       30000 non-null  int64\n",
            " 7   PAY_2                       30000 non-null  int64\n",
            " 8   PAY_3                       30000 non-null  int64\n",
            " 9   PAY_4                       30000 non-null  int64\n",
            " 10  PAY_5                       30000 non-null  int64\n",
            " 11  PAY_6                       30000 non-null  int64\n",
            " 12  BILL_AMT1                   30000 non-null  int64\n",
            " 13  BILL_AMT2                   30000 non-null  int64\n",
            " 14  BILL_AMT3                   30000 non-null  int64\n",
            " 15  BILL_AMT4                   30000 non-null  int64\n",
            " 16  BILL_AMT5                   30000 non-null  int64\n",
            " 17  BILL_AMT6                   30000 non-null  int64\n",
            " 18  PAY_AMT1                    30000 non-null  int64\n",
            " 19  PAY_AMT2                    30000 non-null  int64\n",
            " 20  PAY_AMT3                    30000 non-null  int64\n",
            " 21  PAY_AMT4                    30000 non-null  int64\n",
            " 22  PAY_AMT5                    30000 non-null  int64\n",
            " 23  PAY_AMT6                    30000 non-null  int64\n",
            " 24  default payment next month  30000 non-null  int64\n",
            "dtypes: int64(25)\n",
            "memory usage: 5.7 MB\n"
          ],
          "name": "stdout"
        }
      ]
    },
    {
      "cell_type": "markdown",
      "metadata": {
        "id": "FW45LLQnO5Rc",
        "colab_type": "text"
      },
      "source": [
        "#**Part 1: Unit Perceptron**"
      ]
    },
    {
      "cell_type": "markdown",
      "metadata": {
        "id": "GdXl64ODhZD9",
        "colab_type": "text"
      },
      "source": [
        "#####Divide data into train and test dataframes for training and validation"
      ]
    },
    {
      "cell_type": "code",
      "metadata": {
        "id": "0v4qdF63iiUQ",
        "colab_type": "code",
        "colab": {}
      },
      "source": [
        "#Select all columns except target and id\n",
        "X = df[df.columns[1:-1].values]\n",
        "\n",
        "#Select just the target label\n",
        "y = df[df.columns[-1]]\n",
        "\n",
        "#Scaling the df so that large values do not affect the unit perceptron much\n",
        "scalar = StandardScaler()\n",
        "X = scalar.fit_transform(X.values)\n",
        "\n",
        "#Split data into train and val sets\n",
        "X_train, X_test, y_train, y_test = train_test_split(X, y, test_size = 0.3333, stratify = y, random_state=42)"
      ],
      "execution_count": 44,
      "outputs": []
    },
    {
      "cell_type": "code",
      "metadata": {
        "id": "Xh3lQNhuW80i",
        "colab_type": "code",
        "colab": {
          "base_uri": "https://localhost:8080/",
          "height": 34
        },
        "outputId": "02c406cb-f9f8-45fd-c24c-83c4abb6f753"
      },
      "source": [
        "#Checking the distribution of y variable\n",
        "Counter(y)"
      ],
      "execution_count": 45,
      "outputs": [
        {
          "output_type": "execute_result",
          "data": {
            "text/plain": [
              "Counter({0: 23364, 1: 6636})"
            ]
          },
          "metadata": {
            "tags": []
          },
          "execution_count": 45
        }
      ]
    },
    {
      "cell_type": "code",
      "metadata": {
        "id": "SG92GMSnH9Vk",
        "colab_type": "code",
        "colab": {
          "base_uri": "https://localhost:8080/",
          "height": 235
        },
        "outputId": "5042e318-08d6-47b7-c832-0d8b9bbe3870"
      },
      "source": [
        "X"
      ],
      "execution_count": 46,
      "outputs": [
        {
          "output_type": "execute_result",
          "data": {
            "text/plain": [
              "array([[-1.13672015,  0.81016074,  0.18582826, ..., -0.30806256,\n",
              "        -0.31413612, -0.29338206],\n",
              "       [-0.3659805 ,  0.81016074,  0.18582826, ..., -0.24422965,\n",
              "        -0.31413612, -0.18087821],\n",
              "       [-0.59720239,  0.81016074,  0.18582826, ..., -0.24422965,\n",
              "        -0.24868274, -0.01212243],\n",
              "       ...,\n",
              "       [-1.05964618, -1.23432296,  0.18582826, ..., -0.03996431,\n",
              "        -0.18322937, -0.11900109],\n",
              "       [-0.67427636, -1.23432296,  1.45111372, ..., -0.18512036,\n",
              "         3.15253642, -0.19190359],\n",
              "       [-0.90549825, -1.23432296,  0.18582826, ..., -0.24422965,\n",
              "        -0.24868274, -0.23713013]])"
            ]
          },
          "metadata": {
            "tags": []
          },
          "execution_count": 46
        }
      ]
    },
    {
      "cell_type": "markdown",
      "metadata": {
        "id": "XHXl2Y-qFGJi",
        "colab_type": "text"
      },
      "source": [
        "##Some functions that will be useful to us later in the notebook\n"
      ]
    },
    {
      "cell_type": "code",
      "metadata": {
        "id": "O_SEnAnNinlP",
        "colab_type": "code",
        "colab": {}
      },
      "source": [
        "def sigmoid(n):\n",
        "  return 1/(1+(np.exp(-n)))"
      ],
      "execution_count": 47,
      "outputs": []
    },
    {
      "cell_type": "code",
      "metadata": {
        "id": "MCA37ZKQIo-G",
        "colab_type": "code",
        "colab": {}
      },
      "source": [
        "#Function will initialize W and b vectors as a zero vectors of required dimensions.\n",
        "def initialize_zeros(X):\n",
        "    num_cols = X.shape[1]\n",
        "    num_data = X.shape[0]\n",
        "\n",
        "    b = 1\n",
        "    W = np.zeros([num_cols, 1])\n",
        "    return W, b, num_data, num_cols"
      ],
      "execution_count": 48,
      "outputs": []
    },
    {
      "cell_type": "markdown",
      "metadata": {
        "id": "zf4op075iKMC",
        "colab_type": "text"
      },
      "source": [
        "##Code to actually train the perceptron"
      ]
    },
    {
      "cell_type": "code",
      "metadata": {
        "id": "DfzyrXlhmR59",
        "colab_type": "code",
        "colab": {}
      },
      "source": [
        "#Function where actual learning takes place by the Unified Learning Rule\n",
        "\n",
        "def train_ULR(X_train, y_train, W, b):\n",
        "    #Loop to iterate over all the examples in training data\n",
        "    mse = 0\n",
        "    for i in range(X_train.shape[0]):\n",
        "        temp = np.sum(np.dot(W.T, X_train[i])[0] + b)\n",
        "        if temp>=0:\n",
        "            y_pred = 1\n",
        "        else:\n",
        "            y_pred = 0\n",
        "        e = y_train.iloc[i] - y_pred\n",
        "        W = W + e*X_train[i].reshape(23,1)\n",
        "        b = b + e\n",
        "        mse = mse+e**2\n",
        "    return W, b, mse"
      ],
      "execution_count": 59,
      "outputs": []
    },
    {
      "cell_type": "code",
      "metadata": {
        "id": "XICBZknp5aw3",
        "colab_type": "code",
        "colab": {}
      },
      "source": [
        "#Function to repeat train_ULR function\n",
        "def repeat_train(W, b, X_train, y_train, num_iter = 100):\n",
        "    mse_errors = []\n",
        "    for i in range(num_iter):\n",
        "        W, b, mse = train_ULR(X_train, y_train, W, b)\n",
        "        mse_errors.append(mse)\n",
        "    return W, b, mse_errors"
      ],
      "execution_count": 60,
      "outputs": []
    },
    {
      "cell_type": "markdown",
      "metadata": {
        "id": "YZ51udKOXdUK",
        "colab_type": "text"
      },
      "source": [
        "##Code to validate the calculated W_final and b_final"
      ]
    },
    {
      "cell_type": "code",
      "metadata": {
        "id": "MJ9sXRGgXd7D",
        "colab_type": "code",
        "colab": {}
      },
      "source": [
        "#Function which validates the obtained W and b values on the validation set\n",
        "#Could also use the acuracy_score function instead of this but ok\n",
        "def validation(X_test, y_test, W_final, b_final):\n",
        "    num_data = X_test.shape[0]\n",
        "    correct_pred = 0\n",
        "    y_pred = []\n",
        "    for i in range(num_data):\n",
        "        temp = np.sum(np.dot(W_final.T, X_test[i])[0] + b_final)\n",
        "        if temp>=0:\n",
        "            y_pred.append(1);\n",
        "        else:\n",
        "            y_pred.append(0);\n",
        "        if y_pred[i]==y_test.iloc[i]:\n",
        "            correct_pred = correct_pred+1\n",
        "    accuracy = correct_pred/num_data\n",
        "    return accuracy, y_pred"
      ],
      "execution_count": 61,
      "outputs": []
    },
    {
      "cell_type": "markdown",
      "metadata": {
        "id": "k_uOIk7xXUaZ",
        "colab_type": "text"
      },
      "source": [
        "\n",
        "Time to run the training functions and validate our W_final and b_final on test data."
      ]
    },
    {
      "cell_type": "code",
      "metadata": {
        "id": "Jm7ORvrSXVPh",
        "colab_type": "code",
        "colab": {
          "base_uri": "https://localhost:8080/",
          "height": 437
        },
        "outputId": "1d55c50d-944d-4927-cc4b-279c317ce42a"
      },
      "source": [
        "W, b, num_data, num_cols = initialize_zeros(X_train)\n",
        "W_final, b_final, mse_errors = repeat_train(W, b, X_train, y_train, 10)\n",
        "print(W_final)\n",
        "print(b_final)\n",
        "print(mse_errors)"
      ],
      "execution_count": 64,
      "outputs": [
        {
          "output_type": "stream",
          "text": [
            "[[-0.52555294]\n",
            " [ 2.54497331]\n",
            " [ 0.30063183]\n",
            " [ 1.19242648]\n",
            " [ 0.63204141]\n",
            " [-1.06817795]\n",
            " [ 0.32977882]\n",
            " [ 3.34679197]\n",
            " [-1.40960827]\n",
            " [ 5.12333329]\n",
            " [ 3.91906401]\n",
            " [ 3.31892698]\n",
            " [-1.34706504]\n",
            " [-0.38314088]\n",
            " [-5.88697514]\n",
            " [ 3.80578113]\n",
            " [-0.22938977]\n",
            " [-2.79255099]\n",
            " [-3.98785149]\n",
            " [-6.33100038]\n",
            " [-4.59010231]\n",
            " [-0.58576505]\n",
            " [-3.61581574]]\n",
            "-11\n",
            "[5647, 5640, 5595, 5626, 5585, 5617, 5642, 5619, 5558, 5583]\n"
          ],
          "name": "stdout"
        }
      ]
    },
    {
      "cell_type": "code",
      "metadata": {
        "id": "5yBl8wjDOsXU",
        "colab_type": "code",
        "colab": {
          "base_uri": "https://localhost:8080/",
          "height": 279
        },
        "outputId": "f38d1427-17d9-42a2-c107-17fa493028a8"
      },
      "source": [
        "plt.plot(np.arange(0, len(mse_errors)), mse_errors)\n",
        "plt.xlabel(\"Epochs\")\n",
        "plt.ylabel('MSE')\n",
        "plt.show()"
      ],
      "execution_count": 65,
      "outputs": [
        {
          "output_type": "display_data",
          "data": {
            "image/png": "[encoded data removed]",
            "text/plain": [
              "<Figure size 432x288 with 1 Axes>"
            ]
          },
          "metadata": {
            "tags": [],
            "needs_background": "light"
          }
        }
      ]
    },
    {
      "cell_type": "code",
      "metadata": {
        "id": "IHx14fwOXmRx",
        "colab_type": "code",
        "colab": {
          "base_uri": "https://localhost:8080/",
          "height": 67
        },
        "outputId": "d84bb786-3826-4a49-dca7-005da8142ca1"
      },
      "source": [
        "accuracy, y_pred1 = validation(X_test, y_test, W_final, b_final)\n",
        "cm1 = confusion_matrix(y_test, y_pred1)\n",
        "print(accuracy)\n",
        "print(cm1)"
      ],
      "execution_count": 66,
      "outputs": [
        {
          "output_type": "stream",
          "text": [
            "0.768076807680768\n",
            "[[6990  797]\n",
            " [1522  690]]\n"
          ],
          "name": "stdout"
        }
      ]
    },
    {
      "cell_type": "markdown",
      "metadata": {
        "id": "Eu1fKiR4EveD",
        "colab_type": "text"
      },
      "source": [
        "##Using Gradient Descent.\n",
        "####**Loss function implemented is binary cross entropy, aka Log Loss*\n",
        "####This is the actual loss function used in the implementation of Logistic Regresson function written in sklearn library."
      ]
    },
    {
      "cell_type": "code",
      "metadata": {
        "id": "s1-aIXK5F57y",
        "colab_type": "code",
        "colab": {}
      },
      "source": [
        "def forward_prop(X, y, W, b):\n",
        "    num_data = X.shape[1]\n",
        "    z = sigmoid(np.dot(W.T, X.T) + b)\n",
        "    #The defined cost function is for binary cross entropy.\n",
        "    cost = np.squeeze((np.sum((np.array(y))*np.log(z)-(1-np.array(y))*np.log(1-z))))\n",
        "\n",
        "    dw = (1/num_data)*np.dot(X.T, (z-np.array(y)).T)\n",
        "    db = (1/num_data)*(np.sum(z-np.array(y)))\n",
        "    return cost, dw, db"
      ],
      "execution_count": 67,
      "outputs": []
    },
    {
      "cell_type": "code",
      "metadata": {
        "id": "kiDX0bNbE7Wa",
        "colab_type": "code",
        "colab": {}
      },
      "source": [
        "def train_SGD(X_train, y_train, num_iter, lr=0.00025):\n",
        "    W, b, num_data, num_cols = initialize_zeros(X_train)\n",
        "    \n",
        "    costs = []\n",
        "\n",
        "    for i in range(num_iter):\n",
        "        for j in range(X_train.shape[0]):\n",
        "            cost, dw, db = forward_prop(X_train[j].reshape(1, X_train.shape[1]), y_train.values[j], W, b)\n",
        "            W = W - lr*dw\n",
        "            b = b - lr*db\n",
        "\n",
        "        if i%10==9:\n",
        "            costs.append(cost)\n",
        "            print(\"Cost at the end of iteration \" + str(i+1) + \": \" + str(cost))\n",
        "        if i==num_iter-1:\n",
        "            #With weights being close to 1e0, and learning rate being 2.5e-4, setting db threshold to 5e-2\n",
        "            #lr*dw will cause a change of around 1e-5 i.e. 0.001% which is a decent enough delta in final stages of algorithm.\n",
        "            if db>0.05:\n",
        "                print(\"Didn't converge. Increase lr, num_iter\")\n",
        "    return W, b, costs\n"
      ],
      "execution_count": 68,
      "outputs": []
    },
    {
      "cell_type": "code",
      "metadata": {
        "id": "McfDxmPdUtDO",
        "colab_type": "code",
        "colab": {
          "base_uri": "https://localhost:8080/",
          "height": 403
        },
        "outputId": "46b7dd28-f28b-4ebf-a41a-975c8d9d8f64"
      },
      "source": [
        "W_final, b_final, costs = train_SGD(X_train, y_train, 200)\n",
        "\n",
        "acc, y_pred2 = validation(X_test, y_test, W_final, b_final)\n",
        "cm2 = confusion_matrix(y_test, y_pred2)\n",
        "print(cm2)\n",
        "print(acc)"
      ],
      "execution_count": 69,
      "outputs": [
        {
          "output_type": "stream",
          "text": [
            "Cost at the end of iteration 10: 0.5526121871792264\n",
            "Cost at the end of iteration 20: 0.3621461921926421\n",
            "Cost at the end of iteration 30: 0.27521705375831945\n",
            "Cost at the end of iteration 40: 0.22705783399023338\n",
            "Cost at the end of iteration 50: 0.19802164835814579\n",
            "Cost at the end of iteration 60: 0.1794955369620431\n",
            "Cost at the end of iteration 70: 0.16715468598159014\n",
            "Cost at the end of iteration 80: 0.1586511166134959\n",
            "Cost at the end of iteration 90: 0.1526311426165767\n",
            "Cost at the end of iteration 100: 0.14827494953458878\n",
            "Cost at the end of iteration 110: 0.14506547656883104\n",
            "Cost at the end of iteration 120: 0.1426654714624425\n",
            "Cost at the end of iteration 130: 0.14084870670705324\n",
            "Cost at the end of iteration 140: 0.13945978085928015\n",
            "Cost at the end of iteration 150: 0.13838972988594525\n",
            "Cost at the end of iteration 160: 0.13756075182923325\n",
            "Cost at the end of iteration 170: 0.13691637777077206\n",
            "Cost at the end of iteration 180: 0.13641500084229105\n",
            "Cost at the end of iteration 190: 0.1360255319168407\n",
            "Cost at the end of iteration 200: 0.13572443328440692\n",
            "[[7559  228]\n",
            " [1686  526]]\n",
            "0.8085808580858086\n"
          ],
          "name": "stdout"
        }
      ]
    },
    {
      "cell_type": "code",
      "metadata": {
        "id": "JO5CRrqyw6Ns",
        "colab_type": "code",
        "colab": {
          "base_uri": "https://localhost:8080/",
          "height": 295
        },
        "outputId": "78df7d2f-ef57-48fe-f1cf-1a9fff731280"
      },
      "source": [
        "plt.plot(np.arange(0, len(costs))*10+10, costs, ms = 5, marker='*')\n",
        "plt.xlabel('Epochs')\n",
        "plt.ylabel('Loss')\n",
        "plt.title('Loss vs Epochs curve for SGD')\n",
        "plt.show()"
      ],
      "execution_count": 70,
      "outputs": [
        {
          "output_type": "display_data",
          "data": {
            "image/png": "[encoded data removed]",
            "text/plain": [
              "<Figure size 432x288 with 1 Axes>"
            ]
          },
          "metadata": {
            "tags": [],
            "needs_background": "light"
          }
        }
      ]
    },
    {
      "cell_type": "markdown",
      "metadata": {
        "id": "cSvvVAw7UfgE",
        "colab_type": "text"
      },
      "source": [
        "As we can see, our basic ULR model gave an pretty nice accuracy. Not bad at all for starters but the time taken is very long."
      ]
    },
    {
      "cell_type": "markdown",
      "metadata": {
        "id": "yJEcOFX34DRh",
        "colab_type": "text"
      },
      "source": [
        "#**Part 2: Naive Bayes Rule**"
      ]
    },
    {
      "cell_type": "markdown",
      "metadata": {
        "id": "rCQZvPCKHNTF",
        "colab_type": "text"
      },
      "source": [
        "![03_bayes_rule_naive_bayes_new.jpg](data:image/jpeg;base64,/9j/4AAQSkZJRgABAQEAYABgAAD/4R5+RXhpZgAATU0AKgAAAAgABgALAAIAAAAmAAAIYgESAAMAAAABAAEAAAExAAIAAAAmAAAIiAEyAAIAAAAUAAAIrodpAAQAAAABAAAIwuocAAcAAAgMAAAAVgAAEUYc6gAAAAgAAAAAAAAAAAAAAAAAAAAAAAAAAAAAAAAAAAAAAAAAAAAAAAAAAAAAAAAAAAAAAAAAAAAAAAAAAAAAAAAAAAAAAAAAAAAAAAAAAAAAAAAAAAAAAAAAAAAAAAAAAAAAAAAAAAAAAAAAAAAAAAAAAAAAAAAAAAAAAAAAAAAAAAAAAAAAAAAAAAAAAAAAAAAAAAAAAAAAAAAAAAAAAAAAAAAAAAAAAAAAAAAAAAAAAAAAAAAAAAAAAAAAAAAAAAAAAAAAAAAAAAAAAAAAAAAAAAAAAAAAAAAAAAAAAAAAAAAAAAAAAAAAAAAAAAAAAAAAAAAAAAAAAAAAAAAAAAAAAAAAAAAAAAAAAAAAAAAAAAAAAAAAAAAAAAAAAAAAAAAAAAAAAAAAAAAAAAAAAAAAAAAAAAAAAAAAAAAAAAAAAAAAAAAAAAAAAAAAAAAAAAAAAAAAAAAAAAAAAAAAAAAAAAAAAAAAAAAAAAAAAAAAAAAAAAAAAAAAAAAAAAAAAAAAAAAAAAAAAAAAAAAAAAAAAAAAAAAAAAAAAAAAAAAAAAAAAAAAAAAAAAAAAAAAAAAAAAAAAAAAAAAAAAAAAAAAAAAAAAAAAAAAAAAAAAAAAAAAAAAAAAAAAAAAAAAAAAAAAAAAAAAAAAAAAAAAAAAAAAAAAAAAAAAAAAAAAAAAAAAAAAAAAAAAAAAAAAAAAAAAAAAAAAAAAAAAAAAAAAAAAAAAAAAAAAAAAAAAAAAAAAAAAAAAAAAAAAAAAAAAAAAAAAAAAAAAAAAAAAAAAAAAAAAAAAAAAAAAAAAAAAAAAAAAAAAAAAAAAAAAAAAAAAAAAAAAAAAAAAAAAAAAAAAAAAAAAAAAAAAAAAAAAAAAAAAAAAAAAAAAAAAAAAAAAAAAAAAAAAAAAAAAAAAAAAAAAAAAAAAAAAAAAAAAAAAAAAAAAAAAAAAAAAAAAAAAAAAAAAAAAAAAAAAAAAAAAAAAAAAAAAAAAAAAAAAAAAAAAAAAAAAAAAAAAAAAAAAAAAAAAAAAAAAAAAAAAAAAAAAAAAAAAAAAAAAAAAAAAAAAAAAAAAAAAAAAAAAAAAAAAAAAAAAAAAAAAAAAAAAAAAAAAAAAAAAAAAAAAAAAAAAAAAAAAAAAAAAAAAAAAAAAAAAAAAAAAAAAAAAAAAAAAAAAAAAAAAAAAAAAAAAAAAAAAAAAAAAAAAAAAAAAAAAAAAAAAAAAAAAAAAAAAAAAAAAAAAAAAAAAAAAAAAAAAAAAAAAAAAAAAAAAAAAAAAAAAAAAAAAAAAAAAAAAAAAAAAAAAAAAAAAAAAAAAAAAAAAAAAAAAAAAAAAAAAAAAAAAAAAAAAAAAAAAAAAAAAAAAAAAAAAAAAAAAAAAAAAAAAAAAAAAAAAAAAAAAAAAAAAAAAAAAAAAAAAAAAAAAAAAAAAAAAAAAAAAAAAAAAAAAAAAAAAAAAAAAAAAAAAAAAAAAAAAAAAAAAAAAAAAAAAAAAAAAAAAAAAAAAAAAAAAAAAAAAAAAAAAAAAAAAAAAAAAAAAAAAAAAAAAAAAAAAAAAAAAAAAAAAAAAAAAAAAAAAAAAAAAAAAAAAAAAAAAAAAAAAAAAAAAAAAAAAAAAAAAAAAAAAAAAAAAAAAAAAAAAAAAAAAAAAAAAAAAAAAAAAAAAAAAAAAAAAAAAAAAAAAAAAAAAAAAAAAAAAAAAAAAAAAAAAAAAAAAAAAAAAAAAAAAAAAAAAAAAAAAAAAAAAAAAAAAAAAAAAAAAAAAAAAAAAAAAAAAAAAAAAAAAAAAAAAAAAAAAAAAAAAAAAAAAAAAAAAAAAAAAAAAAAAAAAAAAAAAAAAAAAAAAAAAAAAAAAAAAAAAAAAAAAAAAAAAAAAAAAAAAAAAAAAAAAAAAAAAAAAAAAAAAAAAAAAAAAAAAAAAAAAAAAAAAAAAAAAAAAAAAAAAAAAAAAAAAAAAAAAAAAAAAAAAAAAAAAAAAAAAAAAAAAAAAAAAAAAAAAAAAAAAAAAAAAAAAAAAAAAAAAAAAAAAAAAAAAAAAAAAAAAAAAAAAAAAAAAAAAAAAAAAAAAAAAAAAAAAAAAAAAAAAAAAAAAAAAAAAAAAAAAAAAAAAAAAAAAAAAAAAAAAAAAAAAAAAAAAAAAAAAAAAAAAAAAAAAAAAAAAAAAAAAAAAAAAAAAAAAAAAAAAAAAAAAAAAAAAAAAAAAAAAAAAAAAAAAAAAAAAAAAAAAAAAAAAAAAAAAAAAAAAAAAAAAAAAAAAAAAAAAAAAAAAAAAAAAAAAAAAAAAAAAAAAAAAAAAAAAAAAAAAAAAAAAAAAAAAAAAAAAAAAAAAAAAAAAAAAAAAAAAAAAAAAAAAAAAAAAAAAAAAAAAAAAAAAAAAAAAAAAAAAAAAAAAAAAAAAAAAAAAAAAAAAAAAAAAAAAAAAAAAAAAAAAAAAAAAAAAAAAAAAAAAAAAAAAAAAAAAAAAAAAAAAAAAAAAAAAAAAAAAAAAAAAAAAAAAAAAAAAAAAAAAAAAAAAAAAAAAAAAAAAAAAAAAAAAAAAAAAAAAAAAAAAAAAAAAAAAAAAAAAAAAAAAAAAAAAAAAAAAAAAAAAAAAAAAAAAAAAAAAAAAAAAAAAAAAAAAAAAAAAAAAAAAAAAAAAAAAAAAAAAAAAAAAAAAAAAAAAAAAAAAAAAAAAAAAAAAAAAAAAAAAAAAAAAAAAAAAAAAAAAAAAAAAAAAAAAAAAAAAAAAAAAAAAAAAAAAAAAAAAFdpbmRvd3MgUGhvdG8gRWRpdG9yIDEwLjAuMTAwMTEuMTYzODQAV2luZG93cyBQaG90byBFZGl0b3IgMTAuMC4xMDAxMS4xNjM4NAAyMDIwOjA5OjE2IDE0OjIxOjI0AAAGkAMAAgAAABQAABEckAQAAgAAABQAABEwkpEAAgAAAAM4NwAAkpIAAgAAAAM4NwAAoAEAAwAAAAEAAQAA6hwABwAACAwAAAkQAAAAABzqAAAACAAAAAAAAAAAAAAAAAAAAAAAAAAAAAAAAAAAAAAAAAAAAAAAAAAAAAAAAAAAAAAAAAAAAAAAAAAAAAAAAAAAAAAAAAAAAAAAAAAAAAAAAAAAAAAAAAAAAAAAAAAAAAAAAAAAAAAAAAAAAAAAAAAAAAAAAAAAAAAAAAAAAAAAAAAAAAAAAAAAAAAAAAAAAAAAAAAAAAAAAAAAAAAAAAAAAAAAAAAAAAAAAAAAAAAAAAAAAAAAAAAAAAAAAAAAAAAAAAAAAAAAAAAAAAAAAAAAAAAAAAAAAAAAAAAAAAAAAAAAAAAAAAAAAAAAAAAAAAAAAAAAAAAAAAAAAAAAAAAAAAAAAAAAAAAAAAAAAAAAAAAAAAAAAAAAAAAAAAAAAAAAAAAAAAAAAAAAAAAAAAAAAAAAAAAAAAAAAAAAAAAAAAAAAAAAAAAAAAAAAAAAAAAAAAAAAAAAAAAAAAAAAAAAAAAAAAAAAAAAAAAAAAAAAAAAAAAAAAAAAAAAAAAAAAAAAAAAAAAAAAAAAAAAAAAAAAAAAAAAAAAAAAAAAAAAAAAAAAAAAAAAAAAAAAAAAAAAAAAAAAAAAAAAAAAAAAAAAAAAAAAAAAAAAAAAAAAAAAAAAAAAAAAAAAAAAAAAAAAAAAAAAAAAAAAAAAAAAAAAAAAAAAAAAAAAAAAAAAAAAAAAAAAAAAAAAAAAAAAAAAAAAAAAAAAAAAAAAAAAAAAAAAAAAAAAAAAAAAAAAAAAAAAAAAAAAAAAAAAAAAAAAAAAAAAAAAAAAAAAAAAAAAAAAAAAAAAAAAAAAAAAAAAAAAAAAAAAAAAAAAAAAAAAAAAAAAAAAAAAAAAAAAAAAAAAAAAAAAAAAAAAAAAAAAAAAAAAAAAAAAAAAAAAAAAAAAAAAAAAAAAAAAAAAAAAAAAAAAAAAAAAAAAAAAAAAAAAAAAAAAAAAAAAAAAAAAAAAAAAAAAAAAAAAAAAAAAAAAAAAAAAAAAAAAAAAAAAAAAAAAAAAAAAAAAAAAAAAAAAAAAAAAAAAAAAAAAAAAAAAAAAAAAAAAAAAAAAAAAAAAAAAAAAAAAAAAAAAAAAAAAAAAAAAAAAAAAAAAAAAAAAAAAAAAAAAAAAAAAAAAAAAAAAAAAAAAAAAAAAAAAAAAAAAAAAAAAAAAAAAAAAAAAAAAAAAAAAAAAAAAAAAAAAAAAAAAAAAAAAAAAAAAAAAAAAAAAAAAAAAAAAAAAAAAAAAAAAAAAAAAAAAAAAAAAAAAAAAAAAAAAAAAAAAAAAAAAAAAAAAAAAAAAAAAAAAAAAAAAAAAAAAAAAAAAAAAAAAAAAAAAAAAAAAAAAAAAAAAAAAAAAAAAAAAAAAAAAAAAAAAAAAAAAAAAAAAAAAAAAAAAAAAAAAAAAAAAAAAAAAAAAAAAAAAAAAAAAAAAAAAAAAAAAAAAAAAAAAAAAAAAAAAAAAAAAAAAAAAAAAAAAAAAAAAAAAAAAAAAAAAAAAAAAAAAAAAAAAAAAAAAAAAAAAAAAAAAAAAAAAAAAAAAAAAAAAAAAAAAAAAAAAAAAAAAAAAAAAAAAAAAAAAAAAAAAAAAAAAAAAAAAAAAAAAAAAAAAAAAAAAAAAAAAAAAAAAAAAAAAAAAAAAAAAAAAAAAAAAAAAAAAAAAAAAAAAAAAAAAAAAAAAAAAAAAAAAAAAAAAAAAAAAAAAAAAAAAAAAAAAAAAAAAAAAAAAAAAAAAAAAAAAAAAAAAAAAAAAAAAAAAAAAAAAAAAAAAAAAAAAAAAAAAAAAAAAAAAAAAAAAAAAAAAAAAAAAAAAAAAAAAAAAAAAAAAAAAAAAAAAAAAAAAAAAAAAAAAAAAAAAAAAAAAAAAAAAAAAAAAAAAAAAAAAAAAAAAAAAAAAAAAAAAAAAAAAAAAAAAAAAAAAAAAAAAAAAAAAAAAAAAAAAAAAAAAAAAAAAAAAAAAAAAAAAAAAAAAAAAAAAAAAAAAAAAAAAAAAAAAAAAAAAAAAAAAAAAAAAAAAAAAAAAAAAAAAAAAAAAAAAAAAAAAAAAAAAAAAAAAAAAAAAAAAAAAAAAAAAAAAAAAAAAAAAAAAAAAAAAAAAAAAAAAAAAAAAAAAAAAAAAAAAAAAAAAAAAAAAAAAAAAAAAAAAAAAAAAAAAAAAAAAAAAAAAAAAAAAAAAAAAAAAAAAAAAAAAAAAAAAAAAAAAAAAAAAAAAAAAAAAAAAAAAAAAAAAAAAAAAAAAAAAAAAAAAAAAAAAAAAAAAAAAAAAAAAAAAAAAAAAAAAAAAAAAAAAAAAAAAAAAAAAAAAAAAAAAAAAAAAAAAAAAAAAAAAAAAAAAAAAAAAAAAAAAAAAAAAAAAAAAAAAAAAAAAAAAAAAAAAAAAAAAAAAAAAAAAAAAAAAAAAAAAAAAAAAAAAAAAAAAAAAAAAAAAAAAAAAAAAAAAAAAAAAAAAAAAAAAAAAAAAAAAAAAAAAAAAAAAAAAAAAAAAAAAAAAAAAAAAAAAAAAAAAAAAAAAAAAAAAAAAAAAAAAAAAAAAAAAAAAAAAAAAAAAAAAAAAAAAAAAAAAAAAAAAAAAAAAAAAAAAAAAAAAAAAAAAAAAAAAAAAAAAAAAAAAAAAAAAAAAAAAAAAAAAAAAAAAAAAAAAAAAAAAAAAAAAAAAAAAAAAAAAAAAAAAAAAAAAAAAAAAAAAAAAAAAAAAAAAAAAAAAAAAAAAAAAAAAAAAAAAAAAAAAAAAAAAAAAAAAAAAAAAAAAAAAAAAAMjAyMDowOToxNiAxNDoyMDoyMQAyMDIwOjA5OjE2IDE0OjIwOjIxAAAAAAYBAwADAAAAAQAGAAABGgAFAAAAAQAAEZQBGwAFAAAAAQAAEZwBKAADAAAAAQACAAACAQAEAAAAAQAAEaQCAgAEAAAAAQAADNIAAAAAAAAAYAAAAAEAAABgAAAAAf/Y/9sAQwAIBgYHBgUIBwcHCQkICgwUDQwLCwwZEhMPFB0aHx4dGhwcICQuJyAiLCMcHCg3KSwwMTQ0NB8nOT04MjwuMzQy/9sAQwEJCQkMCwwYDQ0YMiEcITIyMjIyMjIyMjIyMjIyMjIyMjIyMjIyMjIyMjIyMjIyMjIyMjIyMjIyMjIyMjIyMjIy/8AAEQgALgEAAwEhAAIRAQMRAf/EAB8AAAEFAQEBAQEBAAAAAAAAAAABAgMEBQYHCAkKC//EALUQAAIBAwMCBAMFBQQEAAABfQECAwAEEQUSITFBBhNRYQcicRQygZGhCCNCscEVUtHwJDNicoIJChYXGBkaJSYnKCkqNDU2Nzg5OkNERUZHSElKU1RVVldYWVpjZGVmZ2hpanN0dXZ3eHl6g4SFhoeIiYqSk5SVlpeYmZqio6Slpqeoqaqys7S1tre4ubrCw8TFxsfIycrS09TV1tfY2drh4uPk5ebn6Onq8fLz9PX29/j5+v/EAB8BAAMBAQEBAQEBAQEAAAAAAAABAgMEBQYHCAkKC//EALURAAIBAgQEAwQHBQQEAAECdwABAgMRBAUhMQYSQVEHYXETIjKBCBRCkaGxwQkjM1LwFWJy0QoWJDThJfEXGBkaJicoKSo1Njc4OTpDREVGR0hJSlNUVVZXWFlaY2RlZmdoaWpzdHV2d3h5eoKDhIWGh4iJipKTlJWWl5iZmqKjpKWmp6ipqrKztLW2t7i5usLDxMXGx8jJytLT1NXW19jZ2uLj5OXm5+jp6vLz9PX29/j5+v/aAAwDAQACEQMRAD8A5HUdRj0mHToINM05w9lHIzS2yszMc5JJqj/wkr/9ArSf/ANP8KAD/hJX/wCgVpP/AIBp/hR/wkr/APQK0n/wDT/CgA/4SV/+gVpP/gGn+FH/AAkr/wDQK0n/AMA0/wAKAD/hJX/6BWk/+Aaf4Uf8JK//AECtJ/8AANP8KAD/AISV/wDoFaT/AOAaf4Uf8JK//QK0n/wDT/CgA/4SV/8AoFaT/wCAaf4Uf8JK/wD0CtJ/8A0/woAP+Elf/oFaT/4Bp/hR/wAJK/8A0CtJ/wDANP8ACgA/4SV/+gVpP/gGn+FH/CSv/wBArSf/AADT/CgA/wCElf8A6BWk/wDgGn+FH/CSv/0CtJ/8A0/woAP+Elf/AKBWk/8AgGn+FH/CSv8A9ArSf/ANP8KAD/hJX/6BWk/+Aaf4Uf8ACSv/ANArSf8AwDT/AAoAP+Elf/oFaT/4Bp/hR/wkr/8AQK0n/wAA0/woAP8AhJX/AOgVpP8A4Bp/hR/wkr/9ArSf/ANP8KAD/hJX/wCgVpP/AIBp/hR/wkr/APQK0n/wDT/CgA/4SV/+gVpP/gGn+FH/AAkr/wDQK0n/AMA0/wAKAD/hJX/6BWk/+Aaf4Vf0fU49Vup7S40vTVQ2dy+6O1VWDLC7Agj3AoAz/Ev39L/7B0P9axKACigAooAKKAFUbmA9TitOfTIEuooI5yWYkMCQSOK6KNGM4tt9V+JzV68qckkr6N/cOOlQ7bZvMlAn6ZUfL9apC3jECyuzAebsOPT1rSphowe/9af5mVLEzmtv61/yLj6NumKQShwuN5IPf049KZd6X9kSQmTO0qfbB/rVzwXLFyvoiIY7mkoW1f8AX6iW1lbXFxKombykUNu4X+dOttMiuJNvmsVaQojKOOBnJpQwsJ8tnvf87Dni6kOa8drflcJ9MjigeQNKNsmwbl602Kwge4uInmZfJG7OOo7/AI0PCwU0m/61HHFzcHJJf1b/ADJYtClkR2Mij5dy9f8ACqNzbGGYIm5wVDDjnBqauElTgpPqVRxkas3FbIbFEnmhbhmjQg87atJZQHTTcvMVbnaMjnHtWdKlCSfM7NJmlWtOLXKrptfrcmj0lHt5HLybo4w5AAwcjOBUL6WYrhI3lDBg3K9iAeP0reWDSSaf9XsYQxrbcWv6tcILCKezEqykSFvL2Efxf4YqcaG6xo8kg5kCMF7Zxjt70QwXOuZPSwp45wbjJa3K1nbWTyXSXt00HlxMYiqbt7jop9M1c0jSbS+sLm5urkwiJwgOQByCe/Xp0FeXiJypxvFXZ6lKKm9STT9EtLqGEz3TxSSxvMCBldiMQ344DGp7LwhcXq+YsyLHJHvhznPJGM8Y6HtXLPGOm3zL0No4fmtZmPqNktlJAFYsssSyDcMEdQf1Bq94V/5DEv8A143f/pPJXZTlzRTMJKzsP8Qrvn0lM43WEIz+dZj2apMyeaCqruYgdOcetKVTldrHPUquMuVIVtPk3lUYOByxHbPT9KjltWheVGYZjGeO/NTGspOxEMTGTtbUkNjhYz5n30LD5fQVHbWpuN/zFdo3fdzkUe2929gWI9xysK9m8cZdmXgZwPw/xq02gaguiDWDEPsRO0PuGc5x0q4TU1dGtOoqiuimlncyIHSFyp6ECpVtL9JRKIpN4OQcVopNO6LlFSVmKbbUGOTHL1zTPsN5jHkyYznFNzk92JQitkL9jvs58qXPrTzBqDRGNo5CpOcGmqklfXcTpxdnbYjFjeAECGQA9fenpbagkTRrFIFY5IApRnKOzHKEZboGt9RZdrJMV9Cab9ivck+TJk8E+tDnJ7sSpxWiQq2l+v3Y5R9Kc9vqEkhkaKTcRjIFP2krWuHs4XvYjayvW+9DIcetH2G8KhfJkwOgqbsqyJDDqJCjZLhRgYpptL8nJjlJ9ap1JvdkKlBbIaLG9AwIZMZzipI4NRiYMkcoIORRGcou6Y5U4yVmiM2F4TkwPk+1L9ivQhQQybSckds1D1LWhJ5WpeTHD5cgSPdtwOm7qPpUTre2iqzGWINwOcdP8io5I9iuZkdxczXcgeZyzBQoPsOlavhX/kMS/wDXjd/+k8lVGKirITbbuxfEhIk0sg4I0+H+tYqyMpYg8sCDnvmhpMlxT3DzHzncc/WgyO2dzscjByaOVdhckd7C+bIert+dL58o6SN+dLkj2F7OHYPOkKspckN1zR50vleV5j+X/dzx+VNJLYcYqOwzJ9TRub1P50yg3N6n86Nzep/OgA3N6n86Nzep/OgDRt9LkuNNe8E+0Lngjjj3p8OjyTQtIbkKUjErqQeFNZOrbodMcM3bXdXIptOkigMonVwEWT5c9DT7bSzc3fkJdK2I/MLIC34U/aaXsJYf3lG4R6VI9xJEbhRtlESsASGapv7DffIn2td0b7GG09fTNJ1bdCo4VtbmQ+9HZCTlTg81LHFvt5ZTOilMYQnlvpWjehzqN3Zl+40WaAW+JwzTsFAIIxnHPuOaU6LK1vHNFcK4kYqoI28jO7OemMVn7VWudLwru1f+v6ZUvLGeyRGkb7zFSAehH+RVTc3qfzrSMuZXOecHCXKw3N6n86Nzep/OmQG5vU/nQST1JoAStvwr/wAhiX/rxu//AEnkoAPEv39L/wCwdD/WsSgAooAKKACigAooAKKACigCQzSGFYSx8tTkL71ZGq3axoiSbAqhTt/iA6ZqXBPc0jVnHZkf26Y27QkghgFzjkAdqhjmkh3eWxXeu1sdxQopCdSTaZNb309tEyREDcdwPcH2qddavhtDyiRQd2GUdfWk6cXqy44icVZPQqrdzLnD9SSeB1NRu7SOXY5YnJqkkjNybVmSfa5vtKXBcmRCCCfbpU7ateEFVlKoeAgHA69PzNS4RZarTWzIri9muo40lIOzJz6k9zVeqSSVkROTk7sKKZIUUAFbfhX/AJDEv/Xjd/8ApPJQA9tesLiC2S80OG4lghWESfaJF3AdOAcd6Z/aui/9C3D/AOBcv+NAB/aui/8AQtw/+Bcv+NH9q6L/ANC5F/4Fy/40AH9q6L/0LkX/AIFy/wCNH9q6L/0LcP8A4Fy/40AH9q6L/wBC3F/4Fy/40f2rov8A0LkX/gXL/jQAf2rov/QuRf8AgXL/AI0f2rov/QuRf+Bcv+NAB/aui/8AQuRf+Bcv+NH9q6L/ANC5F/4Fy/40AH9q6L/0LkX/AIFy/wCNH9q6L/0LkX/gXL/jQAf2rov/AELkX/gXL/jR/aui/wDQuRf+Bcv+NAB/aui/9C5F/wCBcv8AjR/aui/9C5F/4Fy/40AH9q6L/wBC5F/4Fy/40f2rov8A0LkX/gXL/jQAf2rov/Qtw/8AgXL/AI0f2rov/QuRf+Bcv+NAB/aui/8AQuRf+Bcv+NH9q6L/ANC5F/4Fy/40AH9q6L/0LkX/AIFy/wCNH9q6L/0LkX/gXL/jQAf2rov/AELkX/gXL/jR/aui/wDQuRf+Bcv+NAB/aui/9C5F/wCBcv8AjR/aui/9C3D/AOBcv+NAB/aui/8AQuRf+Bcv+NSwa/p9mZZLPQYYZnhkhEn2mRtodChOCcdGNAH/2f/hMehodHRwOi8vbnMuYWRvYmUuY29tL3hhcC8xLjAvADw/eHBhY2tldCBiZWdpbj0n77u/JyBpZD0nVzVNME1wQ2VoaUh6cmVTek5UY3prYzlkJz8+DQo8eDp4bXBtZXRhIHhtbG5zOng9ImFkb2JlOm5zOm1ldGEvIj48cmRmOlJERiB4bWxuczpyZGY9Imh0dHA6Ly93d3cudzMub3JnLzE5OTkvMDIvMjItcmRmLXN5bnRheC1ucyMiPjxyZGY6RGVzY3JpcHRpb24gcmRmOmFib3V0PSJ1dWlkOmZhZjViZGQ1LWJhM2QtMTFkYS1hZDMxLWQzM2Q3NTE4MmYxYiIgeG1sbnM6eG1wPSJodHRwOi8vbnMuYWRvYmUuY29tL3hhcC8xLjAvIj48eG1wOkNyZWF0b3JUb29sPldpbmRvd3MgUGhvdG8gRWRpdG9yIDEwLjAuMTAwMTEuMTYzODQ8L3htcDpDcmVhdG9yVG9vbD48eG1wOkNyZWF0ZURhdGU+MjAyMC0wOS0xNlQxNDoyMDoyMS44NjY8L3htcDpDcmVhdGVEYXRlPjwvcmRmOkRlc2NyaXB0aW9uPjwvcmRmOlJERj48L3g6eG1wbWV0YT4NCiAgICAgICAgICAgICAgICAgICAgICAgICAgICAgICAgICAgICAgICAgICAgICAgICAgICAgICAgICAgICAgICAgICAgICAgICAgICAgICAgICAgICAgICAgICAgICAgICAgICAKICAgICAgICAgICAgICAgICAgICAgICAgICAgICAgICAgICAgICAgICAgICAgICAgICAgICAgICAgICAgICAgICAgICAgICAgICAgICAgICAgICAgICAgICAgICAgICAgICAgIAogICAgICAgICAgICAgICAgICAgICAgICAgICAgICAgICAgICAgICAgICAgICAgICAgICAgICAgICAgICAgICAgICAgICAgICAgICAgICAgICAgICAgICAgICAgICAgICAgICAgCiAgICAgICAgICAgICAgICAgICAgICAgICAgICAgICAgICAgICAgICAgICAgICAgICAgICAgICAgICAgICAgICAgICAgICAgICAgICAgICAgICAgICAgICAgICAgICAgICAgICAKICAgICAgICAgICAgICAgICAgICAgICAgICAgICAgICAgICAgICAgICAgICAgICAgICAgICAgICAgICAgICAgICAgICAgICAgICAgICAgICAgICAgICAgICAgICAgICAgICAgIAogICAgICAgICAgICAgICAgICAgICAgICAgICAgICAgICAgICAgICAgICAgICAgICAgICAgICAgICAgICAgICAgICAgICAgICAgICAgICAgICAgICAgICAgICAgICAgICAgICAgCiAgICAgICAgICAgICAgICAgICAgICAgICAgICAgICAgICAgICAgICAgICAgICAgICAgICAgICAgICAgICAgICAgICAgICAgICAgICAgICAgICAgICAgICAgICAgICAgICAgICAKICAgICAgICAgICAgICAgICAgICAgICAgICAgICAgICAgICAgICAgICAgICAgICAgICAgICAgICAgICAgICAgICAgICAgICAgICAgICAgICAgICAgICAgICAgICAgICAgICAgIAogICAgICAgICAgICAgICAgICAgICAgICAgICAgICAgICAgICAgICAgICAgICAgICAgICAgICAgICAgICAgICAgICAgICAgICAgICAgICAgICAgICAgICAgICAgICAgICAgICAgCiAgICAgICAgICAgICAgICAgICAgICAgICAgICAgICAgICAgICAgICAgICAgICAgICAgICAgICAgICAgICAgICAgICAgICAgICAgICAgICAgICAgICAgICAgICAgICAgICAgICAKICAgICAgICAgICAgICAgICAgICAgICAgICAgICAgICAgICAgICAgICAgICAgICAgICAgICAgICAgICAgICAgICAgICAgICAgICAgICAgICAgICAgICAgICAgICAgICAgICAgIAogICAgICAgICAgICAgICAgICAgICAgICAgICAgICAgICAgICAgICAgICAgICAgICAgICAgICAgICAgICAgICAgICAgICAgICAgICAgICAgICAgICAgICAgICAgICAgICAgICAgCiAgICAgICAgICAgICAgICAgICAgICAgICAgICAgICAgICAgICAgICAgICAgICAgICAgICAgICAgICAgICAgICAgICAgICAgICAgICAgICAgICAgICAgICAgICAgICAgICAgICAKICAgICAgICAgICAgICAgICAgICAgICAgICAgICAgICAgICAgICAgICAgICAgICAgICAgICAgICAgICAgICAgICAgICAgICAgICAgICAgICAgICAgICAgICAgICAgICAgICAgIAogICAgICAgICAgICAgICAgICAgICAgICAgICAgICAgICAgICAgICAgICAgICAgICAgICAgICAgICAgICAgICAgICAgICAgICAgICAgICAgICAgICAgICAgICAgICAgICAgICAgCiAgICAgICAgICAgICAgICAgICAgICAgICAgICAgICAgICAgICAgICAgICAgICAgICAgICAgICAgICAgICAgICAgICAgICAgICAgICAgICAgICAgICAgICAgICAgICAgICAgICAKICAgICAgICAgICAgICAgICAgICAgICAgICAgICAgICAgICAgICAgICAgICAgICAgICAgICAgICAgICAgICAgICAgICAgICAgICAgICAgICAgICAgICAgICAgICAgICAgICAgIAogICAgICAgICAgICAgICAgICAgICAgICAgICAgICAgICAgICAgICAgICAgICAgICAgICAgICAgICAgICAgICAgICAgICAgICAgICAgICAgICAgICAgICAgICAgICAgICAgICAgCiAgICAgICAgICAgICAgICAgICAgICAgICAgICAgICAgICAgICAgICAgICAgICAgICAgICAgICAgICAgICAgICAgICAgICAgICAgICAgICAgICAgICAgICAgICAgICAgICAgICAKICAgICAgICAgICAgICAgICAgICAgICAgICAgICAgICAgICAgICAgICAgICAgICAgICAgICAgICAgICAgICAgICAgICAgICAgICAgICAgICAgICAgICAgICAgICAgICAgICAgIAogICAgICAgICAgICAgICAgICAgICAgICAgICAgICAgICAgICAgICAgICAgICAgICAgICAgICAgICAgICAgICAgICAgICAgICAgICAgICAgICAgICAgICAgICAgICAgICAgICAgCiAgICAgICAgICAgICAgICAgICAgICAgICAgICAgICAgICAgICAgICAgICAgICAgICAgICAgICAgICAgICAgICAgICAgICAgICAgICAgICAgICAgICAgICAgICAgICAgICAgICAKICAgICAgICAgICAgICAgICAgICAgICAgICAgICAgICAgICAgICAgICAgICAgICAgICAgICAgICAgICAgICAgICAgICAgICAgICAgICAgICAgICAgICAgICAgICAgICAgICAgIAogICAgICAgICAgICAgICAgICAgICAgICAgICAgICAgICAgICAgICAgICAgICAgICAgICAgICAgICAgICAgICAgICAgICAgICAgICAgICAgICAgICAgICAgICAgICAgICAgICAgCiAgICAgICAgICAgICAgICAgICAgICAgICAgICAgICAgICAgICAgICAgICAgICAgICAgICAgICAgICAgICAgICAgICAgICAgICAgICAgICAgICAgICAgICAgICAgICAgICAgICAKICAgICAgICAgICAgICAgICAgICAgICAgICAgICAgICAgICAgICAgICAgICAgICAgICAgICAgICAgICAgICAgICAgICAgICAgICAgICAgICAgICAgICAgICAgICAgICAgICAgIAogICAgICAgICAgICAgICAgICAgICAgICAgICAgICAgICAgICAgICAgICAgICAgICAgICAgICAgICAgICAgICAgICAgICAgICAgICAgICAgICAgICAgICAgICAgICAgICAgICAgCiAgICAgICAgICAgICAgICAgICAgICAgICAgICAgICAgICAgICAgICAgICAgICAgICAgICAgICAgICAgICAgICAgICAgICAgICAgICAgICAgICAgICAgICAgICAgICAgICAgICAKICAgICAgICAgICAgICAgICAgICAgICAgICAgICAgICAgICAgICAgICAgICAgICAgICAgICAgICAgICAgICAgICAgICAgICAgICAgICAgICAgICAgICAgICAgICAgICAgICAgIAogICAgICAgICAgICAgICAgICAgICAgICAgICAgICAgICAgICAgICAgICAgICAgICAgICAgICAgICAgICAgICAgICAgICAgICAgICAgICAgICAgICAgICAgICAgICAgICAgICAgCiAgICAgICAgICAgICAgICAgICAgICAgICAgICAgICAgICAgICAgICAgICAgICAgICAgICAgICAgICAgICAgICAgICAgICAgICAgICAgICAgICAgICAgICAgICAgICAgICAgICAKICAgICAgICAgICAgICAgICAgICAgICAgICAgICAgICAgICAgICAgICAgICAgICAgICAgICAgICAgICAgICAgICAgICAgICAgICAgICAgICAgICAgICAgICAgICAgICAgICAgIAogICAgICAgICAgICAgICAgICAgICAgICAgICAgICAgICAgICAgICAgICAgICAgICAgICAgICAgICAgICAgICAgICAgICAgICAgICAgICAgICAgICAgICAgICAgICAgICAgICAgCiAgICAgICAgICAgICAgICAgICAgICAgICAgICAgICAgICAgICAgICAgICAgICAgICAgICAgICAgICAgICAgICAgICAgICAgICAgICAgICAgICAgICAgICAgICAgICAgICAgICAKICAgICAgICAgICAgICAgICAgICAgICAgICAgICAgICAgICAgICAgICAgICAgICAgICAgICAgICAgICAgICAgICAgICAgICAgICAgICAgICAgICAgICAgICAgICAgICAgICAgIAogICAgICAgICAgICAgICAgICAgICAgICAgICAgICAgICAgICAgICAgICAgICAgICAgICAgICAgICAgICAgICAgICAgICAgICAgICAgICAgICAgICAgICAgICAgICAgICAgICAgCiAgICAgICAgICAgICAgICAgICAgICAgICAgICAgICAgICAgICAgICAgICAgICAgICAgICAgICAgICAgICAgICAgICAgICAgICAgICAgICAgICAgICAgICAgICAgICAgICAgICAKICAgICAgICAgICAgICAgICAgICAgICAgICAgICAgICAgICAgICAgICAgICAgICAgICAgICAgICAgICAgICAgICAgICAgICAgICAgICAgICAgICAgICAgICAgICAgICAgICAgIAogICAgICAgICAgICAgICAgICAgICAgICAgICAgICAgICAgICAgICAgICAgICAgICAgICAgICAgICAgICAgICAgICAgICAgICAgICAgICAgICAgICAgICAgICAgICAgICAgICAgCiAgICAgICAgICAgICAgICAgICAgICAgICAgICAgICAgICAgICAgICAgICAgICAgICAgICAgICAgICAgICAgICAgICAgICAgICAgICAgICAgICAgICAgICAgICAgICAgICAgICAKICAgICAgICAgICAgICAgICAgICAgICAgICAgICAgICAgICAgICAgICAgICAgICAgICAgICAgICAgICAgICAgICAgICAgICAgICAgICAgICAgICAgICAgICAgICAgICAgICAgIAogICAgICAgICAgICAgICAgICAgICAgICAgICAgICAgICAgICAgICAgICAgICAgICAgICAgICAgICAgICAgICAgICAgICAgICAgICAgICAgICAgICAgICAgICAgICAgICAgICAgCiAgICAgICAgICAgICAgICAgICAgICAgICAgICAgICAgICAgICAgICAgICAgICAgICAgICAgICAgICAgICAgICAgICAgICAgICAgICAgICAgICAgICAgICAgICAgICAgICAgICAKICAgICAgICAgICAgICAgICAgICAgICAgICAgICAgICAgICAgICAgICAgICAgICAgICAgICAgICAgICAgICAgICAgICAgICAgICAgICAgICAgICAgICAgICAgICAgICAgICAgIAogICAgICAgICAgICAgICAgICAgICAgICAgICAgICAgICAgICAgICAgICAgICAgICAgICAgICAgICAgICAgICAgICAgICAgICAgICAgICAgICAgICAgICAgICAgICAgICAgICAgCiAgICAgICAgICAgICAgICAgICAgICAgICAgICAgICAgICAgICAgICAgICAgICAgICAgICAgICAgICAgICAgICAgICAgICAgICAgICAgICAgICAgICAgICAgICAgICAgICAgICAKICAgICAgICAgICAgICAgICAgICAgICAgICAgICAgICAgICAgICAgICAgICAgICAgICAgICAgICAgICAgICAgICAgICAgICAgICAgICAgICAgICAgICAgICAgICAgICAgICAgIAogICAgICAgICAgICAgICAgICAgICAgICAgICAgICAgICAgICAgICAgICAgICAgICAgICAgICAgICAgICAgICAgICAgICAgICAgICAgICAgICAgICAgICAgICAgICAgICAgICAgCiAgICAgICAgICAgICAgICAgICAgICAgICAgICAgICAgICAgICAgICAgICAgICAgICAgICAgICAgICAgICAgICAgICAgICAgICAgICAgICAgICAgICAgICAgICAgICAgICAgICAKICAgICAgICAgICAgICAgICAgICAgICAgICAgICAgICAgICAgICAgICAgICAgICAgICAgICAgICAgICAgICAgICAgICAgICAgICAgICAgICAgICAgICAgICAgICAgICAgICAgIAogICAgICAgICAgICAgICAgICAgICAgICAgICAgICAgICAgICAgICAgICAgICAgICAgICAgICAgICAgICAgICAgICAgICAgICAgICAgICAgICAgICAgICAgICAgICAgICAgICAgCiAgICAgICAgICAgICAgICAgICAgICAgICAgICAgICAgICAgICAgICAgICAgICAgICAgICAgICAgICAgICAgICAgICAgICAgICAgICAgICAgICAgICAgICAgICAgICAgICAgICAKICAgICAgICAgICAgICAgICAgICAgICAgICAgICAgICAgICAgICAgICAgICAgICAgICAgICAgICAgICAgICAgICAgICAgICAgICAgICAgICAgICAgICAgICAgICAgICAgICAgIAogICAgICAgICAgICAgICAgICAgICAgICAgICAgICAgICAgICAgICAgICAgICAgICAgICAgICAgICAgICAgICAgICAgICAgICAgICAgICAgICAgICAgICAgICAgICAgICAgICAgCiAgICAgICAgICAgICAgICAgICAgICAgICAgICAgICAgICAgICAgICAgICAgICAgICAgICAgICAgICAgICAgICAgICAgICAgICAgICAgICAgICAgICAgICAgICAgICAgICAgICAKICAgICAgICAgICAgICAgICAgICAgICAgICAgICAgICAgICAgICAgICAgICAgICAgICAgICAgICAgICAgICAgICAgICAgICAgICAgICAgICAgICAgICAgICAgICAgICAgICAgIAogICAgICAgICAgICAgICAgICAgICAgICAgICAgICAgICAgICAgICAgICAgICAgICAgICAgICAgICAgICAgICAgICAgICAgICAgICAgICAgICAgICAgICAgICAgICAgICAgICAgCiAgICAgICAgICAgICAgICAgICAgICAgICAgICAgICAgICAgICAgICAgICAgICAgICAgICAgICAgICAgICAgICAgICAgICAgICAgICAgICAgICAgICAgICAgICAgICAgICAgICAKICAgICAgICAgICAgICAgICAgICAgICAgICAgICAgICAgICAgICAgICAgICAgICAgICAgICAgICAgICAgICAgICAgICAgICAgICAgICAgICAgICAgICAgICAgICAgICAgICAgIAogICAgICAgICAgICAgICAgICAgICAgICAgICAgICAgICAgICAgICAgICAgICAgICAgICAgICAgICAgICAgICAgICAgICAgICAgICAgICAgICAgICAgICAgICAgICAgICAgICAgCiAgICAgICAgICAgICAgICAgICAgICAgICAgICAgICAgICAgICAgICAgICAgICAgICAgICAgICAgICAgICAgICAgICAgICAgICAgICAgICAgICAgICAgICAgICAgICAgICAgICAKICAgICAgICAgICAgICAgICAgICAgICAgICAgICAgICAgICAgICAgICAgICAgICAgICAgICAgICAgICAgICAgICAgICAgICAgICAgICAgICAgICAgICAgICAgICAgICAgICAgIAogICAgICAgICAgICAgICAgICAgICAgICAgICAgICAgICAgICAgICAgICAgICAgICAgICAgICAgICAgICAgICAgICAgICAgICAgICAgICAgICAgICAgICAgICAgICAgICAgICAgCiAgICAgICAgICAgICAgICAgICAgICAgICAgICAgICAgICAgICAgICAgICAgICAgICAgICAgICAgICAgICAgICAgICAgICAgICAgICAgICAgICAgICAgICAgICAgICAgICAgICAKICAgICAgICAgICAgICAgICAgICAgICAgICAgICAgICAgICAgICAgICAgICAgICAgICAgICAgICAgICAgICAgICAgICAgICAgICAgICAgICAgICAgICAgICAgICAgICAgICAgIAogICAgICAgICAgICAgICAgICAgICAgICAgICAgICAgICAgICAgICAgICAgICAgICAgICAgICAgICAgICAgICAgICAgICAgICAgICAgICAgICAgICAgICAgICAgICAgICAgICAgCiAgICAgICAgICAgICAgICAgICAgICAgICAgICAgICAgICAgICAgICAgICAgICAgICAgICAgICAgICAgICAgICAgICAgICAgICAgICAgICAgICAgICAgICAgICAgICAgICAgICAKICAgICAgICAgICAgICAgICAgICAgICAgICAgICAgICAgICAgICAgICAgICAgICAgICAgICAgICAgICAgICAgICAgICAgICAgICAgICAgICAgICAgICAgICAgICAgICAgICAgIAogICAgICAgICAgICAgICAgICAgICAgICAgICAgICAgICAgICAgICAgICAgICAgICAgICAgICAgICAgICAgICAgICAgICAgICAgICAgICAgICAgICAgICAgICAgICAgICAgICAgCiAgICAgICAgICAgICAgICAgICAgICAgICAgICAgICAgICAgICAgICAgICAgICAgICAgICAgICAgICAgICAgICAgICAgICAgICAgICAgICAgICAgICAgICAgICAgICAgICAgICAKICAgICAgICAgICAgICAgICAgICAgICAgICAgICAgICAgICAgICAgICAgICAgICAgICAgICAgICAgICAgICAgICAgICAgICAgICAgICAgICAgICAgICAgICAgICAgICAgICAgIAogICAgICAgICAgICAgICAgICAgICAgICAgICAgICAgICAgICAgICAgICAgICAgICAgICAgICAgICAgICAgICAgICAgICAgICAgICAgICAgICAgICAgICAgICAgICAgICAgICAgCiAgICAgICAgICAgICAgICAgICAgICAgICAgICAgICAgICAgICAgICAgICAgICAgICAgICAgICAgICAgICAgICAgICAgICAgICAgICAgICAgICAgICAgICAgICAgICAgICAgICAKICAgICAgICAgICAgICAgICAgICAgICAgICAgICAgICAgICAgICAgICAgICAgICAgICAgICAgICAgICAgICAgICAgICAgICAgICAgICAgICAgICAgICAgICAgICAgICAgICAgIAogICAgICAgICAgICAgICAgICAgICAgICAgICAgICAgICAgICAgICAgICAgICAgICAgICAgICAgICAgICAgICAgICAgICAgICAgICAgICAgICAgICAgICAgICAgICAgICAgICAgCiAgICAgICAgICAgICAgICAgICAgICAgICAgICAgICAgICAgICAgICAgICAgICAgICAgICAgICAgICAgICAgICAgICAgICAgICAgICAgICAgICAgICAgICAgICAgICAgICAgICAKICAgICAgICAgICAgICAgICAgICAgICAgICAgICAgICAgICAgICAgICAgICAgICAgICAgICAgICAgICAgICAgICAgICAgICAgICAgICAgICAgICAgICAgICAgICAgICAgICAgIAogICAgICAgICAgICAgICAgICAgICAgICAgICAgICAgICAgICAgICAgICAgICAgICAgICAgICAgICAgICAgICAgICAgICAgICAgICAgICAgICAgICAgICAgICAgICAgICAgICAgCiAgICAgICAgICAgICAgICAgICAgICAgICAgICAgICAgICAgICAgICAgICAgICAgICAgICAgICAgICAgICAgICAgICAgICAgICAgICAgICAgICAgICAgICAgICAgICAgICAgICAKICAgICAgICAgICAgICAgICAgICAgICAgICAgICAgICAgICAgICAgICAgICAgICAgICAgICAgICAgICAgICAgICAgICAgICAgICAgICAgICAgICAgICAgICAgICAgICAgICAgIAogICAgICAgICAgICAgICAgICAgICAgICAgICAgICAgICAgICAgICAgICAgICAgICAgICAgICAgICAgICAgICAgICAgICAgICAgICAgICAgICAgICAgICAgICAgICAgICAgICAgCiAgICAgICAgICAgICAgICAgICAgICAgICAgICAgICAgICAgICAgICAgICAgICAgICAgICAgICAgICAgICAgICAgICAgICAgICAgICAgICAgICAgICAgICAgICAgICAgICAgICAKICAgICAgICAgICAgICAgICAgICAgICAgICAgICAgICAgICAgICAgICAgICAgICAgICAgICAgICAgICAgICAgICAgICAgICAgICAgICAgICAgICAgICAgICAgICAgICAgICAgIAogICAgICAgICAgICAgICAgICAgICAgICAgICAgICAgICAgICAgICAgICAgICAgICAgICAgICAgICAgICAgICAgICAgICAgICAgICAgICAgICAgICAgICAgICAgICAgICAgICAgCiAgICAgICAgICAgICAgICAgICAgICAgICAgICAgICAgICAgICAgICAgICAgICAgICAgICAgICAgICAgICAgICAgICAgICAgICAgICAgICAgICAgICAgICAgICAgICAgICAgICAKICAgICAgICAgICAgICAgICAgICAgICAgICAgICAgICAgICAgICAgICAgICAgICAgICAgICAgICAgICAgICAgICAgICAgICAgICAgICAgICAgICAgICAgICAgICAgICAgICAgIAogICAgICAgICAgICAgICAgICAgICAgICAgICAgICAgICAgICAgICAgICAgICAgICAgICAgICAgICAgICAgICAgICAgICAgICAgICAgICAgICAgICAgICAgICAgICAgICAgICAgCiAgICAgICAgICAgICAgICAgICAgICAgICAgICAgICAgICAgICAgICAgICAgICAgICAgICAgICAgICAgICAgICAgICAgICAgICAgICAgICAgICAgICAgICAgICAgICAgICAgICAKICAgICAgICAgICAgICAgICAgICAgICAgICAgICAgICAgICAgICAgICAgICAgICAgICAgICAgICAgICAgICAgICAgICAgICAgICAgICAgICAgICAgICAgICAgICAgICAgICAgIAogICAgICAgICAgICAgICAgICAgICAgICAgICAgICAgICAgICAgICAgICAgICAgICAgICAgICAgICAgICAgICAgICAgICAgICAgICAgICAgICAgICAgICAgICAgICAgICAgICAgCiAgICAgICAgICAgICAgICAgICAgICAgICAgICAgICAgICAgICAgICAgICAgICAgICAgICAgICAgICAgICAgICAgICAgICAgICAgICAgICAgICAgICAgICAgICAgICAgICAgICAKICAgICAgICAgICAgICAgICAgICAgICAgICAgICAgICAgICAgICAgICAgICAgICAgICAgICAgICAgICAgICAgICAgICAgICAgICAgICAgICAgICAgICAgICAgICAgICAgICAgIAogICAgICAgICAgICAgICAgICAgICAgICAgICAgICAgICAgICAgICAgICAgICAgICAgICAgICAgICAgICAgICAgICAgICAgICAgICAgICAgICAgICAgICAgICAgICAgICAgICAgCiAgICAgICAgICAgICAgICAgICAgICAgICAgICAgICAgICAgICAgICAgICAgICAgICAgICAgICAgICAgICAgICAgICAgICAgICAgICAgICAgICAgICAgICAgICAgICAgICAgICAKICAgICAgICAgICAgICAgICAgICAgICAgICAgICAgICAgICAgICAgICAgICAgICAgICAgICAgICAgICAgICAgICAgICAgICAgICAgICAgICAgICAgICAgICAgICAgICAgICAgIAogICAgICAgICAgICAgICAgICAgICAgICAgICAgICAgICAgICAgICAgICAgICAgICAgICAgICAgICAgICAgICAgICAgICAgICAgICAgICAgICAgICAgICAgICAgICAgICAgICAgCiAgICAgICAgICAgICAgICAgICAgICAgICAgICAgICAgICAgICAgICAgICAgICAgICAgICAgICAgICAgICAgICAgICAgICAgICAgICAgICAgICAgICAgICAgICAgICAgICAgICAKICAgICAgICAgICAgICAgICAgICAgICAgICAgICAgICAgICAgICAgICAgICAgICAgICAgICAgICAgICAgICAgICAgICAgICAgICAgICAgICAgICAgICAgICAgICAgICAgICAgIAogICAgICAgICAgICAgICAgICAgICAgICAgICAgICAgICAgICAgICAgICAgICAgICAgICAgICAgICAgICAgICAgICAgICAgICAgICAgICAgICAgICAgICAgICAgICAgICAgICAgCiAgICAgICAgICAgICAgICAgICAgICAgICAgICAgICAgICAgICAgICAgICAgICAgICAgICAgICAgICAgICAgICAgICAgICAgICAgICAgICAgICAgICAgICAgICAgICAgICAgICAKICAgICAgICAgICAgICAgICAgICAgICAgICAgICAgICAgICAgICAgICAgICAgICAgICAgICAgICAgICAgICAgICAgICAgICAgICAgICAgICAgICAgICAgICAgICAgICAgICAgIAogICAgICAgICAgICAgICAgICAgICAgICAgICAgICAgICAgICAgICAgICAgICAgICAgICAgICAgICAgICAgICAgICAgICAgICAgICAgICAgICAgICAgICAgICAgICAgICAgICAgCiAgICAgICAgICAgICAgICAgICAgICAgICAgICAgICAgICAgICAgICAgICAgICAgICAgICAgICAgICAgICAgICAgICAgICAgICAgICAgICAgICAgICAgICAgICAgICAgICAgICAKICAgICAgICAgICAgICAgICAgICAgICAgICAgICAgICAgICAgICAgICAgICAgICAgICAgICAgICAgICAgICAgICAgICAgICAgICAgICAgICAgICAgICAgICAgICAgICAgICAgIAogICAgICAgICAgICAgICAgICAgICAgICAgICAgICAgICAgICAgICAgICAgICAgICAgICAgICAgICAgICAgICAgICAgICAgICAgICAgICAgICAgICAgICAgICAgICAgICAgICAgCiAgICAgICAgICAgICAgICAgICAgICAgICAgICAgICAgICAgICAgICAgICAgICAgICAgICAgICAgICAgICAgICAgICAgICAgICAgICAgICAgICAgICAgICAgICAgICAgICAgICAKICAgICAgICAgICAgICAgICAgICAgICAgICAgICAgICAgICAgICAgICAgICAgICAgICAgICAgICAgICAgICAgICAgICAgICAgICAgICAgICAgICAgICAgICAgICAgICAgICAgIAogICAgICAgICAgICAgICAgICAgICAgICAgICAgICAgICAgICAgICAgICAgICAgICAgICAgICAgICAgICAgICAgICAgICAgICAgICAgICAgICAgICAgICAgICAgICAgICAgICAgCiAgICAgICAgICAgICAgICAgICAgICAgICAgICAgICAgICAgICAgICAgICAgICAgICAgICAgICAgICAgICAgICAgICAgICAgICAgICAgICAgICAgICAgICAgICAgICAgICAgICAKICAgICAgICAgICAgICAgICAgICAgICAgICAgICAgICAgICAgICAgICAgICAgICAgICAgICAgICAgICAgICAgICAgICAgICAgICAgICAgICAgICAgICAgICAgICAgICAgICAgIAogICAgICAgICAgICAgICAgICAgICAgICAgICAgICAgICAgICAgICAgICAgICAgICAgICAgICAgICAgICAgICAgICAgICAgICAgICAgICAgICAgICAgICAgICAgICAgICAgICAgCiAgICAgICAgICAgICAgICAgICAgICAgICAgICAgICAgICAgICAgICAgICAgICAgICAgICAgICAgICAgICAgICAgICAgICAgICAgICAgICAgICAgICAgICAgICAgICAgICAgICAKICAgICAgICAgICAgICAgICAgICAgICAgICAgICAgICAgICAgICAgICAgICAgICAgICAgICAgICAgICAgICAgICAgICAgICAgICAgICAgICAgICAgICAgICAgICAgICAgICAgIAogICAgICAgICAgICAgICAgICAgICAgICAgICAgICAgICAgICAgICAgICAgICAgICAgICAgICAgICAgICAgICAgICAgICAgICAgICAgICAgICAgICAgICAgICAgICAgICAgICAgCiAgICAgICAgICAgICAgICAgICAgICAgICAgICAgICAgICAgICAgICAgICAgICAgICAgICAgICAgICAgICAgICAgICAgICAgICAgICAgICAgICAgICAgICAgICAgICAgICAgICAKICAgICAgICAgICAgICAgICAgICAgICAgICAgICAgICAgICAgICAgICAgICAgICAgICAgICAgICAgICAgICAgICAgICAgICAgICAgICAgICAgICAgICAgICAgICAgICAgICAgIAogICAgICAgICAgICAgICAgICAgICAgICAgICAgICAgICAgICAgICAgICAgICAgICAgICAgICAgICAgICAgICAgICAgICAgICAgICAgICAgICAgICAgICAgICAgICAgICAgICAgCiAgICAgICAgICAgICAgICAgICAgICAgICAgICAgICAgICAgICAgICAgICAgICAgICAgICAgICAgICAgICAgICAgICAgICAgICAgICAgICAgICAgICAgICAgICAgICAgICAgICAKICAgICAgICAgICAgICAgICAgICAgICAgICAgICAgICAgICAgICAgICAgICAgICAgICAgICAgICAgICAgICAgICAgICAgICAgICAgICAgICAgICAgICAgICAgICAgICAgICAgIAogICAgICAgICAgICAgICAgICAgICAgICAgICAgICAgICAgICAgICAgICAgICAgICAgICAgICAgICAgICAgICAgICAgICAgICAgICAgICAgICAgICAgICAgICAgICAgICAgICAgCiAgICAgICAgICAgICAgICAgICAgICAgICAgICAgICAgICAgICAgICAgICAgICAgICAgICAgICAgICAgICAgICAgICAgICAgICAgICAgICAgICAgICAgICAgICAgICAgICAgICAKICAgICAgICAgICAgICAgICAgICAgICAgICAgICAgICAgICAgICAgICAgICAgICAgICAgICAgICAgICAgICAgICAgIDw/eHBhY2tldCBlbmQ9J3cnPz7/2wBDAAMCAgMCAgMDAwMEAwMEBQgFBQQEBQoHBwYIDAoMDAsKCwsNDhIQDQ4RDgsLEBYQERMUFRUVDA8XGBYUGBIUFRT/2wBDAQMEBAUEBQkFBQkUDQsNFBQUFBQUFBQUFBQUFBQUFBQUFBQUFBQUFBQUFBQUFBQUFBQUFBQUFBQUFBQUFBQUFBT/wAARCAC4BAQDASIAAhEBAxEB/8QAHwAAAQUBAQEBAQEAAAAAAAAAAAECAwQFBgcICQoL/8QAtRAAAgEDAwIEAwUFBAQAAAF9AQIDAAQRBRIhMUEGE1FhByJxFDKBkaEII0KxwRVS0fAkM2JyggkKFhcYGRolJicoKSo0NTY3ODk6Q0RFRkdISUpTVFVWV1hZWmNkZWZnaGlqc3R1dnd4eXqDhIWGh4iJipKTlJWWl5iZmqKjpKWmp6ipqrKztLW2t7i5usLDxMXGx8jJytLT1NXW19jZ2uHi4+Tl5ufo6erx8vP09fb3+Pn6/8QAHwEAAwEBAQEBAQEBAQAAAAAAAAECAwQFBgcICQoL/8QAtREAAgECBAQDBAcFBAQAAQJ3AAECAxEEBSExBhJBUQdhcRMiMoEIFEKRobHBCSMzUvAVYnLRChYkNOEl8RcYGRomJygpKjU2Nzg5OkNERUZHSElKU1RVVldYWVpjZGVmZ2hpanN0dXZ3eHl6goOEhYaHiImKkpOUlZaXmJmaoqOkpaanqKmqsrO0tba3uLm6wsPExcbHyMnK0tPU1dbX2Nna4uPk5ebn6Onq8vP09fb3+Pn6/9oADAMBAAIRAxEAPwD4g0fRdQ8RahFYaZZzX97LnZb26F3bAycAV1H/AApXx9/0J+tf+Ab/AOFer/8ABPVFk/a08Gq6h1KXXDDI/wBS1fX/AO01/wAFAdV+BPxa1PwjZ+DrDU4LVUYXEk2xjuGem00CPzp/4Ur4+/6E7Wv/AADf/Cj/AIUr4+/6E/Wv/AN/8K+wP+Hsmv8A/RPtN/8AAo//ABFH/D2TX/8Aon2m/wDgUf8A4igZ8f8A/ClfH3/Qna1/4Bv/AIUf8KV8ff8AQn61/wCAb/4V9gf8PZNf/wCifab/AOBX/wBhR/w9k1//AKJ9pv8A4FH/AOIoEfH/APwpXx9/0J2tf+Ab/wCFH/ClfH3/AEJ2tf8AgG/+FfYH/D2TX/8Aon2m/wDgV/8AYUf8PZNf/wCifaaP+3o//EUDPj//AIUr4+/6E/Wv/AN/8KP+FK+Pv+hO1r/wDf8Awr7A/wCHsmv/APRPtN/8Cv8A7Cj/AIeya/8A9E+03/wK/wDsKAPj/wD4Ur4+/wChO1r/AMA3/wAKP+FK+Pv+hO1r/wAA3/wr7A/4eya//wBE+03/AMCj/wDEUf8AD2PxB/0T7Tf/AAK/+woA+P8A/hSvj7/oTta/8A3/AMKP+FK+Pv8AoTta/wDAN/8ACvsD/h7Jr/8A0T7Tf/Ar/wCwo/4eya//ANE+03/wK/8AsKAPj/8A4Ur4+/6E7Wv/AADf/Cj/AIUr4+/6E7Wv/AN/8K+wP+Hsmv8A/RPtN/8AAr/7Cj/h7H4g/wCifab/AOBX/wBhQB8f/wDClfH3/Qna1/4Bv/hR/wAKV8ff9CdrX/gG/wDhX2B/w9k1/wD6J9pv/gV/9hR/w9k8Qf8ARPtN/wDAo/8AxFAHx/8A8KV8ff8AQna1/wCAb/4Uf8KV8ff9CdrX/gG/+FfYH/D2TX/+ifab/wCBX/2FH/D2PxB/0T7Tf/Ar/wCwoA+P/wDhSvj7/oTta/8AAN/8KP8AhSvj7/oTta/8A3/wr7A/4ex+IP8Aon2m/wDgV/8AYUf8PZNf/wCifab/AOBR/wDiKAPj/wD4Ur4+/wChO1r/AMA3/wAKP+FK+Pv+hO1r/wAA3/wr7A/4ex+IP+ifab/4Ff8A2FH/AA9j8Qf9E+03/wACv/sKAPj/AP4Ur4+/6E7Wv/AN/wDCj/hSvj7/AKE7Wv8AwDf/AAr7A/4eya//ANE+03/wKP8A8RR/w9j8Qf8ARPtN/wDAr/7CgD4//wCFK+Pv+hO1r/wDf/Cj/hSvj7/oTta/8A3/AMK+wP8Ah7Jr/wD0T7Tf/Ar/AOwo/wCHsmv/APRPtN/8Cv8A7CgD4/8A+FK+Pv8AoTta/wDAN/8ACj/hSvj7/oTta/8AAN/8K+wP+HsfiD/on2m/+BR/+Io/4eya/wD9E+03/wACv/sKAPj/AP4Ur4+/6E7Wv/AN/wDCj/hSvj7/AKE7Wv8AwDf/AAr7A/4eya//ANE+03/wKP8A8RR/w9k1/wD6J9pv/gV/9hQB8f8A/ClfH3/Qna1/4Bv/AIUf8KV8ff8AQna1/wCAb/4V9gf8PY/EH/RPtN/8Cv8A7Cj/AIeya/8A9E+03/wK/wDsKAPj/wD4Ur4+/wChO1r/AMA3/wAKP+FK+Pv+hO1r/wAA3/wr7A/4eya//wBE+03/AMCv/sKP+Hsmv/8ARPtN/wDAr/7CgD4//wCFK+Pv+hO1r/wDf/Cj/hSvj7/oTta/8A3/AMK+wP8Ah7Jr/wD0T7Tf/Ar/AOwo/wCHsfiD/on2m/8AgV/9hQB8f/8AClfH3/Qna1/4Bv8A4Uf8KV8ff9CdrX/gG/8AhX2B/wAPZNf/AOifab/4Ff8A2FH/AA9k1/8A6J9pv/gV/wDYUAfH/wDwpXx9/wBCdrX/AIBv/hR/wpXx9/0J2tf+Ab/4V9gf8PZNf/6J9pv/AIFf/YUf8PY/EH/RPtN/8Cv/ALCgD4//AOFK+Pv+hO1r/wAA3/wo/wCFK+Pv+hO1r/wDf/CvsD/h7Jr/AP0T7Tf/AAK/+wo/4eya/wD9E+03/wACv/sKAPj/AP4Ur4+/6E7Wv/AN/wDCj/hSvj7/AKE7Wv8AwDf/AAr7A/4eya//ANE+03/wK/8AsKP+Hsmv/wDRPtN/8Cv/ALCgD4//AOFK+Pv+hO1r/wAA3/wo/wCFK+Pv+hP1r/wDf/CvsD/h7H4g/wCifab/AOBX/wBhR/w9k1//AKJ9pv8A4FH/AOIoA+P/APhSvj7/AKE7Wv8AwDf/AAo/4Ur4+/6E7Wv/AADf/CvsD/h7Jr//AET7Tf8AwKP/AMRR/wAPZPEH/RPtN/8AAo//ABFAHx//AMKV8ff9CdrX/gG/+FH/AApXx9/0J2tf+Ab/AOFfYH/D2PxB/wBE+03/AMCv/sKP+Hsmv/8ARPtN/wDAr/7CgD4//wCFK+Pv+hO1r/wDf/Cj/hSvj7/oTta/8A3/AMK+wP8Ah7Jr/wD0T7Tf/Ar/AOwo/wCHsmv/APRPtN/8Cv8A7CgD4/8A+FK+Pv8AoTta/wDAN/8ACj/hSvj7/oTta/8AAN/8K+wP+HsfiD/on2m/+BX/ANhR/wAPY/EH/RPtN/8AAr/7CgD4/wD+FK+Pv+hP1r/wDf8Awo/4Ur4+/wChO1r/AMA3/wAK+wP+Hsmv/wDRPtN/8Cv/ALCj/h7Jr/8A0T7Tf/Ar/wCwoA+P/wDhSvj7/oTta/8AAN/8KP8AhSvj7/oTta/8A3/wr7A/4eya/wD9E+03/wACv/sKP+Hsmv8A/RPtN/8AAr/7CgD4/wD+FK+Pv+hO1r/wDf8Awo/4Ur4+/wChO1r/AMA3/wAK+wP+Hsmv/wDRPtN/8Cv/ALCj/h7H4g/6J9pv/gV/9hQB8f8A/ClfH3/Qna1/4Bv/AIUf8KV8ff8AQna1/wCAb/4V9gf8PZNf/wCifab/AOBX/wBhR/w9j1//AKJ9pv8A4Ff/AGFAHx//AMKV8ff9CdrX/gG/+FH/AApXx9/0J+tf+Ab/AOFfYH/D2TX/APon2m/+BR/+Io/4eya//wBE+03/AMCv/sKAPj//AIUr4+/6E7Wv/AN/8KP+FK+Pv+hO1r/wDf8Awr7A/wCHsmv/APRPtN/8Cv8A7Cj/AIeya/8A9E+03/wK/wDsKAPj/wD4Ur4+/wChO1r/AMA3/wAKP+FK+Pv+hO1r/wAA3/wr7A/4eyeIP+ifab/4FH/4ij/h7Hr/AP0T7Tf/AAK/+woA+P8A/hSvj7/oTta/8A3/AMKP+FK+Pv8AoTta/wDAN/8ACvsD/h7Jr/8A0T7Tf/Ar/wCwo/4eya//ANE+03/wK/8AsKAPj/8A4Ur4+/6E7Wv/AADf/Cj/AIUr4+/6E7Wv/AN/8K+wP+Hsmv8A/RPtN/8AAr/7Cj/h7H4g/wCifab/AOBX/wBhQB8f/wDClfH3/Qna1/4Bv/hR/wAKV8ff9CdrX/gG/wDhX2B/w9j1/wD6J9pv/gV/9hR/w9k1/wD6J9pv/gV/9hQB8f8A/ClfH3/Qna1/4Bv/AIUf8KV8ff8AQna1/wCAb/4V9gf8PZNf/wCifab/AOBR/wDiKP8Ah7H4g/6J9pv/AIFf/YUAfH//AApXx9/0J2tf+Ab/AOFH/ClfH3/Qn61/4Bv/AIV9gf8AD2PxB/0T7Tf/AAK/+wo/4eya/wD9E+03/wACv/sKAPj/AP4Ur4+/6E7Wv/AN/wDCj/hSvj7/AKE7Wv8AwDf/AAr7A/4ex+IOf+Lfab/4Ff8A2FH/AA9k1/8A6J9pv/gV/wDYUAfH/wDwpXx9/wBCdrX/AIBv/hR/wpXx9/0J2tf+Ab/4V9gf8PY/EH/RPtN/8Cv/ALCj/h7Jr/8A0T7Tf/Ao/wDxFAHx/wD8KV8ff9CfrX/gG/8AhR/wpXx9/wBCdrX/AIBv/hX2B/w9j8Qf9E+03/wK/wDsKP8Ah7Jr/wD0T7Tf/Ar/AOwoA+P/APhSvj7/AKE7Wv8AwDf/AAo/4Ur4+/6E7Wv/AADf/CvsD/h7Jr//AET7Tf8AwK/+wpf+Hsmv/wDRPtN/8Cj/APEUAfH3/ClfH3/Qn61/4Bv/AIUf8KV8ff8AQna1/wCAb/4V9gf8PZNf/wCifab/AOBX/wBhR/w9j8Qf9E+03/wK/wDsKAPj/wD4Ur4+/wChO1r/AMA3/wAKP+FK+Pv+hO1r/wAA3/wr7A/4eya//wBE+03/AMCv/sKP+HsfiD/on2m/+BX/ANhQB8f/APClfH3/AEJ2tf8AgG/+FH/ClfH3/Qn61/4Bv/hX2B/w9j1//on2m/8AgV/9hR/w9j8Qf9E+03/wK/8AsKAPj/8A4Ur4+/6E7Wv/AADf/Cj/AIUr4+/6E7Wv/AN/8K+wP+Hsmv8A/RPtN/8AAr/7Cj/h7Jr/AP0T7Tf/AAK/+woA+P8A/hSvj7/oTta/8A3/AMKP+FK+Pv8AoTta/wDAN/8ACvsD/h7H4g/6J9pv/gV/9hR/w9k1/wD6J9pv/gV/9hQB8f8A/ClfH3/Qna1/4Bv/AIUf8KV8ff8AQna1/wCAb/4V9gf8PZNf/wCifab/AOBR/wDiKP8Ah7H4g/6J9pv/AIFf/YUAfH//AApTx9/0J2tf+Ab/AOFH/ClfH3/Qna1/4Bv/AIV9gf8AD2PxB/0T7Tf/AAK/+wo/4ex+IP8Aon2m/wDgV/8AYUAfH/8AwpXx9/0J+tf+Ab/4Uf8AClfH3/Qna1/4Bv8A4V9gf8PZPEH/AET7Tf8AwKP/AMRR/wAPY/EH/RPtN/8AAr/7CgD4/wD+FK+Pv+hO1r/wDf8Awo/4Ur4+/wChO1r/AMA3/wAK+wP+Hsmv/wDRPtN/8Cv/ALCj/h7H4g/6J9pv/gV/9hQB8f8A/ClfH3/Qna1/4Bv/AIUf8KV8ff8AQna1/wCAb/4V9gf8PZNf/wCifaZ/4FH/AOIo/wCHsev/APRPtN/8Cv8A7CgD4/8A+FK+Pv8AoTta/wDAN/8ACj/hSvj7/oTta/8AAN/8K+wP+HsfiD/on2m/+BX/ANhR/wAPY/EH/RPtN/8AAr/7CgD4/wD+FK+Pv+hO1r/wDf8Awo/4Ur4+/wChO1r/AMA3/wAK+wP+HsfiD/on2m/+BX/2FH/D2TX/APon2m/+BX/2FAHx/wD8KV8ff9CdrX/gG/8AhR/wpXx9/wBCdrX/AIBv/hX2B/w9j8Qf9E+03/wK/wDsKP8Ah7Jr/wD0T7Tf/Ao//EUAfH//AApXx9/0J2tf+Ab/AOFH/ClfH3/Qna1/4Bv/AIV9gf8AD2PxB/0T7Tf/AAK/+wo/4ex+IP8Aon2m/wDgV/8AYUAfH/8AwpXx9/0J+tf+Ab/4Uf8AClfH3/Qna1/4Bv8A4V9gf8PZNf8A+ifab/4Ff/YUf8PY9f8A+ifab/4Ff/YUAfH/APwpXx9/0J2tf+Ab/wCFH/ClfH3/AEJ2tf8AgG/+FfYH/D2TX/8Aon2m/wDgV/8AYUf8PY/EH/RPtN/8Cv8A7CgD4/8A+FK+Pv8AoTta/wDAN/8ACj/hSvj7/oT9a/8AAN/8K+wP+HsniD/on2m/+BR/+Io/4ex+IP8Aon2m/wDgV/8AYUAfH/8AwpXx9/0J2tf+Ab/4Uf8AClfH3/Qna1/4Bv8A4V9gf8PZNf8A+ifab/4Ff/YUf8PZNf8A+ifab/4Ff/YUAfH/APwpXx9/0J2tf+Ab/wCFH/ClfH3/AEJ+tf8AgG/+FfYH/D2PxB/0T7TP/Ao//EUf8PZNf/6J/pv/AIFf/YUAfH//AApXx9/0J2tf+Ab/AOFNk+C/jyNCzeENZVVGSxs3AA/KvsL/AIex6/8A9E+03/wK/wDsK+j/ANk/9q68/af0Hxm2oeHLPRv7LhKp5L+ZvymecqMUAfj9LC8ErxyKUkRirKwwQR1BorX8bf8AI7eI/wDsJ3X/AKNaigD3T/gnl/ydt4M/3Lr/ANEtVv8A4KKf8nQ+If8ArlF/6DVT/gnn/wAnb+DP9y6/9EtVv/gop/ydF4h/65Rf+g0CPmailpKACiiigAoopaACiiigYUUUUAFFFFABRRRQAUUUUAFFFFABRRRQAUUUUAFFFFABRRRQAUUUUAFFFFABRRRQAUUUUAFFFFABSUtFABRRRQAUlLRQIKKKKBhRRRQIKKKKBhRRRQAUUUlAC0lLRQIKKKKBhRRRQAUUUUAJS0UUAFFFFAgooooAKKKKBhRRRQAUUUUCCiiigYlLRRQAUUUUAFFFFABRRRQAUUUUAFFFFABRRRQAUUUUAFFFFABRRRQAUUUUAFFFFABRRRQAUUUUAFFFFABRRRQAUUUUAFFFFABRRRQAUUUUAFFFFABRRRQAUUUUAFFFFABRRRQAV+hf/BKv/kX/AInf9cx/6Lr89K/Qv/glX/yL/wATv+uY/wDRdAHwb41/5HXxF/2Ern/0a1FHjX/kdfEX/YSuf/RrUUAe6f8ABPH/AJO28Gf7l1/6Jarf/BRT/k6LxD/1yi/9Bqp/wTy/5O28Gf7t1/6Jarf/AAUU/wCTovEP/XKL/wBBoEfM1FH40UAFFFFABRRR+NAC0UUUDCiiigAooooAKKKKACiiigAooooAKKKKACiiigAooooAKKKKACiiigAooooAKKSigBaKKKACipo7SeSPesLsn94Djv8A4Uk1nPb5MkMkY/2lI9v8fyrR0qiV3F/cZKrTbspL7yKikpQCzAAEn0FQk27I0bSV2FFWG0y8WTy2tZg2M7Shz1x/OoJI2hYq6lGHVWGDVunOPxJoiNSEvhkmJRUslncRIHeGREP8TKcev8qi68DmpcZJ2a1GpRkrp6BRRQqlmCqMknikk27IptJXYUVJPaz2jBZ4nhZhkB1wSKbFDJMxEaM5Aydoziq5JX5bak88eXmvoNop80MlvIUkRo3HVWGDSx2s8kRkSJ2TpuA46H/A0KEndJbA5xVm3uR0UH8qKgsKKcYJfL8wowj/AL2DimqpdlVRlmOAPU1XLJOzRPNFq6YUVLcWk9ps8+F4d43LvXGR61FRKLi7SVmEZKSvF3QUU+G3muC3lRtJtGTtGcdqZ069aTTWrQKSeiYUUscTzSBI1Z3PRVGTU/8AZ9xtz9nkxgnO3jA7/SrjTnJXjFsiVSEXaUkivRSyRtDIySKUdTgqwwRSVGq3NLp7BRU1vZXF2rtDBJMqfeZFJA+tJJazQqHeJ0Q8hmFX7OdubldjP2lNvl5lcioqSG2luGxHG8n+6M0xlaNirqVYdQRg1PLLexSnF3SYlFKysv3lI+vFJSaa3KTTV0FFTJY3MsBmSCRoV6yBcgVBTcZR3QoyjLZ3FoqX7HP5Pm+TJ5eM79px9f5/lUaq0jbUBZvQc03CSdmtRKpBq6eglFSTW8lu2JI3jPowxUdS007MpNSV0wop0cUk0gSJGkc9FUZJpGjaNirqyt6EYos7XtoLmV7X1Eoqa3sbi8VzBBJME5bYM4+tQU3GUUm1uJSjJ2T2FoooqSwooooAKKKfDby3LFYY3kIGSFGcU0nJ2SJbUdWMooI2nB6jg06KN5pAiK0jnoqjJoSbdkDairsbRVj+z7jbkQSEc849OtQOrRsVZSrDgg1UoTj8SaJjUhP4ZJiUUlWIbG5uIy8VvJKgONyqSPzpRjKekVccpxhrJ2IKKlktZol3vE6IQCCwPekht5Z8mOJ5AOpUZxT9nO/LbUXtIW5uZWI6KV0aNirAqw6g9aSoLCiipba0nvGKwRPMR1CDJFVGLk7RVxSkoq8nZEVFBUqcHIPpUsNnPMheOF3XONyrkUKMpaJA5RjrJ2IqKPp16VJLazQqGkidF45YEDkZH6UcsmrpaBzRTtfUjoooVSzAKCzHgAUt9h7bhRTpIZIceYjJkZG4EZp9vazXchWGJ5WAyQgziqUZN8qWpLnFR5m9CKilkRo2ZHBVlOCD2pKgq99UFFJVyTSb2GwS9ktZks5DtWdkIRj6A0DKlFFFABRVi1027vUZ7e2mmRerRoSB0/xH50+bSL62QvLZzxqACWaMgAHGD+o/Os/aQvbmVzT2c7XtoVKKKK0MworQk8O6pEqM+n3Kq4ypMTfMOOn5iqM0L28hSRGjcdVYYNZxqQl8LuW4Sj8SsNoqz/Zt35Jm+yzeUBuL7DjHrmq1VGSl8LuS4uO6CiippbOeCMPJDJGjdGZSBT5knZhytq6RDRT4YZLiRY4kaSRuiqMmpb7TrrTJvJu7eW2lxnZKpU/kaXNG/LfUOV2vbQr0UlLVCCikooAWv0L/AOCVf/Iv/E7/AK5j/wBF1+elfoX/AMEq/wDkX/id/wBcx/6LoA+DfGn/ACOviL/sJXP/AKNaijxp/wAjr4i/7CVz/wCjWooA90/4J5/8nbeDP9y6/wDRLVb/AOCin/J0XiH/AK5Rf+g1U/4J5f8AJ23gz/cuv/RLVb/4KKf8nQ+If+uUX/oNAj5mooooAKKKKACiiigBaKKKBhRRRQAUUUUAFFFGaACiiigAooooAKKKKACiiigAooooAKKKKACiiigAooooAKKM0lABR2paTtQI+lvC+pReG/hHaan9kjuGhg3bWXrzik8A+PtO+Jb3On3GkrAVTJHBBByOvrg1P4VuNPtvhDZvqkfm2It/3qgZJGTWDp/xR8C+D7WU6LYyLMwPyKmC3PGTk8f571++1cRDCypOvWjGlyK8WtXofzrRw08XGtHD0Jyre0dpp6LU8l+IegxeG/F1/Y2+BDG/yAHoPSut+BPhGLXNcl1O6VXtrHkK3QsRXA+JNcl8Sa1d6jP/AKyd93+Fe3fBZRb/AA31WWMbZCWJP0FfnOQ0qNfMqldL3YKUkvyP07iGtXw+V0sPJ+/Nxi367nMWPxS8r4oXV1OEfTZn+z7QoxtB+U/1rvvE3wptPEni7TtYh2fZCA1wmfv8cEeua+dLWwn1fVktoFMk8suB+dfW/h6zTw/othpNzeeZdeUVBdvmb1x9M19Zw23mlCpHFw5owlzRfn2PjuKEsor05YKpyynHlkl/L3PH/jh4stbq+tvDtrthhhYG4kVRwfT3wK6z4Y+AfDOmTSzWt/FrdyVwWK42jjOB9eM14x8SPC9z4X8U3kFwXljmcyxTPzvUnjJ7mu6/ZxH/ABONQ56RZ/UV5mU4z6xnNSGKopzd9/s26JHrZxgvq+RU54Ss1BJbfav1bPOvHUKQeLtWSJBGguHAUDA6ntR4FAbxlpAZQwNwuQRnvTvH/PjPWGyDm4fkdDyaZ4FIHjLRyeguFJPHrXxeF/5GkP8AGvzPucVf+yZ/4H+R3/7RW3/hItOIVQWt8kgDnn/69cJ4D8SHwt4mtb0qGjzskDD+E8H9K7z9ozjxBpuRj/R/XrzXkRrtzPESwec1K9PeMjgynDQxuR0qFTaUbH0H8YPBC+LrPStU0mNXkkZY3KDgow4PHHFT+Pb61+HHw7ttKt0U308QhQhcn/abmm/AHxVLq2hy6ZP8xsuUc/3Se/515V8T/FVx4n8aTyHIht38qGPHQA9/xr7bMsRhMPg3i8OrTxNltt3Pg8qw2MxONWDxLvDC3e/xdrnMLpF8yhhZzkEZyIz+dDaPfrnNlccZz+6bjHU19Eaf4u8UR6fbqnhWMqIUVW3Z4A4zx04NN1Pxd4nk0m7SXwoio0LZbJGF2H1HXB6fWvHlw3hIwdRVZ3Sv8D/yPcjxRjJ1FTdGFm7fGv8AMyNftov+FC2hSJWk2qAcZOS5/qP/ANdecL8KdetdGGrziK0t1XzP3z7T6gfjivefBcVjcfD3Rlv/AC2gVA48xuAwY4/KuG/aGOqraWJhlxohHKR8fN23eo9Pwr3M8yvD08N/aU021GKSWltN2fP8P5tiKmLeV02knKbblrfXZEmsWQ+JXwjg1FET+0LHJ3KMEheCPyxXhB71778B2M3grVonYlPnG3tyvNeDXQAuZQOm8/zr4/iKnGUcNi0rOpHX1R9rwzUlCWKwbd1Tnp6PU+gvgv4f0OXw6b2GFlubhDbTNOQVY99o/EV5D8R9O0zR/E09jpcc0cMHyN5xyWb1rMs/FerWFnDaW99LHbwy+dGiscK3rVLUNQuNUu5Lq6lM08hyzt1Nc+Z5thsZhKWHpUuWUd3ZanTlWT4rA42tia1bmjPZXeh2vwRjjk8eW3mIrja2Awz2r03xz8WoPBfiRtMOkx3SKgLSDCnJ9vb+tea/A/8A5Hy2/wB1v5f5/WvUfHOteBtP8TMuvWfnagqqTJs3D2HXjH4f4/aZNKpTyaEqVWNN8z1l1XY+GzuNOpnlSNWjKquRWUXs+5Q+L/h/S9Y8Cpr1taR21woRwwQKdpHQ4714BbwtdTxQpy0jBR+Neq/FD4t2fiXSE0jSYWS1yC8jcdBgBR6VwngONZPGekK4yv2hc/nXyubywmYZxGOGa5W4ptaJvqfW5LHGZbkk5YpNSjzNJ6tLoj1fxisfw1+GFpptuoS/vsGVh97gDJz/AIfyrb8N3dl8Vvh3PZSIovo02twAwkA+Vs/561y/7SMjC90iInEaxsyjtzj/AA/z0qf9n7w/cWcd1rc8vkWbAxqrcBvf6f4V9hhqkq2dVsucL0bcrXZJbnxeKpRo5FRzNT5a/NzJ923sdJp+n2fwb+H8812sct63HqHfnaB+BJrlPhHp+lalDq/ibWzBcXCMX8uQj5eCScfp0rf+OXh2XxJ4ctdX0+driG03M6I3yFD/ABcemO/rXj3gTwXqHjTUjaWjGGFeZpudqjj/AOtXJja9bD5vDC0KHMoxtBdNviOzAUKGKyaeMxGI5XOV6j67/Ce4eFdV0L4rWGp2r6NHAIjs3EDJBPBz/nqfx+dtasP7K1i8swciCVkH4GvfL7XvD/wb0CXTbDbd6qy/OqjktjGXPbHpXz7e3T311NcS/wCslYu2B3JzXhcUVKb9jTm06yT5mlp6H0HCdOonXqQTVGTXIpPXzfzPcvCcSf8ACiNROxQTGx3EZGc9frXg1e9+FRn4D6jgf8sm57da8FNcnEejwtv+fcTt4Z1+t3/5+SPf/gvr1r4o8MXGg3scbzQoUAZQMxnP5YNQfC/4aHQ/FWrXWoRDybNmWFiCAeuSPYD+VeQ+DPEE/hnxHZ3tu2MOFYYyCp4NfQXxg8XyaF4JDW64m1D90G5+RSMt2/DtX1mW4zC4nALMcQv3mHVvW+1z47NMFjMLmEstwz/d4l39Lb2PG/id4hk8aeLLk2UDSWtv+7QRLuzjqeB61yR0a/HP2K4/CMmu8+DOsarpN9fvpukrqbsmGJbb5fuK9U/4THxUpyfCceRwrBjxz+nQ+nNeFhsnoZpT+uV6slKd20otrfvY+gxWd4jKan1KhSg4wsk3NJ7drnmHwQ0t7fxwBeWzRlYiyiVMfQ80vjjwXqHir4narZ6VbA7SCcYVVG0CvRtI1bU9T+IFj/aWkjSmjtmCBXzu6e3A9ua7V7WCEaudL8mPVZF3O2MnzCuVLf5719Ph8iw+Ky6FKTbjTlJ7WlLR6HyeJ4gxGEzOdaEUpVIxW94xu1qeK/Duzu/h544i0jU3gkivoyskaHODjjOf6881y3xb8Jr4U8WzRwqRa3A82LjpnqPz5/GsqKbUo/HMbXsjnUVuwJHfruDe/SvS/wBo2NcaJJj5ijDPevk60aeKyaclG3sp2V97Pp+B9lQlVwmeQi5X9rC8rbXXX8TxSij9afJDJD9+Nk/3lIr4Tldr20P0DmV7X1GUU9oZFjDsjBT0Yg4P40CGRojII2KDqwU4H40+SW1hc8N7ojNfQPwP0HRptD/tKCOWO/YNbytLjaxP93P+eK+f607PxNqmn2a2ltfSxW6yCUIrcBh0r6HJMyoZbXdWvT51Y+bz7K6+aYdUcPU5Hf8AA3Pihpel6J4mlstLimiSIYk8wcFjzke1aXwNRJPHUIdFf5G4YAjp6VxGp6pdaxeSXd7M09xJ952613HwK/5HqH02N/KurJakK+dU5xjaLlsceeU54fIqkJSvJR38z0fxp8XIPBvih9LbSEnjjCsZVIB5x0GPY/nVD406Bpd/4QtddtbVbe4BXDKmCyEdDitbxprXgXTvFbtrlkZdTQIxk2Bh2x3+lcF8VfixaeLNMj0nTINtorBnlcdSOmPSvtc5xVKGExNHFVozk/gSWsfmfC5HhKs8Zha2EoTpxS99t6SXoeY2trJfXUVvEN0kjbVFe4eOpF+G/wANdP0mxAivbtlklkUDORjJz+VeVfD6NJPG2jhzhfPU5/WvQf2kGYa1pKktt8hiAScdR0HT8q+Ty/8A2TJq+Mp/G5KPoj7HMn9czzD4Kp8Ci5W7s7DSZbH4ufDuW2ZIxfqu3ngpIOjev402G1svg78O2N0sTajKpwMA75MHgH0H9awv2f8Aw7cafa3mt3Exgs5F8tY24BxzuPtzV/48eHJtd0G01qxnea3tgd8StlCp53gev+NfdVnNZT/aSpWruNn6d7H59R9m85/sp1r4dTuvX+W55V4f8C638Qvt1/ZLG7K+XDHGWIY4H5fqK6GP9n/xG1kZmeBJtpIgJOSfTP5/lXXfs9zeV4Y1p+MowfPT+Fvx7VT+EPi7VtW+IOo2t5eSXETmRvLc5CkE9B2r5/C5PlcoYaNeMnOsnrfRPufSYvOs2hUxUsPKKp0GtLataaHi15ZzafdSW1whimjO1kbqDXr/AOziqteauSqk+VjLDpXE/FoBfiFrAXp5vpjtXb/s4/8AH5q+OoQd68LIaKo5w6W6jzL8GfQcQ1nXyRVtnLkf4o8q8SYHiDUQBgCdxj8a9R+Aniq3SafQb1YzHJlod+MFj1HTuP5V5d4k/wCRh1LJ/wCXh/51W07UJdL1C3u4G2yQuGBHtXm5Xjv7PzD2rV4ttNeTZ6ma5f8A2llvsU7SSTT80j220+Eoj+LEsvlf8SqPF0oYcNuzx/31msH44+IV1rXYtF0+HzEs8hvLXJLdxXql944aH4ZjxCilZ3tlK8EgSH5f55rwX4b6tqEPjZL20tDqN65ZvLz1JBOelfcZtTwtB08qw7tGq+aTSu7PZI+Byeri8R7XN8Sk5UlyRTdldbtnNf2Pf/8APlcY5P8Aqz2rc8D6TPH4y0YXdpIkLXKqTLGQp9uR+le5nxj4ozj/AIRJOeQNxPUYXt2/l6Vja3rutarrPhuPUdDXTYRqCt5ynIZsHjn69frXJTyDC4OrTrQqSbUo6OLS3XWx21eIsXjKNShUpRinGWqmm9n0uYvxu8O3GueMtKsdNt/MuJYOQg98ZP8A9eue0vQ9Y+E3iTTLy8aEee6xtErAkqwxyPxI/OvopobIaoJP3I1Fo+CeX2j29K+XPiO2rr43uRq7s86y/uzg7dmeNo9P8K7c8wFHKa8cbFN1Jz36LbQ4OH8xrZzh5YCTSpwhqn8UnrqvI6j49eE49N1iDWbVAsF8Muqjo+OteU1798XMTfCnSXclmBj+YnJ+7/8AWFeA18XxHh4YbMZxpqydn96ufdcMYmpisspyqO7jeP3Ox0Hw/j0ebxpo8evw3Fzo7XKLcw2gzK6FhlV9zX6z/Eb4C/C+y/ZiTTbrS9UuNB0mD+1I7C3YG9BIyN3fGf5V+PlvcSWlxFPC5jmjYOjqeVIOQa9AvP2hviJqDXzT+Kr+Q3totlP+8OHhGcL+pr5g+rOF1VrVtTu2sVdLIysYVk+8EzwD74qoelLSHpSA+5v2TZLfTfgRqGpSWsNw9tLPMFkUfMQBxk9c4A//AF0fCb9pXRvix4m/4RzUPC0Fn9pBEbqoYA9MHI456HOeQKn/AGRpLaH4EXsl6jNZLNOZ1Ubsp34z6Z+tYmg/G/4I/DuSbUfDejsmohWRfKhIYjOCNxzgceh4+vP4bUo/WMRi4woynU5/daei9T9GhU9lToOVRRjbVPqeD/tQeDNN8D/Fq+sdJg+y2UkMc4hBOFZh8wGe3+NH7Mvw5T4i/Ey1hu4fM02yX7VcZAKlQQAD9c/pXN/GL4kS/FXx1ea88AtY5AIoYs5KxqTtBPc4NfQH7BsMH2jxLIcfaPJXA287frn36Ed/rX6BmdWvgslSm/fsk/nZHzGDhTxGYXj8N2y54g+Ptt4f/aNGnSon/COWyLYGMMGjQcZYZHTpwP1q1+0j8B/+Eu+IPhrVdGg8yDVG8i6WEYUbcEMOgGRx168+tfKXj6aSTxprcrsTIbuQlm5P3u9fdH7LfxKuPFXwlle8DTT6Kvks5bJkAUlQeeDgD86+dzTDVcmVLG4PrHka9VZP7z1cHVhjnPD1+jujiv2qvFmn/D7wDp3gXR4Yft91EscmxFLrEOOOMgk/Q/rXyH/wiet/9Ai+/wDAd/8ACuo8efEC9+IXxSl12WP7Q0l0v2e3bkbA3yJgnuMV9jwfFT4ix2sar8MRKBFtU+ZycDgkY9VY44/TNegq9bh7DUqFOEZSkrybklqcrp080qzqTk0lorK+h8IL4X1iGRHk0q7VAwyZIWVevc8YH419Y/tKaHFJ8D/BMdnZxfaZRAF8qMbmJi4HArqfHHxO8e3nhbU4Lr4ctY28iEPcebny1P8AERt55BOOM4x15r1Hw/Z6NP4J8ITax5AMMMBtmnfaBIUAGOevp714OYZ9WdShi6kFeLekXe+iPSwuW01CpQhLdLVqx8Pal+z741+G2jw+LdRFpZW9sVkEbTASZ6hcEdSM/lXrvx88OwfFj4I6H8QrJFbUrWBftbopy6jhhwOzZOTjpj6c5+2+3iZfF1kt9Nu8POm6zjj3bFbvuzkbsfy6dz3Xwddr39krXUuGLxrHMqlgMBc5+XHTBJ9eQe/FevUxOIlTweZVJJylJLTs+hxU6VJTr4SMWopX17rqfFlFJwO9LxX6YfIBRRRQAV+hf/BKv/kX/id/1zH/AKLr89K/Qv8A4JV/8i/8Tv8ArmP/AEXQB8G+NP8AkdfEX/YSuf8A0a1FHjX/AJHXxF/2Ern/ANGtRQB7p/wTy/5O28Gf7l1/6Jarf/BRT/k6HxD/ANcov/Qaqf8ABPL/AJO28Gf7l1/6Jarf/BRT/k6HxD/1yi/9BoEfM1FFFABRS0lABRRRQAtFFFAwooooAKKKKACiiigAooooAKKKKACiiigAooooAKKKKACiiigAooooAKKKKACiiigApPWlooEepL8VdOb4Zjw88E4vBGI92B5fB9Sc/pXlvQAUUV6OOx9bMJxnX3ikl6I83AZdQy2EoUFpJtv1YV7L+z54giU6jodwyg3A3x54zgHI/lXjVWtL1S60XUIr2zlaG4ibKup6V1ZPmCy7FKrJXi9H6M5M6y55nhJUYO0lqn5rY9D8M6npPwu8basdXtLmeeF2W3MKr0z15IxkVneKPird6x41t9YtfMhtrVh5MLHnbxnPbnFc54q8V3njDUFvL4R+cF2ZjXGfrWNXRVzqvCMaGGlanGV1pZ/M5qOR4ecniMVG9SceV63XyPVviR8SvD/jzQYEFpcw6lDhldgMA45AOeR1rE+E3j2y8C6lcy30E0scqbQYccHI6+3FcJRWbzrFPGfXtPabbGsciwccD/Z+vs99zT8TapHrWv31/ErJHcStIAw5Geaj8P6mNF1yxvipYW8ocqOpx2rPpa8mGInTrLEL4k7/ADPYnh6dSg8O/hat8jufix46s/HWrWtzZxSxRwx7P3vU964WlooxOIqYutKvV+KW4sLhqeDoxw9L4Y6I9B+EvxCsfAcl+b2GWYTphfKUHnPGcnp1ritWvxf6vdXibsSzNIN3Xk5qlRXTWzCvXo06En7tPY5aOW4fD16uIgveqbnfQ/GzxPDDHEtxHtRQgOwDoMf5+g98lx8bPE9xBLE1xHslUow254II9ff9B754Lmit3nOYyVnWdjnWR5bF8yoRuem6p8ULC++GdtoEcVwL+IKDIQAoIYkEc+laC/GDSda8CnRNbs7ia58vyxJGFIyPutyRgjivIqdG/lyI4xlSDgjg13R4gxspNVGuWSUWrdEcEuG8DGMXTT5otyTvrd/oe96E/wDwr34O3NzOpS5uwwjQ9W3dB0+prwNmLMWJ5Jya3/EnjrVPFVvaW95Iogtl2xxxjCjgDp+H+GK5+sM4zCGOqQjRVqcEkjpyXLamX06kq7vUqScnb8F8gooor58+jOm+HPii38I+KIL+7jeWBQQwjALfhUnxK8VWvjDxNJqNpG8cLIF2yYBznqfw4/CuVo+lelLMK08JHBP4E7/M8uOXUIYyWOV+dq3yCrOl3zaXqdrdoSGhkV8j2NVqQ1xUqkqNSNSO6dzurU41qcqc9mrHvHxZt4fFvg3QvEMe57aEjzhGNzBWIz+ufTtWP4k+MunP4N/sbQrS4tHKCIySAABenY8kgc59a4LSfHuq6ToNzo8cqvYT/eikUED3Fc5X12Oz+UpTlhPd9qlzaa38mfGZfw7GEacMZ73sm+TXS3mu56x8OfjFaeH/AA/LpOtQXF1CMiNocH5T1U5NWvAvxX8OeDo9QiSwuxFPP5kRVVzt/ukZ4xXj1Fc9HiXH0XCSabgrJta2Oqtwtl1dVItNKbu0npc94m+Mngi6uHnm0GaWZyWZ5IUYlvU5NeLeILy31LWby5tY/Jt5pC6R4A2g9sVQorgzHOMRmlvbpadlY9DLMlw2UuX1dy17u56VofxO0/T/AIa3fh6aCY3cqsodcbSM/pXmtJS1x4vHVsbye2+yrL0R24PAUcDz+x+2+Z+rHwyeTPHIRu2sGx64Nej/ABL+Jdh4z8O6XYWkE0UtqVZ2kUBSduCBj3+lea0U6OOrUMPUwsPhna/yFWy+hiMTTxc/jp3t8zd8KeNNT8GzTyabKIzMu19wzmujPxx8UHjz4x/wH/P+QPfPn/SitKOa47DwVOlVaiuhlWyfAYmo6taipSe7Z6X4d+Ml0PFUGp66rXEUcbRhYByM9xnv0706z+Liab8RbzWYIZW0y7wskDH5sBQOPpivMqK7aef4+moJT+B3v5vucNTh3LqjqNw0muVryXY9jtZtL+J3xOsr7SrWaBFAkufMULkqPY+1Y/x58Rxax4sWzgbdFZJsJ/2z1/p+Vcn4W8bal4P+1HTWjR7hdjMygkCsS4uJLqZ5pW3SOSzMe5roxubxr4FYeC96UuafRX7I5sDk08Pj3iZv3YR5YdXbq2T6Tdx2OqWtxLH5scUgZk9QD0rtPip470vxrJYNptnJbfZ1IfzFUbs9uOw/yK4CivGp46rTw0sLG3K3fbXTzPcqZfRq4qOLlfmSa30s/I9H8afELR/EHgqw0uzsngvIdu9ygA4AHXPP41La/EfRovhv/YL2UrXwRlEuxdoOeDknOef5V5nRXZLOsVKpUqNK81Z6dPI4Y5HhIU6dNOVoPmWvXzEpaKK8I+hCuo+G/iq38H+JotQukkkgUEMIhk8/iK5eiuvCYqpgq0a9H4onFjMJSx1CWHrfDLc6b4jeKLfxh4qn1K2R44XVVCv14zXM0UVlWrSr1JVZ7vU2oUY4elGjDaOhb0fUW0nVbS9QAtBIsg/A17V8YLO38SeHdB8SJuls49ouDGQTsbGfx7V4VXRaf471TT/DtzogdZLCbrHICdvuOeP/AK1e/l2ZU8PhKuErq6lZr/Ej53Msrq4jGUcZQdnG6f8Ahf6nd+MfjHp194ROiaDaz2iMojLSgDEfPAwTz0pngD4x2ei+Gm0fWree4iVfLjaIBvlI5Ug44ryWiq/1ix/t3XcldrltbS3oT/qzl31eOH5XZPmvfW/qeqeB/idofg631u1jtbs210+bdMKSoII+bJ9/fpWB8OfG9n4R8YT6pdwyyW8ocbY+WBPOeT/nNcVRXP8A25i+elU0vTvy6dzo/sHB8lam72q25texu+ONdi8TeKb/AFKBWSKd9yhhg10Hwn+IFl4Fur972GaRJ0CoYex9/wAPT0rgqK4sPmFfDYl4un8bv+J34jLaGKwqwdRe4rfgW9WvF1DVLu5QFUmlZwD1wTVM0tFee5Ny5nueiopR5Oh6fefFLT7n4XR+HBBMLxUVDIQNhw2c1wfhzxHeeFtSW+sGVZ1BHzDIwazKK9TEZpisRWhXlK0opJNeR5WHynCYajPDxjeMm20/M9A/4Xh4oGP38Z/D/P8Akn2xGPi7q2o6ppU2rOs9rZ3An2onPH+Sfxrg8mitVnWYXTlVbs72e2hh/YOWpNRopXTV1vqeoeKvi7FeeNNO1zSopo0t02PHNj5xnngZFWPGXinSfitq2kRaZZXMOpK6qzSBcbM5IPPNeT1reF/E154S1QahY7RcKpUFxkDIxXo0s+rVpOnjXenKXM9Nb+XY82tw9Qw8FUwMbVIx5Vrpbz7nqnx+1qK1s9L8PQsW8oCSX8BgfjXitXNY1e613UJr28kMs8pyx/oKp15GaY55hi54hq19vToe1lOAWW4OGGTu1v69Qoooryj1wpKWigD6H+D37ROifD/4T6n4Yv7C4nvLgTbJI1BGWHyk59DXzy53O3ORnNJRXnYTAUcHKpOlvN3fqdVfE1MQoxn9lWQV77+xr44j8M/EltMupFjtdTiECs5/j5xj0/8Are1eBVNZ3lxpt5FdWsrQ3ETBkkQ4KkdxUZlglj8LPDvd7epWDxDw1aNXsekftHeC5PBHxW1e28vZb3Lm5gI6FWJPXGM/4113wF+Pmi/C/wAC67o2o2d1NNecRG34ULsI654OSeg6Y9K81+IXxY174niwOuyRXE1mmxJlTDkYAOT36Z+pJ71xtcv9n/XMHToY3eNr2fVG/wBa9hXnUw+zvv5lmO+e31FbuEgSJJ5inpznIPFexp+198RViVP7ShGF2/6gfX1+n8q8ToruxGX4XF2dempW7nLTxVajf2c2rnsmqftXeP8AWtPnsLjUYRbzqY22xYJUnJGSfw+hI6cV0HxU/aK03xd8O/C+kaRb3lpqOlmF5JJlAXcqbTtIOT9eO+PWvnuj8a4XkeB54zjTty9ttTpWY4nllFyvc+nPHX7R3hr4tfC+28Pa1p14+vhE2XCBceeBjIJ7Hn8x6V13jK+Hwd/ZV0/RpZlj1fWIFBhxljvGW5xwADx9Prj5A0fU5dF1S2v4FRprd96iQZUkdiO4rpPiP8Ute+KOpQ3muXXnPCnlxoo2qo+nrz1ryv7AjCtRp0dKMHzWbvr2XZHaszcqc5VPjkrfL/M4/oBS0UV9meAFFFFABX6F/wDBKv8A5F/4nf8AXMf+i6/PSv0L/wCCVf8AyL/xO/65j/0XQB8G+Nf+R18Rf9hK5/8ARrUUeNP+R18Rf9hK5/8ARrUUAe6f8E8/+TtvBn+5df8Aolqt/wDBRT/k6HxD/wBcov8A0Gqn/BPL/k7bwZ/uXX/olqt/8FFP+TofEP8A1yi/9BoEfM1bXg3R7fXtejtLpmWIqT8jYJPtWLXUfDQkeLIsEj5G6fSvPx85U8NOUHZpHk5rUnRwVSdN2aR1Fx4N8J2OoC0uL2aO54HlM+Dz06//AKsfnXNeOfBqeGZIJraUy2s4ON/VSMcfTmu08QeE9J1PxAbu71FYJRjdAWAPbH4c/wCea5/4m+IrHUo7Gzs5hc+TktIpyvIGBnvXhYCtWnXgoycota3PlspxOIqYmmozlOLXvXWifkziNOsZNUv4LWLO+RgvAziu8vvDPhzT9fs9Gl80OybpJg+DuPT8D6e/0rP+E9qs3iRpGxmOMkZ/D/P/AOusnxtdSS+LL2YM2+OTCn0weAK7qkquJxM6UJNcq/E9StOvjMZVoU5uKhHp3Zf8YeC/7H1qztrPebe64QtyQeMj36irnjbwnpPhnSbcxvM19KRwzZHA5PTpn+ddp4T1SDxPpFtd3KAz2hOSckqQPvfiK841fXIPEnjGKe8DGw81Ywi/3Pp6/wA648LicRWned7U1r5s83A4zGYio3VulRXvL+ZnNYPar2g2Mepa1Z2s5ZYZXCsVODXfC28DsFxBMc9MI3PI/wAR+YqExeHo9Y0c6OkiTtNkswOCuD/jXRUzNzpyUYNO2521s7dWlOMKcouz1Od8ceG7fw/rkdnZea6vGCA5ySScVzskMkO3ejJuGRuGM173JpMC6w+rtF510kOxF+gzxnv1/OvGPE2vXfiDVHnuhsK/KkeMbBW2W42eKXLbRLV+ZvkuZzx8eVK6ildvds0vh/4fs/EF3epeglIoty4OMH1/z/jXNTKEkcDoDxXb/CPIvdS6j9wec4HX6j/P51xNx/x8Sf7x/nXVhqkpV60W9E0d+CqznisRGT0TVvuOu8B+HdH8SW00V0063yHdw3y7cjt14/rVjw98Nzda1eQ6gZFtLZioZCB5nI5z9P51zXhJrtfEVn9iGZ9/4Y7546Yr2TxR9rHh++axwtzs5IODt7/pXiYyvXo4l0I1NJ2+R8xmGKxWGxrwkKulS1n/ACnlN54cTVNeurHQInnjt15Z3Bzzgke3NaPirwPbeG/DkF0JZJLtpFR8n5efQVyVrqN1pkhe3nkgdvlYoSDyRXpHjmZp/h/p7u5d3aMs2Rydtd9adeliqVPm91/1qeriKmKoY6hSc/cf3vTqeYUjZ28UtHNe+fWM9A0fwXpHiLw29zZSTC/VDmNnyAwB4I9TTPDXgG0k0W41DWmlgVRlVV9uB2/P+tV/hS12usyiAZtNv77cDgemPfNdN8VPtn9gw+Rn7L5n7/H4Yr491q6xf1P2mjd79fQ/PJYnFLH/ANne10cr3vrbseVzRieaZ7WGT7OG+XgnA7DNOfTbuO1+0vbSpB2kZCBXo/wruBb+G9TkYZWNjIy8HOF6YP0rU8E+Kp/F326C9hjVV42rj7pzkV21Myq05ySheMXZu56VXOq9KpOKpXhCSi3c4zwv4ZsfE3hm8ESsmq25LB85DDjA/T/Oa49lZGKsNrKcEV3PwzuGtvF91bJlI5N4KnuB/kVz3jK3S08TahFGuxVkPy+n+f6114StL29SjJ3W6+Z6GX4if1qth5u6Vmr+fQxqKPWvvf4J6L+zVcfC/QZPFnh+8ufELQf6XKlo7hnyeQQK9g+iPgiiv0f8SaD+ykugaibHw3eRXggkMLtYyAB8HH8PHNfnNfeWL658kYh8xtg9FycfpQBDRUlrbyXlxHBCu+WRgqqO5Nelr+zP8SZI1dfDchVhkfvU/wAaAPMKK9Q/4Zl+Jf8A0LMn/f1P8aP+GZfiX/0LUv8A3+T/ABoA8vor1D/hmX4l/wDQtSf9/U/xo/4Zl+Jf/Qsyf9/U/wAaAPL6K9Q/4Zk+Jf8A0LMn/f1P8aP+GZfiX/0LUv8A39T/ABoA8vor1D/hmT4l/wDQtSf9/U/xo/4Zk+Jf/Qsyf9/U/wAaAPL6K9Q/4Zl+Jf8A0LMn/f1P8aP+GZPiX/0LUn/f1P8AGgDy+ivUP+GZPiX/ANC1J/39T/Gj/hmX4l/9C1L/AN/k/wAaAPL6K9Q/4Zl+Jf8A0LMn/f5P8aP+GZPiX/0LUh/7ap/jQB5fR+Neof8ADMnxL/6FmT/v6n+NH/DMnxL/AOhZk/7+p/jQI8vor1D/AIZl+Jf/AELUn/f1P8aP+GZfiX/0LMn/AH+T/GgZ5fRXqH/DMvxL/wChZk/7/J/jR/wzJ8S/+hak/wC/qf40AeX0V6h/wzJ8S/8AoWpD/wBtU/xo/wCGZfiX/wBC1J/39T/GgDy+ivUP+GZfiX/0LMn/AH9T/Gj/AIZk+Jf/AELUg/7ap/jQB5fRXqH/AAzL8Su3hqQ/9tU/xo/4Zl+Jf/Qsyf8Af1P8aAPL6K9Q/wCGZfiX/wBC1J/39T/Gj/hmT4l/9C1J/wB/U/xoA8vor1D/AIZl+Jf/AELMn/f1P8aP+GZPiX/0LMn/AH+T/GgDy+ivUP8AhmT4l/8AQtSf9/U/xo/4Zl+Jf/Qsyf8Af5P8aAPL6K9Q/wCGZfiX/wBCzJ/3+T/Gj/hmT4l/9CzJ/wB/U/xoA8vor1D/AIZj+Jf/AELUn/f1P8aP+GZfiX/0LUn/AH+T/GgDy+ivUP8AhmT4l/8AQsyf9/U/xo/4Zk+Jf/QtSf8Af1P8aAPL6K9Q/wCGZfiX/wBC1J/3+T/Gj/hmX4l/9CzJ/wB/U/xoA8vor1D/AIZl+Jf/AELMn/f1P8aP+GZPiX/0LUn/AH9T/GgDy+ivUP8AhmT4l/8AQtSf9/U/xo/4Zl+Jf/QtSf8Af1P8aAPL6K9Q/wCGZfiX/wBC1J/39T/Gj/hmX4l/9CzL/wB/U/xoA8vor1D/AIZl+Jf/AELMn/f1P8aP+GZfiX/0LMn/AH+T/GgDy+ivUf8AhmT4l/8AQtSf9/U/xpP+GZfiX/0LMn/f1P8AGgDy+ivUP+GZfiX/ANCzJ/39T/Gj/hmT4l/9C1J/39T/ABoA8vor1D/hmX4l/wDQsyf9/U/xo/4Zl+Jf/Qsyf9/k/wAaAPL6K9Q/4Zl+Jf8A0LMn/f1P8aP+GZPiV/0LUn/f1P8AGgDy+ivUP+GZfiX/ANCzJ/3+T/Gj/hmX4l/9CzJ/3+T/ABoA8vor1D/hmT4l/wDQtSf9/k/xo/4Zl+Jf/Qsyf9/k/wAaAPL6K9Q/4Zl+Jf8A0LMn/f1P8aP+GZfiX/0LUn/f1P8AGgDy+ivUP+GZfiXj/kWpP+/qf40f8My/Ev8A6FmT/v6n+NAHl9Feof8ADMvxL/6FmT/v8n+NH/DMnxL/AOhak/7+p/jQB5fRXqH/AAzL8S/+hak/7+p/jR/wzL8S/wDoWZP+/wAn+NAHl9Feof8ADMvxL/6FmT/v6n+NH/DMnxL/AOhak/7+p/jQB5fRXqH/AAzL8S/+hZk/7+p/jR/wzL8S/wDoWZP+/qf40AeX0V6h/wAMy/Ev/oWpP+/qf40f8MyfEv8A6FmT/v6n+NAHl9Feof8ADMvxL/6FmT/v6n+NH/DMvxL/AOhZk/7/ACf40AeX0V6h/wAMy/Ev/oWpP+/qf40f8My/Ev8A6FmT/v8AJ/jQB5fRXqH/AAzL8S/+hZk/7+p/jR/wzL8S/wDoWpP+/qf40AeX0V6j/wAMyfEv/oWpP+/qf40n/DMvxL/6FmT/AL+p/jQB5fRXqH/DMnxL/wChZk/7+p/jUlj+y/8AErUNQjso/DrC4kBKq0yDOPxoA8ror0L4i/APxt8KdNt7/wATaUNPtp3McbecrZPpgV57QAUUUUAFFFFABRRRQAV+hf8AwSr/AORf+J3/AFzH/ouvz0r9C/8AglX/AMi/8Tv+uY/9F0AfBvjX/kdfEX/YSuf/AEa1FHjX/kdfEX/YSuf/AEa1FAHun/BPP/k7bwZ/uXX/AKJarf8AwUU/5Oh8Q/8AXKL/ANBqp/wTy/5O28Gf7l1/6Jarf/BRT/k6LxD/ANcov/QaBHzNXQeBNStdJ8RxXF5IsUO0jewzgnA7Vz9KO9YV6Ma9N05bM5cVh44qjKjPZm/481G01jxJPc2j+bCyqA/PJArn+PpRRVU6apQUI9DSjRjQpqnHZaHU/DXVBpviiFJDiOf5OpHJHH+T61H8Q7FrHxVeZGFlPmL755rm45HikSRGKOpyGFbniLxZc+JobRbuJBJbgjzF6tkD/CuFYedPFutH4ZLU8uOFqUse8RD4ZKz9UdB4B8SadpWg6jBdXAimYELGykhuD+fXpXHaZfHTdUhvFQSGJ93ltjB71U/CitaeDp0/aLfn3N6WX0qXtVuqj1PQj8WZDnbpMQz1/eD0x/d9DioJviImsanpYurVLKKGbzGlB3ex7e9cJR+tc/8AZeGs7Kxx/wBh4KzUYtX8z0+6+IVta+MI2iufN0x4lRmUcK2fvfy/WuV8fPpVzrRutKuElSYZkVFwA3r+Nc1+FH6fSrw+Ap4afPTfS3qbYTKqODq+1pNrSzXRnW/DfWrLRLy+a9n8hZISFPODznHHeuVnP75yCCMnp3plFdVOhGnUnUW8jto4WFGrUqx3nud58PdS0XQbG4vLu7X7c2QISCCAM8A+/wDhUvhf4jBNdvG1OTy7W6fcpxkJ6A+2MD8K8+7dBR+tcM8spVOdzbbl17Hl1Mkw9Z1JVG3KfXqrbWNnxlHpy6xJJpdwJreQ+YdoxtOeQM9q6LxR4i07UPA+n2dtc+ZcoIy8eDlcDBBrhKXOa6ZYSMpU5SbvA7ZZfCc6VSUm3T2Oq8L/APCPf8I/e/2kIxfgkRbgSTxxj8cfl9aXQz4aXwtd/bSraoA3l5BznB249ulcn2pc8YqJYPmv773uRLL+Zt+0lq77/h6Ho+l+ItG8K+E3js51udQkT5lTrvK9c+gpPCfjawvNFn07XpAOMAuvDKcDH1HWvOKX/PSuf+y6LW75r3v1OJ5Fh3Hd81+bm63PQfCmt6Voei63ZNfZDF1hJB+cbcA4BPr6dqq/DHxBYaLNf/bbgQB8FFKk7uvTH+HeuH49BR7dc1o8upyjKLb953NpZPRlCcXJ+8036o9C+GVmJ9e1DUufJh3Yftyf8B6Vx3iLUBquuXt0v3ZJCR06Z9quWni26sfDr6TBFHEkufMmH32BPT8sCsIU8Lhp06s6tTd6L0RWBwdSlXq4irvLReiCvsb4U/8ABRA/DH4f6P4YPw+sdUOnQ+V9rfy90nPfI618c0V6h7h9y65/wU6GtaNfWDfDOxhF1C8XmAxZTcCM/rXw/eXH2q7nn27PNkZ9vpk5xUVFACxyPC6ujlHU5DKcEVtDx14mUADxLrAHYDUZv/iqxKSgDd/4TvxP/wBDLrP/AIMZv/iqP+E78T/9DLrP/gxm/wDiqw6KANz/AITvxP8A9DLrP/gxm/8AiqP+E68T/wDQy6z/AODGb/4qsOigDb/4TvxP/wBDLrP/AIMZv/iqP+E68T/9DLrP/gxm/wDiqxKKANv/AITvxP8A9DLrP/gxm/8AiqX/AITvxP8A9DLrP/gxm/8AiqwqWgDb/wCE78T/APQy6z/4MZv/AIqj/hO/E/8A0Mus/wDgxm/+KrEpKAN3/hO/E/8A0Mus/wDgxm/+Ko/4TvxP/wBDLrP/AIMZv/iqwqWgDb/4TrxN38S6zj/sIzf/ABVL/wAJ34m/6GXWf/BjN/8AFVh0lAG7/wAJ34n/AOhl1n/wYzf/ABVH/CdeJ/8AoZdZ/wDBjN/8VWHRQBt/8J14n/6GXWf/AAYzf/FUf8J34n/6GXWf/BjN/wDFViUUAbn/AAnfib/oZdZ/8GM3/wAVSf8ACd+J/wDoZdZH/cRm/wDiqxKKANz/AITrxP8A9DLrP/gxm/8AiqT/AITvxP8A9DLrP/gxm/8AiqxKKANz/hOvE/8A0Mus/wDgxm/+KpP+E68T/wDQy6z/AODGb/4qsSigDc/4TvxP/wBDLrP/AIMZv/iqT/hO/E//AEMus/8Agxm/+KrEooA3P+E78T/9DLrP/gxm/wDiqP8AhO/E/wD0Mus/+DGb/wCKrDooA3P+E78T/wDQy6z/AODGb/4qj/hO/E//AEMus/8Agxm/+KrCpaANv/hO/E//AEMus/8Agxm/+Kpf+E78Tf8AQy6z/wCDGb/4qsOigDb/AOE78T/9DLrP/gxm/wDiqX/hO/E3/Qy6z/4MZv8A4qsOigDc/wCE78T/APQy6z/4MZv/AIqj/hO/E/8A0Mus/wDgxm/+KrDooA3P+E78Tf8AQy6z/wCDGb/4qk/4TrxP/wBDLrP/AIMZv/iqw6WgDc/4TvxP/wBDLrP/AIMZv/iqP+E78T/9DLrP/gxm/wDiqw6KANz/AITrxP8A9DLrP/gxm/8AiqT/AITvxP8A9DLrP/gxm/8AiqxKKANz/hO/E/8A0Mus/wDgxm/+KpP+E78T/wDQy6z/AODGb/4qsSigDc/4TrxP/wBDLrP/AIMZv/iqP+E68T/9DLrP/gxm/wDiqw6KANz/AITrxP8A9DLrP/gxm/8AiqP+E68T/wDQy6z/AODGb/4qsOigDb/4TrxP/wBDLrP/AIMZv/iqX/hOvE//AEMus/8Agxm/+KrDooA3P+E78T/9DLrP/gxm/wDiqT/hOvE3/Qy6z/4MZv8A4qsSigDc/wCE68T/APQy6z/4MZv/AIqk/wCE78T/APQy6z/4MZv/AIqsSigDc/4TvxP/ANDLrP8A4MZv/iqP+E78Tf8AQy6z/wCDGb/4qsOigDc/4TvxP/0Mus/+DGb/AOKo/wCE78T/APQy6z/4MZv/AIqsOigDbPjrxP8A9DLrP/gxm/8AiqX/AITrxP8A9DLrP/gxm/8Aiqw6KANz/hO/E/8A0Mus/wDgxm/+Ko/4TvxP/wBDLrP/AIMZv/iqw6KANv8A4TvxP/0Mus/+DGb/AOKpf+E68T/9DLrP/gxm/wDiqw6KANz/AITrxP8A9DLrP/gxm/8AiqP+E68T/wDQy6z/AODGb/4qsOigDc/4TrxP/wBDLrP/AIMZv/iqP+E78T/9DLrP/gxm/wDiqw6KANz/AITvxP8A9DLrP/gxm/8AiqT/AITrxP8A9DLrP/gxm/8AiqxKKANz/hOvE/8A0Mus/wDgxm/+KpP+E78T/wDQy6z/AODGb/4qsSigDb/4TvxP/wBDLrP/AIMZv/iqX/hO/E//AEMus/8Agxm/+KrDooA3P+E78T/9DLrP/gxm/wDiqP8AhO/E/wD0Mus/+DGb/wCKrDooA2/+E68Tf9DLrP8A4MZv/iqX/hOvE/8A0Mus/wDgxm/+KrDooA3P+E68T/8AQy6z/wCDGb/4qj/hOvE//Qy6z/4MZv8A4qsOigDb/wCE78T/APQy6z/4MZv/AIql/wCE68T/APQy6z/4MZv/AIqsOigDc/4TrxP/ANDLrP8A4MZv/iqfb/EDxRbTLMniTVhKvCs19KSPplqwKKANfWvGGu+JI449W1m/1KOM5RLu5eUL9AxOKyKKKACiiigAooooAOaKKKBBX6F/8Eq/+Rf+J3/XMf8Aouvz0r9C/wDglX/yL/xO/wCuY/8ARdAz4N8a/wDI6+Iv+wlc/wDo1qKPGv8AyOviLt/xMrn/ANGtRQB7p/wTz/5O28Gf7l1/6Jarf/BRT/k6LxD/ANcov/Qaqf8ABPL/AJO28Gf7t1/6Jarf/BRT/k6LxD/1yi/9BoEfM1FFFABRRRQAUUUUALRRRQMKKKKACiiigAooooAKKKKACiiigAooooAKKKKACiiigAooooAKKKKACiiigAooooAKKKKACiiigAooooAKKKKACiiigAooooAKKKKACiikoAWiiigAooooAKKKKACum+HngmTx/wCJIdJiuBbNICfMK7sYBPT8K5mvVP2bv+SkQc4+Qjr1/wA/j/UcuKnKnRlOO6PTyyjDEYynSqK8W9Tqj+yjdLIE/tyANnO3bzj0/Q1578Rvg7rPw6VJ7nbc2TnaJ4wcA+h9K9Z+LHgDxtrnj57vRhMLFkGGSXaoxnt/wL8efeuh+Ojf2b8H1tdTmWXUSsaFidxZ++DXi0cXV9pBOalzdOx9li8pwvsK8o0XTdPZt6M+SevFekab8Hnk8By+J9Sv/sEPWKIpkyfT69vz6VxnhbS31rxBYWaDLTTKgH1Ne6ftMXkei6Fonh6zCx2qAuY4+AMY7fU16detP2sKMHa+581gcJS+qVcZWV1HRLzOR1D9n67j8G/2/YalHqEXlCQRRryRgf59uKzvhr8E774g6fc3xulsLWE7d7qTn6V3f7M/juaZ5vDN6rXFtLlozgEKeM59j3/D8eu+NWvQfC/wKNJ0W3+zG8ZlBRcBQR8xyO5/pXnSxOIVT6vf3r7+R9FDLculhlmNvcUdV/ePmTUvDcsOuXGn2LHURFJ5YkiXIY/h9DXS+Lfg7q/g7wxaazfPGqThcw/xJkZAPvT/AIY/FGfwHNMiadbX7XLr8065K9c44zzn9K9n/aE1B9W+FOnXrpsa4MUhUdBkZrrqV60K8Kb2f4nk4fA4Otga2ITbnHp2/wAzx3RfhE3iLwDc+INO1AT3FsT5tnswQB7/AJ150fl4PFe5/suay667e6Q43291CxKnkZHTj8/8mvOPin4fXw3461S0jUrEZWkQH0JzW1CtL206M3tscWNwlNYOji6KtfR+pQ8J+DdS8XX0cNlbSSRbgskqjIjBOMn861/iH8L9S8BahLG6SXNkuALrYQuT2rc+Bfj+28Ea1cS6heyW9mYmJjVciRuMD9K2fjh8V7Hx5o+mpplzJGr83Fmw6EHjJqHVr/WeRL3TaOGwP9muq5/ve34HjtjaG+vIbdThpXCZ9MmvdF/ZUujAkra5AgdcjcuPf+VeJ+H/APkOWH/XdP5ivqv43+F/Efibw5o0fh3zjMhBkEUm3jAA9u9Z4ytUp1YQjLlTOrJsFQxGGrVqtJ1HFqyR5F40/Zw1zwvpj39rPHqMES7pBGDuGPQYryLp1r7F8C6PrXhX4Z6jH4mnzIyM6rK+4opBBBOfx/Hr6fH8+JLqTByC5/nV4HETqqSm726nPneAo4SVOVGLjzq9n0O1+GfwtuPiFLdubj7HZ2sfmSTlSfwFdB4P+BKeNrfUJNP1uN3tJWiKlOWwev0PrXoFoE8Bfs8tcwArcX0fLqTnkkY6dOv5nmvJvgx4+uvBfi6BgWe0uCI548ZypI6Vh7avVhOpTez0+R3fU8Dha1DDYiN3Je89d3sVfCvwp1TxN4xuNAx5EluzCWYjKqADz/L86ueLfhBcaD4otNAsbxNS1G4I/dKMbM9M19T+JZtN8F6Nqvie3sv9KlhDOY1+ZsgAf0/KvljwV8V5PDvjq68R6jA1/NPuypbkZ6dfSpo4nEYhSqQ2XTzNcZluAy+VPD1370ndy7ROnb9lnxELPzBd25uME+Tk/gM+tc34N+Ds/iTXtQ0W/u/7L1O2VikDrkyEDPH4V6N8N9e8T/EL4otr0BubbR1ILRyMdgToV9D3/H0qL4geKoNF+PWmXVrMMxiOKbY2OrYIP4H9ahYjEXlTcru1/TyNpZfl3JTxEYNRcuWze67o8H17Rbnw7rF1p12hSe3coQRj8aoV7h+1F4fgtde0/VYBs+2R/MFGAfevD69nD1fbUlPufHY/CvB4mdB9GFFFFdBwBRRRQB33w++D+q+ObhgVksbYxs8dw8eVYj+EfWuU17w7f+G71re+tpLdsnZ5i43DJGf0r234P/GjTfBng5oNUupriYXCpHb7f9Wh6tnvXnHxi8Vx+LPGVxdW1495ZgYi3jAQeg9q8ujVryryjNe6fS4zDYGngqdSjO9R7q5l/D/wVJ488QQ6XHOLYyZ+cjPQZ6V6w37KN0shQ67AGzwu3nv/AJ/A1yv7OP8AyUW0+jd/avQfir4A8ca14/e80Xz1ssKRIk+wbgc5xnOeB+QrlxOIqxrump8qserl2Aw08DGvOi6knK2jPJviN8INY+HOyW5K3Fm5ws8frnoR2rhK+rvj55mn/CO1stQuElvwyKSP4sdTj6Y5r5l8K6b/AGx4i06xP/LeZY+Pcgf1rswuIlUoOpPpc8fNcvhh8esNQ2dtO1+h2dj8H2/4V/L4o1LUBYxdYYNmTIO35+lampfs/wB3F4OGv6fqUeoRGPzBHGvJHcfgc/l2rrP2mr4aHougeHbYlLdE3YXgHaMD27mk/Zn8dSXDz+F71fPtpFaRGPY8Aj8f8K4nXxHsFiE9L7eR7McDgHjZZfKNnZJP+8cH8N/gnfeP9NuNQa5FhZxcCR0J3deg74rhvEOmQ6LrV1Yw3S3aQPs85OjEdf1r6i+NXiCH4X+Bo9H0S2+zC7Zk3RjG0HOSSO5/pXBfs/8AgHQvGWl6tLrNt5zRkYctjAI5PqP8+laUsZNU3iKnwvZGGKyilLEQy/DfxEryb29Dwmu++HHwuT4iWOomDURb39rHvS2K58z2r3Hwxovw08TXF54ZsbFZbq3DK0kgOXK8Eg5z3P4CvNvBsI+G3x0OmWsjSW3n+QfUowzgjPv79M1UsY6kZKCcZLUzp5PDD1aTrSU4TdtOjPIb+xm028ntbhNk0LlGU9iDiq9eu/tLeGo9H8cC8hjKJepvY44LV5FXpUantqamup83jMO8LiJ0X9lhRRRW5xhRRRQAUUUUAFFFFABRRRQAUUUUAFFFFABRR2ooAKKKKACiiigAooooAKKKKACiiigAr9C/+CVf/Iv/ABO/65j/ANF1+elfoX/wSr/5F/4nf9cx/wCi6BHwb41/5HXxF/2Ern/0a1FHjX/kdfEX/YSuf/RrUUDPdP8Agnn/AMnbeDP9y6/9EtVv/gop/wAnQ+If+uUX/oNVP+Cef/J23gz/AHLr/wBEtVv/AIKKf8nQ+If+uUX/AKDQI+ZqKKKACiiigAooooAWiiigYUUUUAFFFFABRRRQAUUUUAFFFFABRRRQAUUfjRQAUUUUAFFFFABRRRQAUUUUAJS0UUAFFFFAgpKWigAopKWgYUUlLQAUUUUCCij1ooGFJS0UCCiiigYUlLRQAUUUelAgoopKACvVf2bTj4jw88FPX/P9f615XV7Rdcv/AA7fLeadctaXKjAkj61z4im61KUF1PRy/ERwmKhXkrqLue8fGr4veJvCPjeew068SK2VVZRsBx+P+eteJ+JPGOr+LrgTapePclfuqei+wqnrWuX3iC+a81G5a6uW+9I+MmqH41nh8NCjFaK5tj8xrYypJub5W9E2dB4BvU0/xfpc8nKR3MbEZx0bP869j/aqspJtQ0a4jO9JFdRgZ9COfx/zzXz/ABSNDIsinBU5FfQGr+K9K+I3wht0uLyG313SxuQSEAsV6EfUcen4Vy4iMoYiFVLyPUy+pTrYCthZuz0kvPudP8IfClr8LPAtz4n1VViu5YS4LcskZwduPUkdOvata3v7D4//AA5u4nVIL5CR5YPKOB8rD1GT/P0r5g1b4geIdf08WV/qs9xajGInbioPD/jHWfCpf+ydQmshJ94RNgH8Olc7y+pJ+0cvfuehHP8ADwisMqb9jy2a6t9yK+0e50HxA1heRmOeCYoyt7HFfRPxv/5IromAcbIcZ9No5/8Ardq+b9U1q81m+a9vJ2mum6yEYJ/Kr2qeNNb1rTYbC91Ga4s4eI4XOVWu6ph51KlObfw7nh4bHUsPQr0En7+3/BPSv2XreR/HTSquY0gcs3YcY/rXNfHXVF1X4kak6YIiIiJAxkgV3Xwq8QaR8N/h1qesSXUMurXIKQ24b5wPp+X5e5rwy/vJNQvZrmVt0krlzk+prLDwc8ROq1psdWOrRpZfRwid38T8uxB+NJS0V6p8uX/D/wDyHLD/AK7p/Ovqb47+O9Y8D+G9Dn0icQPM+xyy5BG3OP0/nXyZFK0MiSIxV1IZWHUGtjXPGWteJbaC31O/ku4YP9Uj4wvGOK8+vhfbVYTeyPfwOZvBYSrRhdSlazXQ1PE3xW8TeLbcwahqUjQNw0afKG574rkoztkU8daSkrsjTjGPLFWR49StUrT9pVk2/M+n/GMj69+zrYzQESmGJWfIPABI7j6Vyf7Ofw1TVtRPiDUUxZ2ZzHuU4ZwAevbHBpfgh4502bw3qXhTWp1ggmjJgaTONx68/l+Ved3PjTXvC7Xei6frEg06NmjVYsbXX16e9eHCjVcZ4eOmu/kfbVsbhY1qOYVFze7sukl3PqHw/wDFPTfHXirVvDTxoYkDJG/9/AAPt6/oK8eg+Ar/APC2G0eYONKYfaUlRcgpn7ucYB6//XrxzTdYvdJv1vrO5kgu1bcJlb5gfXNdA/xW8VyXS3J1q4M6jAk4yBkcfoPyrWOBq0XJUZWTRzzzrDYxU5Y2m3KLvp1XY+svFmh+ILPQ00jwdBZ2Vv5ZBlkOCPUAY6nPXjvXzNqngHWvDfxCsLPVZRdXt1Kshlh3Pu+YZPvzWX/wuDxgDka7cj6N/n2/IV2nwf8AEEWteMG8Q+KdXWR9OjLR+exBZsHGMfiayhQrYWnLms79tzprY7B5riafInFp9X7qS8je/auu42m0W2JX7QqF3XAyAcf5614PpOntq2pW1mjKjzyCMM3QZNdH8UvGT+OPGF5fhibdW8uEE8BQf61yttcy2dxHNC5jljYMrKcEEV6eHpypYdQW9j5rMMVTxWPnWfw3/BHc/E74U3Pw1Nh9ouo7kXecbAflIxxVjxf8Hbrwn4Os9fe8jmjuAp8tQcjP4VyWveLtY8UCAarfSXvkDEfmHO2pNT8b65rOlw6de6jNcWUONkLHhcdPehQr2heS038yZVcDerywdnbl8u9zr7P4J3l58P28UC9jWIIZBEepUY/+vXmlbsPjrXrfRTpEWpTR6dyPs6nC8nJrCrWjGpG/tHfsc2Knh5uP1eLWmt+4UUUV0HCep/s4jd8RrQd8MeB7V2Pxo+L3ifwj44msNOvFgtlRXCFAf5+w/U14To2uX3h+9S70+5a1uE+7InUUazrl94gvmvNQuGurlhgyP1NebLBqeIdWeqsfRU82lRwCwtFuMr3uuxc8S+MdX8XTrLql7JclfuqzfKv0FTfD+8/s/wAaaRcZA2XCE5OBjPPPbiufp0cjQyB1OGXkV2Spp03CKseRSxEo141pu7TTPfv2rLOS41bQZ0XfE8bIGHrkEV1fwi8K23wp8Cz+JNWCx3k8W/DnBVDyB16kduD/AE5TWPF2l/ET4Qxi4vY7XXNJClFcjLEcZHqD7YxXkGr/ABA8Qa5p/wBgvtTmns8j9y2AvHTpXi06FSvRjReii9T7OvjsPgcZUxsVzSmrx7L1Pp6G+sPj98OLpXSOG9TOFB/1b9j644P+RXP/ALPOk3Gh6X4psbtCk9u4jb079Prjr/k/PHh/xhrPhbzP7L1Cay8wYbyjjP8AnFXYfiP4kt7i7mj1aZJLo5nYEfOfer+oVFGVOL9290Y/29QnVp4mpB+0Safnoek/AH/kr19jgYm/rSarbyXX7R+2MbmF3Hx0/gFeSaT4k1LQdQN9Y3b292c/vl+9z1NetfBLWLGPWNU8VeINTjN3DCSiyMA7ue/T0+lXXoypuVRa3VjHAYuniI0cM9OSTk29rE/7VeqJceJNPs1I3QxbmHGeScV4ZXQeO/FUvjLxRfapIcLNIdi56L2/Sufr0cNTdKlGD6Hz2Y4hYrFVKy2bCiiiuk84KKKKACiiigAooooAKKKKACiiigAooooAKKKKACiiigAooooAKKKKACiiigAooooAK/Qv/glX/wAi/wDE7/rmP/RdfnpX6F/8Eq/+Rf8Aid/1zH/ougD4N8a/8jr4i/7CVz/6Naijxr/yOviL/sJXP/o1qKAPdP8Agnl/ydt4M/3Lr/0S1W/+Cin/ACdF4h/65Rf+g1U/4J5/8nbeDP8Acuv/AES1W/8Agon/AMnReIf+uUX/AKDQI+Z6SijmgAooooAKWkooAKWiigYUUUUAFHNFFABRzRRQAUUUUAFFFFABzRRRQAc0UUUAHNFFFABRRRQAUUUUAFHNFFABRRRQAlFLRQIKKKKBiUtJS0CE5paSloASiiloAKSlooAKSiloAKOaSigBaKKKBiUUtJQIWiiigApKKWgYlLRSUCFpQxUYB4pKSgYUtFFACUtJS0ALuPTPFJRRQAc0UUUAFJS0UCEpaKKAAZByDg0HJ96KSgYtJS0UAHNKGYDAOBSUUAFFFFABRRRQAc0UUUAFFFFABRzRRQAc0c0UUCFDMBjOB7UlFFAw5pKWigApdzYxniko5oAOaKKKACiikoAWiiigAooooAKKKKACjmiigQc0UUUDDmiiigQUUUUDCiiigAooooAKOaKKACiiigAooooAOa/Qv/glX/yL/wATv+uY/wDRdfnpX6F/8Eq/+Rf+J3/XMf8AougR8G+Nf+R18Rf9hK5/9GtRSeNv+R18Rf8AYSuf/RrUUDPdf+Cef/J23gz/AHLr/wBEtVv/AIKKf8nQ+If+uUX/AKDVP/gnnx+1t4MOcfLdf+iWr7E/aY/4J76z8dfi1qfi618UWenwXaoqwSISy4GPSgR+V1Fffv8Aw6V8Q/8AQ66f/wB+z/hR/wAOlfEP/Q66f/37P+FAHwFRX37/AMOlfEP/AEOun/8Afs/4Uf8ADpXxD/0Oun/9+z/hQB8BUV9+/wDDpXxD/wBDrp//AH7P+FH/AA6V8Q/9Drp//fs/4UAfAdFffn/DpbxD/wBDrp//AH7P+FH/AA6W8Q/9Drp//fs/4UDPgOivvz/h0t4h/wCh10//AL9n/Cj/AIdLeIf+h1sP+/Z/woA+A6K+/P8Ah0r4h/6HXT/++D/hR/w6W8Q/9DrYf9+z/hQB8B0V9+f8Ol/EP/Q62H/fs/4Uf8OlvEP/AEOun/8Afs/4UAfAdFffn/DpXxD/ANDrp/8A37P+FH/DpbxD/wBDrYf9+z/hQB8B0V9+f8Ol/EP/AEOth/37P+FH/DpbxD/0Oun/APfs/wCFAHwHRX35/wAOlvEP/Q62H/fs/wCFH/DpbxD/ANDrp/8A37P+FAHwHRX35/w6V8Q/9Drp/wD3wf8ACj/h0t4h/wCh1sP+/Z/woA+A6K+/P+HS3iH/AKHXT/8Av2f8KP8Ah0t4h/6HXT/+/Z/woA+A6K+/P+HS/iH/AKHWw/79n/Cj/h0t4h/6HXT/APv2f8KAPgOivvz/AIdLeIf+h10//v2f8KP+HS3iH/oddP8A+/Z/woA+A6K+/P8Ah0r4h/6HXT/+/Z/wo/4dL+If+h1sP+/Z/wAKAPgOivvz/h0t4h/6HWw/79n/AAo/4dL+If8AodbD/v2f8KAPgOivvz/h0t4h/wCh1sP+/Z/wo/4dLeIf+h1sP+/Z/wAKAPgOivvz/h0t4h/6HWw/79n/AAo/4dLeIf8AodbD/v2f8KAPgOkr79/4dLeIf+h10/8A79n/AAo/4dLeIf8AodbD/v2f8KAPgOkr79/4dLeIf+h1sP8Av2f8KP8Ah0t4h/6HWw/79n/CgD4Dor78/wCHS/iH/odbD/v2f8KP+HS3iH/oddP/AO/Z/wAKAPgOivvz/h0t4h/6HXT/APv2f8KP+HS3iH/odbD/AL9n/CgD4Dor78/4dL+If+h1sP8Av2f8KP8Ah0t4h/6HWw/79n/CgD4Dor78/wCHS3iH/odbD/v2f8KP+HS3iH/odbD/AL9n/CgD4Dor78/4dLeIf+h1sP8Av2f8KP8Ah0v4h/6HWw/79n/CgD4Dor78/wCHS3iH/odbD/v2f8KP+HS3iH/odbD/AL9n/CgD4DpK+/f+HS3iH/odbD/v2f8ACj/h0t4h/wCh1sP+/Z/woA+A6Svv3/h0t4h/6HWw/wC/Z/wo/wCHS3iH/odbD/v2f8KAPgOivvz/AIdL+If+h1sP+/Z/wo/4dLeIf+h1sP8Av2f8KAPgOivvz/h0v4h/6HWw/wC/Z/wo/wCHS3iH/odbD/v2f8KAPgKlr78/4dLeIf8AoddP/wC/Z/wo/wCHS3iH/odbD/v2f8KAPgOivvz/AIdLeIf+h1sP+/Z/wo/4dLeIf+h1sP8Av2f8KAPgOivvz/h0t4h/6HWw/wC/Z/wo/wCHS3iH/odbD/v2f8KAPgKlr78/4dLeIf8AodbD/v2f8KP+HS3iH/odbD/v2f8ACgD4Dor78/4dL+If+h1sP+/Z/wAKP+HS3iH/AKHWw/79n/CgD4Dor78/4dLeIf8AodbD/v2f8KP+HS3iH/odbD/v2f8ACgD4Dor78/4dLeIf+h1sP+/Z/wAKP+HS3iH/AKHXT/8Av2f8KAPgKivv3/h0t4h/6HWw/wC/Z/wo/wCHS3iH/odbD/v2f8KAPgOivvz/AIdL+If+h1sP+/Z/wo/4dL+If+h1sP8Av2f8KAPgOj+dffn/AA6W8Q/9Drp//fs/4Uf8OlvEP/Q66f8A9+z/AIUAfAdFffn/AA6W8Q/9DrYf9+z/AIUf8Ol/EP8A0Oth/wB+z/hQB8BUtffn/DpbxD/0Oun/APfs/wCFH/DpfxD/ANDrYf8Afs/4UAfAdFffn/DpfxD/ANDrYf8Afs/4Uf8ADpbxD/0Oun/9+z/hQB8B0Yr78/4dL+If+h1sP+/Z/wAKP+HS3iH/AKHWw/79n/CgD4Dor78/4dL+If8AodbD/v2f8KP+HS/iH/odbD/v2f8ACgD4Dor78/4dLeIf+h1sP+/Z/wAKP+HS/iH/AKHWw/79n/CgD4Dor78/4dL+If8AodbD/v2f8KP+HS/iH/odbD/v2f8ACgD4Dor78/4dL+If+h1sP+/Z/wAKP+HS/iH/AKHWw/79n/CgD4Dor78/4dLeIf8AodbD/v2f8KP+HS3iH/oddP8A+/Z/woA+A6K+/P8Ah0t4h/6HXT/+/Z/wo/4dLeIf+h1sP+/Z/wAKAPgOivvz/h0t4h/6HXT/APv2f8KP+HS/iH/odbD/AL9n/CgD4Dor78/4dL+If+h1sP8Av2f8KP8Ah0v4h/6HWw/79n/CgD4Dor78/wCHS3iH/odbD/v2f8KP+HS/iH/odbD/AL9n/CgD4DxRX35/w6X8Q/8AQ62H/fs/4Uf8Ol/EP/Q62H/fs/4UAfAdFffn/DpfxD/0Oth/37P+FH/DpbxD/wBDrp//AH7P+FAHwHRX35/w6X8Q/wDQ62H/AH7P+FH/AA6X8Q/9DrYf9+z/AIUAfAdFffn/AA6X8Q/9DrYf9+z/AIUf8Ol/EP8A0Oth/wB+z/hQB8B0V9+f8Ol/EP8A0Oth/wB+z/hR/wAOlvEP/Q66f/37P+FAHwH/ADor78/4dLeIf+h10/8A79n/AAo/4dLeIf8AodbD/v2f8KAPgOkr79/4dL+If+h1sP8Av2f8KP8Ah0t4h/6HXT/+/Z/woA+A6K+/P+HS/iH/AKHWw/79n/Cj/h0v4h/6HWw/79n/AAoA+A6K+/P+HS3iH/oddP8A+/Z/wo/4dL+If+h1sP8Av2f8KAPgPFfoX/wSr/5F/wCJ3/XMf+i6of8ADpbxD/0Oth/37P8AhX0Z+yj+yXqH7MGg+M/t+uW+rDVISy+SCNm1Md8elAH5IeNf+R18Rf8AYSuf/RrUUeNP+R18Rf8AYSuf/RrUUAZ+m6pfaLeR3mnXlxp95HnZcWsrRSLkYOGUgjitz/haHjb/AKHPxF/4Np//AIuiigA/4Wh42/6HPxF/4Np//i6P+FoeNv8Aoc/EX/g2n/8Ai6KKAD/haHjb/oc/EX/g2n/+Lo/4Wh42/wCh08Rf+Daf/wCLoooAP+FoeNv+h08Rf+Da4/8Ai6P+FoeNv+hz8Rf+Daf/AOLoooEH/C0PG3/Q6eIv/Btcf/F0f8LQ8bf9Dp4i/wDBtP8A/F0UUDD/AIWh42/6HTxF/wCDaf8A+Lo/4Wh42/6HTxF/4Np//i6KKAD/AIWh42/6HTxF/wCDaf8A+Lo/4Wh42/6HTxF/4Nrj/wCLoooAX/haHjb/AKHTxF/4Nrj/AOLpP+FoeNv+h08Rf+Daf/4uiigA/wCFoeNv+hz8Rf8Ag2n/APi6P+FoeNv+hz8Rf+Daf/4uiigA/wCFoeNv+h08Rf8Ag2n/APi6X/haHjb/AKHTxF/4Np//AIuiigBP+FoeNv8AodPEX/g2n/8Ai6P+FoeNv+h08Rf+Daf/AOLoooAX/haHjb/odPEX/g2uP/i6T/haHjb/AKHTxF/4Np//AIuiigA/4Wh42/6HTxF/4Np//i6P+FoeNv8AodPEX/g2n/8Ai6KKAD/haHjb/odPEX/g2n/+Lo/4Wh42/wChz8Rf+Daf/wCLoooAP+FoeNv+hz8Rf+Daf/4uj/haHjb/AKHTxF/4Np//AIuiigA/4Wh42/6HTxF/4Np//i6P+FoeNv8Aoc/EX/g2n/8Ai6KKAD/haHjb/odPEX/g2n/+Lo/4Wh42/wCh08Rf+Daf/wCLoooAP+FoeNv+h08Rf+Da4/8Ai6P+FoeNv+h08Rf+Daf/AOLoooAP+FoeNv8AodPEX/g2uP8A4uj/AIWh42/6HTxF/wCDaf8A+LoooAP+FoeNv+h08Rf+Da4/+Lo/4Wh42/6HPxF/4Np//i6KKAD/AIWh42/6HTxF/wCDaf8A+Lo/4Wh42/6HTxF/4Nrj/wCLoooAP+FoeNv+h08Rf+Da4/8Ai6P+FoeNv+h08Rf+Daf/AOLoooAP+FoeNv8AodPEX/g2n/8Ai6P+FoeNv+hz8Rf+Daf/AOLoooAP+FoeNv8AodPEX/g2n/8Ai6P+FoeNv+h08Rf+Daf/AOLoooAP+FoeNv8AodPEX/g2n/8Ai6P+FoeNv+hz8Rf+Da4/+LoooAP+FoeNv+h08Rf+Daf/AOLo/wCFoeNv+hz8Rf8Ag2n/APi6KKAD/haHjb/odPEX/g2n/wDi6P8AhaHjb/odPEX/AINrj/4uiigA/wCFoeNv+h08Rf8Ag2n/APi6P+FoeNv+h08Rf+Daf/4uiigA/wCFoeNv+h08Rf8Ag2uP/i6P+FoeNv8AodPEX/g2uP8A4uiigA/4Wh42/wCh08Rf+Daf/wCLo/4Wh42/6HPxF/4Np/8A4uiigA/4Wh42/wCh08Rf+Daf/wCLo/4Wh42/6HTxF/4Nrj/4uiigA/4Wh42/6HTxF/4Nrj/4uj/haHjb/odPEX/g2n/+LoooAP8AhaHjb/odPEX/AINrj/4uj/haHjb/AKHTxF/4Np//AIuiigA/4Wh42/6HPxF/4Nrj/wCLo/4Wh42/6HTxF/4Np/8A4uiigA/4Wh42/wChz8Rf+Daf/wCLo/4Wh42/6HTxF/4Np/8A4uiigA/4Wh42/wCh08Rf+Daf/wCLo/4Wh42/6HTxF/4Nrj/4uiigA/4Wh42/6HTxF/4Np/8A4uj/AIWh42/6HTxF/wCDa4/+LoooAP8AhaHjb/odPEX/AINp/wD4uj/haHjb/odPEX/g2uP/AIuiigA/4Wh42/6HPxF/4Np//i6P+FoeNv8AodPEX/g2uP8A4uiigA/4Wh42/wCh08Rf+Da4/wDi6P8AhaHjb/odPEX/AINp/wD4uiigA/4Wh42/6HTxF/4Np/8A4uj/AIWh42/6HTxF/wCDa4/+LoooAP8AhaHjb/odPEX/AINrj/4uj/haHjb/AKHTxF/4Nrj/AOLoooAP+FoeNv8AodPEX/g2n/8Ai6P+FoeNv+h08Rf+Da4/+LoooAP+FoeNv+h08Rf+Da4/+Lo/4Wh42/6HTxF/4Nrj/wCLoooAP+FoeNv+h08Rf+Daf/4uj/haHjb/AKHTxF/4Np//AIuiigA/4Wh42/6HTxF/4Nrj/wCLo/4Wh42/6HTxF/4Nrj/4uiigA/4Wh42/6HTxF/4Nrj/4uj/haHjb/odPEX/g2n/+LoooAP8AhaHjb/odPEX/AINrj/4uj/haHjb/AKHTxF/4Np//AIuiigA/4Wh42/6HTxF/4Nrj/wCLo/4Wh42/6HTxF/4Np/8A4uiigA/4Wh42/wCh08Rf+Daf/wCLo/4Wh42/6HTxF/4Nrj/4uiigA/4Wh42/6HTxF/4Nrj/4uj/haHjb/odPEX/g2uP/AIuiigA/4Wh42/6HTxF/4Np//i6P+FoeNv8AodPEX/g2uP8A4uiigA/4Wh42/wCh08Rf+Da4/wDi6P8AhaHjb/odPEX/AINrj/4uiigA/wCFoeNv+h08Rf8Ag2n/APi6P+FoeNv+h08Rf+Daf/4uiigA/wCFoeNv+h08Rf8Ag2uP/i6P+FoeNv8AodPEX/g2uP8A4uiigA/4Wh42/wCh08Rf+Da4/wDi6P8AhaHjb/odPEX/AINrj/4uiigA/wCFoeNv+h08Rf8Ag2n/APi6P+FoeNv+h08Rf+Daf/4uiigA/wCFoeNv+h08Rf8Ag2n/APi6P+FoeNv+h08Rf+Da4/8Ai6KKAD/haHjb/odPEX/g2n/+Lo/4Wh42/wCh08Rf+Daf/wCLoooAP+FoeNv+h08Rf+Da4/8Ai6P+FoeNv+h08Rf+Da4/+LoooAP+FoeNv+h08Rf+Da4/+Lo/4Wh42/6HTxF/4Np//i6KKAD/AIWh42/6HTxF/wCDa4/+Lo/4Wh42/wCh08Rf+Da4/wDi6KKAD/haHjb/AKHTxF/4Nrj/AOLo/wCFoeNv+h08Rf8Ag2n/APi6KKAD/haHjb/odPEX/g2n/wDi6Rvid40dSreMvELKeCrarOQfYjfRRQBzskjyyM7sXdiWZmOSSepJooooA//Z)"
      ]
    },
    {
      "cell_type": "markdown",
      "metadata": {
        "id": "X6VIw34FHFk6",
        "colab_type": "text"
      },
      "source": [
        "For a given row in x_test, find probabilities of y being 0 or 1 using above formula.\n",
        "So what needs to be done is as follows:\n",
        "\n",
        "*   For an assumed y, find the probability of all the X values in X_test from X_train by sampling whole columns.\n",
        "*   Take product of these and multiply it with the probability of the assumed y value occuring\n",
        "*   We do not need to divide the above product with the individual probabilities of X as it is going to be common in all cases.\n",
        "\n",
        "Because the data is continuous data, we will be using the Gaussian Distribution to calculate probabilities\n",
        "\n"
      ]
    },
    {
      "cell_type": "code",
      "metadata": {
        "id": "uEXSpULEGo2L",
        "colab_type": "code",
        "colab": {}
      },
      "source": [
        "X = df[df.columns[1:-1].values]\n",
        "y = df[df.columns[-1]]\n",
        "#stratify used as thsi will guarantee correct priors of y values\n",
        "X_train, X_test, y_train, y_test = train_test_split(X, y, test_size = 0.2, stratify = y, random_state=42)"
      ],
      "execution_count": null,
      "outputs": []
    },
    {
      "cell_type": "code",
      "metadata": {
        "id": "nB4Z9PjRMDSG",
        "colab_type": "code",
        "colab": {}
      },
      "source": [
        "#Calculate probability of different Y's\n",
        "'''\n",
        "Returns a dictionary with keys as unique y values and corresponding values as \n",
        "the prior probability of that y\n",
        "'''\n",
        "def prior_y(y_train):\n",
        "    y_dic = {}\n",
        "    var = np.unique(y_train, return_counts=True)\n",
        "    for y in range(len(var[0])):\n",
        "        y_dic[var[0][y]] = var[1][y]/len(y_train)\n",
        "    return y_dic"
      ],
      "execution_count": null,
      "outputs": []
    },
    {
      "cell_type": "code",
      "metadata": {
        "id": "5rYEV_dKPL-L",
        "colab_type": "code",
        "colab": {}
      },
      "source": [
        "#Get separate dataframes for each y value and return a dictionary.\n",
        "'''\n",
        "Returns a dictionary with keys as unique y values and corresponding dataframes \n",
        "such that those dfs contain only those entries which predict the key\n",
        "'''\n",
        "def get_separate_df(X_train, y_train):\n",
        "    y_dfs = {}\n",
        "    var = np.unique(y_train)\n",
        "    for y in var:\n",
        "        inc_index = np.where(y_train==y)[0]\n",
        "        y_dfs[y] = (X_train.iloc[inc_index])\n",
        "    return y_dfs"
      ],
      "execution_count": null,
      "outputs": []
    },
    {
      "cell_type": "code",
      "metadata": {
        "id": "YeFHJGxJJ69C",
        "colab_type": "code",
        "colab": {}
      },
      "source": [
        "#This function will get us the mean and std dev of X variables\n",
        "'''\n",
        "Returns two dictionaries containing means and standard deviations of \n",
        "corresponding X values per column. Keys are unique y values.\n",
        "'''\n",
        "def get_dist(X_train, y_train):\n",
        "    y_dfs = get_separate_df(X_train, y_train)\n",
        "    y_mean = {}\n",
        "    y_std = {}\n",
        "    for y in y_dfs.keys():\n",
        "        y_mean[y] = np.mean(y_dfs[y])\n",
        "        y_std[y] = np.std(y_dfs[y])\n",
        "    return y_mean, y_std"
      ],
      "execution_count": null,
      "outputs": []
    },
    {
      "cell_type": "code",
      "metadata": {
        "id": "K0daRWxeMBdv",
        "colab_type": "code",
        "colab": {}
      },
      "source": [
        "#Calculate probabilities whenever needed using this function\n",
        "'''\n",
        "Used to calculate the probability of a random variable given the mean and \n",
        "dsatndard deviation\n",
        "'''\n",
        "def calc_probab(mean, dev, x):\n",
        "    pow = np.exp(-1*((x-mean)**2)/(2*dev*dev))\n",
        "    probab = pow/(np.sqrt(2*np.pi*dev*dev))\n",
        "    return probab"
      ],
      "execution_count": null,
      "outputs": []
    },
    {
      "cell_type": "markdown",
      "metadata": {
        "id": "me5e9mQEhpa1",
        "colab_type": "text"
      },
      "source": [
        "####We are done with all the helper functions. Now for the actual implementation"
      ]
    },
    {
      "cell_type": "code",
      "metadata": {
        "id": "7NwVx587hvWo",
        "colab_type": "code",
        "colab": {}
      },
      "source": [
        "def predict_with_Bayes(X_train, y_train, X_test, y_test):\n",
        "    priors_dic = prior_y(y_train)\n",
        "    y_mean, y_std = get_dist(X_train, y_train)\n",
        "    y_pred = []\n",
        "    #iterate thru each example\n",
        "    for i in range(len(y_test)):\n",
        "        y_temp = []\n",
        "        for y in priors_dic.keys():\n",
        "            prob = np.prod(calc_probab(y_mean[y], y_std[y], X_test.iloc[i].values).values)*priors_dic[y]\n",
        "            y_temp.append(prob)\n",
        "        max_y = np.argmax(y_temp)\n",
        "        keys = list(priors_dic)\n",
        "        y_pred.append(keys[max_y])\n",
        "    return y_pred"
      ],
      "execution_count": null,
      "outputs": []
    },
    {
      "cell_type": "code",
      "metadata": {
        "id": "9u3H-a1qQNGl",
        "colab_type": "code",
        "colab": {}
      },
      "source": [
        "y_predNB = predict_with_Bayes(X_train, y_train, X_test, y_test)\n",
        "\n",
        "cmNB = confusion_matrix(y_test, y_predNB)\n",
        "print(accuracy_score(y_test, y_predNB))\n",
        "print(cmNB)"
      ],
      "execution_count": null,
      "outputs": []
    }
  ]
}